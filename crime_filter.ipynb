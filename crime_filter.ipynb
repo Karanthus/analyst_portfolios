{
 "cells": [
  {
   "cell_type": "code",
   "execution_count": 102,
   "outputs": [],
   "source": [
    "#!pip install -r requirements.txt\n",
    "# Remove above comment before first run"
   ],
   "metadata": {
    "collapsed": false,
    "ExecuteTime": {
     "end_time": "2023-09-30T00:22:23.473654200Z",
     "start_time": "2023-09-30T00:22:23.465139500Z"
    }
   },
   "id": "6e5f085bf15dabd3"
  },
  {
   "cell_type": "code",
   "execution_count": 103,
   "outputs": [],
   "source": [
    "import pandas as pd\n",
    "\n",
    "df = pd.read_csv('data/crime_chicago.csv')"
   ],
   "metadata": {
    "collapsed": false,
    "ExecuteTime": {
     "end_time": "2023-09-30T00:22:47.169258800Z",
     "start_time": "2023-09-30T00:22:23.468649900Z"
    }
   },
   "id": "8eb87766f470964"
  },
  {
   "cell_type": "code",
   "execution_count": 104,
   "outputs": [],
   "source": [
    "df = df[['ID', 'Date', 'Primary Type', 'Description', 'Location Description']]\n",
    "\n",
    "# Renaming columns to fit into INSERT statement syntax\n",
    "DDL = '''\n",
    "    CREATE TABLE IF NOT EXISTS chicago_theft (\n",
    "        id BIGINT PRIMARY KEY,\n",
    "        date VARCHAR(255),\n",
    "        ptype VARCHAR(255),\n",
    "        description VARCHAR(255),\n",
    "        location VARCHAR(255)\n",
    "    );\n",
    "    '''\n",
    "\n",
    "df.rename(columns={'ID': 'id', 'Date': 'date', 'Primary Type': 'ptype', 'Description': 'description',\n",
    "                   'Location Description': 'location'}, inplace=True)"
   ],
   "metadata": {
    "collapsed": false,
    "ExecuteTime": {
     "end_time": "2023-09-30T00:22:47.912935100Z",
     "start_time": "2023-09-30T00:22:47.170259600Z"
    }
   },
   "id": "c438ad3137124c5b"
  },
  {
   "cell_type": "code",
   "execution_count": 105,
   "outputs": [
    {
     "data": {
      "text/plain": "                            date  ptype     description  \\\nid                                                        \n1930689   01/05/2002 09:24:00 PM  THEFT  $500 AND UNDER   \n13210062  08/27/2023 07:00:00 AM  THEFT  $500 AND UNDER   \n13210060  08/15/2023 02:20:00 PM  THEFT       OVER $500   \n13210071  09/03/2023 10:27:00 AM  THEFT   FROM BUILDING   \n13210035  08/17/2023 07:00:00 AM  THEFT  $500 AND UNDER   \n\n                             location  \nid                                     \n1930689                   GAS STATION  \n13210062                    APARTMENT  \n13210060  RESIDENCE - PORCH / HALLWAY  \n13210071                    APARTMENT  \n13210035                       STREET  ",
      "text/html": "<div>\n<style scoped>\n    .dataframe tbody tr th:only-of-type {\n        vertical-align: middle;\n    }\n\n    .dataframe tbody tr th {\n        vertical-align: top;\n    }\n\n    .dataframe thead th {\n        text-align: right;\n    }\n</style>\n<table border=\"1\" class=\"dataframe\">\n  <thead>\n    <tr style=\"text-align: right;\">\n      <th></th>\n      <th>date</th>\n      <th>ptype</th>\n      <th>description</th>\n      <th>location</th>\n    </tr>\n    <tr>\n      <th>id</th>\n      <th></th>\n      <th></th>\n      <th></th>\n      <th></th>\n    </tr>\n  </thead>\n  <tbody>\n    <tr>\n      <th>1930689</th>\n      <td>01/05/2002 09:24:00 PM</td>\n      <td>THEFT</td>\n      <td>$500 AND UNDER</td>\n      <td>GAS STATION</td>\n    </tr>\n    <tr>\n      <th>13210062</th>\n      <td>08/27/2023 07:00:00 AM</td>\n      <td>THEFT</td>\n      <td>$500 AND UNDER</td>\n      <td>APARTMENT</td>\n    </tr>\n    <tr>\n      <th>13210060</th>\n      <td>08/15/2023 02:20:00 PM</td>\n      <td>THEFT</td>\n      <td>OVER $500</td>\n      <td>RESIDENCE - PORCH / HALLWAY</td>\n    </tr>\n    <tr>\n      <th>13210071</th>\n      <td>09/03/2023 10:27:00 AM</td>\n      <td>THEFT</td>\n      <td>FROM BUILDING</td>\n      <td>APARTMENT</td>\n    </tr>\n    <tr>\n      <th>13210035</th>\n      <td>08/17/2023 07:00:00 AM</td>\n      <td>THEFT</td>\n      <td>$500 AND UNDER</td>\n      <td>STREET</td>\n    </tr>\n  </tbody>\n</table>\n</div>"
     },
     "execution_count": 105,
     "metadata": {},
     "output_type": "execute_result"
    }
   ],
   "source": [
    "df = df[df['ptype'] == 'THEFT']\n",
    "df.set_index('id', inplace=True)\n",
    "df_reset = df.reset_index(drop=True)\n",
    "\n",
    "df[:5]"
   ],
   "metadata": {
    "collapsed": false,
    "ExecuteTime": {
     "end_time": "2023-09-30T00:22:48.655116900Z",
     "start_time": "2023-09-30T00:22:47.914936900Z"
    }
   },
   "id": "489b6d6f651f2c61"
  },
  {
   "cell_type": "code",
   "execution_count": 119,
   "outputs": [
    {
     "data": {
      "text/plain": "555746"
     },
     "execution_count": 119,
     "metadata": {},
     "output_type": "execute_result"
    }
   ],
   "source": [
    "from sqlalchemy import create_engine\n",
    "\n",
    "#Placeholder localhost login\n",
    "mysql_config = {\n",
    "    'user': 'pycharm',\n",
    "    'password': 'testtest-123',\n",
    "    'host': 'localhost',\n",
    "    'database': 'crime'\n",
    "}\n",
    "\n",
    "engine = create_engine(\n",
    "    f\"mysql+mysqlconnector://{mysql_config['user']}:{mysql_config['password']}@{mysql_config['host']}/{mysql_config['database']}\")\n",
    "\n",
    "#Use only third of the data atm\n",
    "df[:len(df)-1:3].to_sql(name='chicago_theft', con=engine, if_exists='append')\n",
    "\n"
   ],
   "metadata": {
    "collapsed": false,
    "ExecuteTime": {
     "end_time": "2023-09-30T00:29:45.429309700Z",
     "start_time": "2023-09-30T00:29:28.988813100Z"
    }
   },
   "id": "21933d6071f9fd1c"
  },
  {
   "cell_type": "code",
   "execution_count": 115,
   "outputs": [
    {
     "data": {
      "text/plain": "1667237"
     },
     "execution_count": 115,
     "metadata": {},
     "output_type": "execute_result"
    }
   ],
   "source": [
    "len(df)"
   ],
   "metadata": {
    "collapsed": false,
    "ExecuteTime": {
     "end_time": "2023-09-30T00:26:47.178522600Z",
     "start_time": "2023-09-30T00:26:47.172931700Z"
    }
   },
   "id": "59b2bb0562c1fc99"
  }
 ],
 "metadata": {
  "kernelspec": {
   "display_name": "Python 3",
   "language": "python",
   "name": "python3"
  },
  "language_info": {
   "codemirror_mode": {
    "name": "ipython",
    "version": 2
   },
   "file_extension": ".py",
   "mimetype": "text/x-python",
   "name": "python",
   "nbconvert_exporter": "python",
   "pygments_lexer": "ipython2",
   "version": "2.7.6"
  }
 },
 "nbformat": 4,
 "nbformat_minor": 5
}
