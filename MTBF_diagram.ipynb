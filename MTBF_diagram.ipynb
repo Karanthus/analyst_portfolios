{
  "nbformat": 4,
  "nbformat_minor": 0,
  "metadata": {
    "colab": {
      "provenance": [],
      "authorship_tag": "ABX9TyOjL3GIh1VfhqIryMzP25sz"
    },
    "kernelspec": {
      "name": "python3",
      "display_name": "Python 3"
    },
    "language_info": {
      "name": "python"
    }
  },
  "cells": [
    {
      "cell_type": "code",
      "execution_count": 38,
      "metadata": {
        "id": "EXdq2HUXT8no"
      },
      "outputs": [],
      "source": [
        "import matplotlib.pyplot as plt\n",
        "import pandas as pd"
      ]
    },
    {
      "cell_type": "code",
      "source": [
        "data = pd.read_csv('September_MTBF.csv')"
      ],
      "metadata": {
        "id": "Y6ls-HKWZT68"
      },
      "execution_count": 39,
      "outputs": []
    },
    {
      "cell_type": "code",
      "source": [
        "data_cleared = data[['Machine name','MTBF']]\n",
        "data_cleared = data_cleared[data_cleared['MTBF'] != \"0:00:00\"]\n",
        "data_cleared = data_cleared.head() # Return the top 5 values\n",
        "data_cleared"
      ],
      "metadata": {
        "id": "f9AgzvqHZp27"
      },
      "execution_count": null,
      "outputs": []
    },
    {
      "cell_type": "code",
      "source": [
        "def to_sec():\n",
        "    time = [string.split(':') for string in list((data_cleared['MTBF']))]\n",
        "    second = []\n",
        "\n",
        "    for i in range(len(time)):\n",
        "        second.append(int(time[i][0]) * 3600 + int(time[i][1]) * 60 + int(time[i][2]))\n",
        "    return second\n",
        "\n",
        "print(to_sec())"
      ],
      "metadata": {
        "id": "oBff1Lh6fTKc"
      },
      "execution_count": null,
      "outputs": []
    },
    {
      "cell_type": "code",
      "source": [
        "machines = list(data_cleared['Machine name'])\n",
        "mtbf = list(data_cleared['MTBF'])\n",
        "values = to_sec()"
      ],
      "metadata": {
        "id": "guReC-O4Z4eJ"
      },
      "execution_count": 43,
      "outputs": []
    },
    {
      "cell_type": "code",
      "source": [
        "# Increase the figure size\n",
        "plt.figure(figsize=(10, 8))\n",
        "\n",
        "# Create the vertical bar plot\n",
        "plt.bar(machines, values, width = 0.3)\n",
        "#plt.xlabel('Machine name', fontweight = 'bold')\n",
        "plt.ylabel('MTBF in seconds')\n",
        "plt.title('MTBF')\n",
        "\n",
        "# Rotate X-axis labels for readability\n",
        "plt.xticks()\n",
        "\n",
        "# Display the MTTR values on top of the bars\n",
        "for i in range(len(values)):\n",
        "    plt.text(i, values[i] + 100, mtbf[i], ha='center', va='bottom')\n",
        "\n",
        "#plt.gca().invert_yaxis()  # Invert the Y-axis to display the first machine at the top\n",
        "plt.tight_layout()\n",
        "plt.show()"
      ],
      "metadata": {
        "id": "TIz99IVVaRdB"
      },
      "execution_count": null,
      "outputs": []
    }
  ]
}