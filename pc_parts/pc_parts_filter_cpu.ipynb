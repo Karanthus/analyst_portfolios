{
 "cells": [
  {
   "cell_type": "code",
   "execution_count": 1,
   "id": "initial_id",
   "metadata": {
    "collapsed": true,
    "ExecuteTime": {
     "end_time": "2023-09-30T10:22:40.270571400Z",
     "start_time": "2023-09-30T10:22:39.875374900Z"
    }
   },
   "outputs": [],
   "source": [
    "import pandas as pd"
   ]
  },
  {
   "cell_type": "code",
   "execution_count": 16,
   "outputs": [],
   "source": [
    "df = pd.read_csv('./data/CPU.csv')"
   ],
   "metadata": {
    "collapsed": false,
    "ExecuteTime": {
     "end_time": "2023-09-30T11:00:52.343923200Z",
     "start_time": "2023-09-30T11:00:52.337796500Z"
    }
   },
   "id": "fbb4cd277593b9a9"
  },
  {
   "cell_type": "code",
   "execution_count": 3,
   "outputs": [],
   "source": [
    "# Prices are in Indian Rupee and in String format, change it to USD and int using API\n",
    "import requests\n",
    "\n",
    "\n",
    "class CurrencyExchanger:\n",
    "    rates = {}\n",
    "\n",
    "    def __init__(self, url, headers, params):\n",
    "        response = requests.get(url, headers=headers, params=params)\n",
    "        data = response.json()\n",
    "        self.rates = data['rates']\n",
    "\n",
    "    def converter(self, params, amount):\n",
    "        exchange_rate = self.rates[params['symbols']]\n",
    "        return round(exchange_rate * amount, 2)"
   ],
   "metadata": {
    "collapsed": false,
    "ExecuteTime": {
     "end_time": "2023-09-30T10:22:40.354939200Z",
     "start_time": "2023-09-30T10:22:40.279821Z"
    }
   },
   "id": "bd6d22986c59fce5"
  },
  {
   "cell_type": "code",
   "execution_count": 17,
   "outputs": [],
   "source": [
    "# Instancing the class object\n",
    "\n",
    "url = 'https://api.apilayer.com/fixer/latest'\n",
    "headers = {\n",
    "    'apikey': 'i0khQ80cJeZhfSlcUVClOsXNtOOize60'\n",
    "}\n",
    "# We want to convert Indian Rupee to USA Dollar\n",
    "params = {\n",
    "    'base': 'INR',\n",
    "    'symbols': 'USD'\n",
    "}\n",
    "\n",
    "currency_exchanger = CurrencyExchanger(url, headers, params)\n",
    "\n",
    "#Store only the rate and use it onward to data conversion (Note: we only have 1000 request/month)\n",
    "convert_rate = currency_exchanger.rates[params['symbols']]"
   ],
   "metadata": {
    "collapsed": false,
    "ExecuteTime": {
     "end_time": "2023-09-30T11:00:56.633132700Z",
     "start_time": "2023-09-30T11:00:55.895968800Z"
    }
   },
   "id": "5fd930f39cb9ff54"
  },
  {
   "cell_type": "code",
   "execution_count": 18,
   "outputs": [
    {
     "data": {
      "text/plain": "'₹1,015'"
     },
     "execution_count": 18,
     "metadata": {},
     "output_type": "execute_result"
    }
   ],
   "source": [
    "# The smallest price is 1000 INR with a comma separator\n",
    "min(df['MRP'])"
   ],
   "metadata": {
    "collapsed": false,
    "ExecuteTime": {
     "end_time": "2023-09-30T11:00:58.967474800Z",
     "start_time": "2023-09-30T11:00:58.962402100Z"
    }
   },
   "id": "cd4337d94b22d3ee"
  },
  {
   "cell_type": "code",
   "execution_count": 19,
   "outputs": [],
   "source": [
    "# Making the price integer\n",
    "df['MRP'] = df['MRP'].str.replace('₹', '')\n",
    "df['MRP'] = df['MRP'].str.replace(',', '')\n",
    "df['MRP'] = df['MRP'].astype(int)"
   ],
   "metadata": {
    "collapsed": false,
    "ExecuteTime": {
     "end_time": "2023-09-30T11:01:00.169873700Z",
     "start_time": "2023-09-30T11:01:00.165564600Z"
    }
   },
   "id": "85d6691dd55d7859"
  },
  {
   "cell_type": "code",
   "execution_count": 20,
   "outputs": [],
   "source": [
    "# Price conversion to USD\n",
    "df['MRP'] = round(df['MRP'] * convert_rate, 2)"
   ],
   "metadata": {
    "collapsed": false,
    "ExecuteTime": {
     "end_time": "2023-09-30T11:01:02.904011100Z",
     "start_time": "2023-09-30T11:01:02.898066800Z"
    }
   },
   "id": "9717157cc079304c"
  },
  {
   "cell_type": "code",
   "execution_count": 21,
   "outputs": [
    {
     "data": {
      "text/plain": "      Unnamed: 0                                                CPU     MRP\n0              0  amd Ryzen 5 3600 with Wraith Stealth Cooler (1...  117.82\n1              1  amd Ryzen 9 5900X 3.7 GHz Upto 4.8 GHz AM4 Soc...  419.45\n2              2  processsor Ultra 3.5 GHz LGA 1150 Intel Core i...    9.14\n3              3  GIGASTAR 3.4 GHz LGA 1155 Intel i5-3570K For H...   22.72\n4              4  Intel i5-12400F 4.4 GHz Upto 4.4 GHz LGA1700 S...  156.38\n...          ...                                                ...     ...\n1435        1435  srigs 3.1 GHz LGA 1155 Intel Core i5-2400 (2nd...   15.63\n1436        1436  Bestor Dual-Sided Multifunctional Desk Pad ,Wa...    9.24\n1437        1437  Astound VGA to HDMI Converter, converts VGA & ...   12.01\n1438        1438        suryaasys 3.2 GHz LGA 1156 I5 650 Processor    9.74\n1439        1439  Dtech 3.2 GHz FM2+, FM2 AMD A8-5500B AD550BOKA...   30.04\n\n[1440 rows x 3 columns]",
      "text/html": "<div>\n<style scoped>\n    .dataframe tbody tr th:only-of-type {\n        vertical-align: middle;\n    }\n\n    .dataframe tbody tr th {\n        vertical-align: top;\n    }\n\n    .dataframe thead th {\n        text-align: right;\n    }\n</style>\n<table border=\"1\" class=\"dataframe\">\n  <thead>\n    <tr style=\"text-align: right;\">\n      <th></th>\n      <th>Unnamed: 0</th>\n      <th>CPU</th>\n      <th>MRP</th>\n    </tr>\n  </thead>\n  <tbody>\n    <tr>\n      <th>0</th>\n      <td>0</td>\n      <td>amd Ryzen 5 3600 with Wraith Stealth Cooler (1...</td>\n      <td>117.82</td>\n    </tr>\n    <tr>\n      <th>1</th>\n      <td>1</td>\n      <td>amd Ryzen 9 5900X 3.7 GHz Upto 4.8 GHz AM4 Soc...</td>\n      <td>419.45</td>\n    </tr>\n    <tr>\n      <th>2</th>\n      <td>2</td>\n      <td>processsor Ultra 3.5 GHz LGA 1150 Intel Core i...</td>\n      <td>9.14</td>\n    </tr>\n    <tr>\n      <th>3</th>\n      <td>3</td>\n      <td>GIGASTAR 3.4 GHz LGA 1155 Intel i5-3570K For H...</td>\n      <td>22.72</td>\n    </tr>\n    <tr>\n      <th>4</th>\n      <td>4</td>\n      <td>Intel i5-12400F 4.4 GHz Upto 4.4 GHz LGA1700 S...</td>\n      <td>156.38</td>\n    </tr>\n    <tr>\n      <th>...</th>\n      <td>...</td>\n      <td>...</td>\n      <td>...</td>\n    </tr>\n    <tr>\n      <th>1435</th>\n      <td>1435</td>\n      <td>srigs 3.1 GHz LGA 1155 Intel Core i5-2400 (2nd...</td>\n      <td>15.63</td>\n    </tr>\n    <tr>\n      <th>1436</th>\n      <td>1436</td>\n      <td>Bestor Dual-Sided Multifunctional Desk Pad ,Wa...</td>\n      <td>9.24</td>\n    </tr>\n    <tr>\n      <th>1437</th>\n      <td>1437</td>\n      <td>Astound VGA to HDMI Converter, converts VGA &amp; ...</td>\n      <td>12.01</td>\n    </tr>\n    <tr>\n      <th>1438</th>\n      <td>1438</td>\n      <td>suryaasys 3.2 GHz LGA 1156 I5 650 Processor</td>\n      <td>9.74</td>\n    </tr>\n    <tr>\n      <th>1439</th>\n      <td>1439</td>\n      <td>Dtech 3.2 GHz FM2+, FM2 AMD A8-5500B AD550BOKA...</td>\n      <td>30.04</td>\n    </tr>\n  </tbody>\n</table>\n<p>1440 rows × 3 columns</p>\n</div>"
     },
     "execution_count": 21,
     "metadata": {},
     "output_type": "execute_result"
    }
   ],
   "source": [
    "df"
   ],
   "metadata": {
    "collapsed": false,
    "ExecuteTime": {
     "end_time": "2023-09-30T11:01:04.031853300Z",
     "start_time": "2023-09-30T11:01:04.025395200Z"
    }
   },
   "id": "8a49aed983dee676"
  },
  {
   "cell_type": "code",
   "execution_count": 22,
   "outputs": [],
   "source": [
    "# Preparing sql export\n",
    "df.rename(columns={'Unnamed: 0': 'id', 'CPU': 'name', 'MRP': 'mrp_usd'}, inplace=True)"
   ],
   "metadata": {
    "collapsed": false,
    "ExecuteTime": {
     "end_time": "2023-09-30T11:01:07.580110100Z",
     "start_time": "2023-09-30T11:01:07.575105200Z"
    }
   },
   "id": "28f9389710cee12"
  },
  {
   "cell_type": "code",
   "execution_count": 47,
   "outputs": [],
   "source": [
    "# Data validation check\n",
    "df = df.drop_duplicates(subset=['name', 'mrp_usd'])\n",
    "df = df[df['name'].str.contains('Processor')]"
   ],
   "metadata": {
    "collapsed": false,
    "ExecuteTime": {
     "end_time": "2023-09-30T11:13:58.947830200Z",
     "start_time": "2023-09-30T11:13:58.940483600Z"
    }
   },
   "id": "75b039b8ebb31d53"
  },
  {
   "cell_type": "code",
   "execution_count": 48,
   "outputs": [],
   "source": [
    "df['architecture'] = df['name'].apply(lambda x: 'AMD' if 'amd' in x else 'INTEL')"
   ],
   "metadata": {
    "collapsed": false,
    "ExecuteTime": {
     "end_time": "2023-09-30T11:14:00.312679300Z",
     "start_time": "2023-09-30T11:14:00.307679400Z"
    }
   },
   "id": "5ca5d919ed9d7dce"
  },
  {
   "cell_type": "code",
   "execution_count": 49,
   "outputs": [
    {
     "data": {
      "text/plain": "        id                                               name  mrp_usd  \\\n0        0  amd Ryzen 5 3600 with Wraith Stealth Cooler (1...   117.82   \n1        1  amd Ryzen 9 5900X 3.7 GHz Upto 4.8 GHz AM4 Soc...   419.45   \n2        2  processsor Ultra 3.5 GHz LGA 1150 Intel Core i...     9.14   \n3        3  GIGASTAR 3.4 GHz LGA 1155 Intel i5-3570K For H...    22.72   \n4        4  Intel i5-12400F 4.4 GHz Upto 4.4 GHz LGA1700 S...   156.38   \n...    ...                                                ...      ...   \n1433  1433                  ryzen 3.9 GHz AM4 5600G Processor   180.32   \n1434  1434  amd Ryzen Processor 7 series 3.7 GHz AM4 Socke...   336.60   \n1435  1435  srigs 3.1 GHz LGA 1155 Intel Core i5-2400 (2nd...    15.63   \n1438  1438        suryaasys 3.2 GHz LGA 1156 I5 650 Processor     9.74   \n1439  1439  Dtech 3.2 GHz FM2+, FM2 AMD A8-5500B AD550BOKA...    30.04   \n\n     architecture  \n0             AMD  \n1             AMD  \n2           INTEL  \n3           INTEL  \n4           INTEL  \n...           ...  \n1433        INTEL  \n1434          AMD  \n1435        INTEL  \n1438        INTEL  \n1439        INTEL  \n\n[267 rows x 4 columns]",
      "text/html": "<div>\n<style scoped>\n    .dataframe tbody tr th:only-of-type {\n        vertical-align: middle;\n    }\n\n    .dataframe tbody tr th {\n        vertical-align: top;\n    }\n\n    .dataframe thead th {\n        text-align: right;\n    }\n</style>\n<table border=\"1\" class=\"dataframe\">\n  <thead>\n    <tr style=\"text-align: right;\">\n      <th></th>\n      <th>id</th>\n      <th>name</th>\n      <th>mrp_usd</th>\n      <th>architecture</th>\n    </tr>\n  </thead>\n  <tbody>\n    <tr>\n      <th>0</th>\n      <td>0</td>\n      <td>amd Ryzen 5 3600 with Wraith Stealth Cooler (1...</td>\n      <td>117.82</td>\n      <td>AMD</td>\n    </tr>\n    <tr>\n      <th>1</th>\n      <td>1</td>\n      <td>amd Ryzen 9 5900X 3.7 GHz Upto 4.8 GHz AM4 Soc...</td>\n      <td>419.45</td>\n      <td>AMD</td>\n    </tr>\n    <tr>\n      <th>2</th>\n      <td>2</td>\n      <td>processsor Ultra 3.5 GHz LGA 1150 Intel Core i...</td>\n      <td>9.14</td>\n      <td>INTEL</td>\n    </tr>\n    <tr>\n      <th>3</th>\n      <td>3</td>\n      <td>GIGASTAR 3.4 GHz LGA 1155 Intel i5-3570K For H...</td>\n      <td>22.72</td>\n      <td>INTEL</td>\n    </tr>\n    <tr>\n      <th>4</th>\n      <td>4</td>\n      <td>Intel i5-12400F 4.4 GHz Upto 4.4 GHz LGA1700 S...</td>\n      <td>156.38</td>\n      <td>INTEL</td>\n    </tr>\n    <tr>\n      <th>...</th>\n      <td>...</td>\n      <td>...</td>\n      <td>...</td>\n      <td>...</td>\n    </tr>\n    <tr>\n      <th>1433</th>\n      <td>1433</td>\n      <td>ryzen 3.9 GHz AM4 5600G Processor</td>\n      <td>180.32</td>\n      <td>INTEL</td>\n    </tr>\n    <tr>\n      <th>1434</th>\n      <td>1434</td>\n      <td>amd Ryzen Processor 7 series 3.7 GHz AM4 Socke...</td>\n      <td>336.60</td>\n      <td>AMD</td>\n    </tr>\n    <tr>\n      <th>1435</th>\n      <td>1435</td>\n      <td>srigs 3.1 GHz LGA 1155 Intel Core i5-2400 (2nd...</td>\n      <td>15.63</td>\n      <td>INTEL</td>\n    </tr>\n    <tr>\n      <th>1438</th>\n      <td>1438</td>\n      <td>suryaasys 3.2 GHz LGA 1156 I5 650 Processor</td>\n      <td>9.74</td>\n      <td>INTEL</td>\n    </tr>\n    <tr>\n      <th>1439</th>\n      <td>1439</td>\n      <td>Dtech 3.2 GHz FM2+, FM2 AMD A8-5500B AD550BOKA...</td>\n      <td>30.04</td>\n      <td>INTEL</td>\n    </tr>\n  </tbody>\n</table>\n<p>267 rows × 4 columns</p>\n</div>"
     },
     "execution_count": 49,
     "metadata": {},
     "output_type": "execute_result"
    }
   ],
   "source": [
    "df"
   ],
   "metadata": {
    "collapsed": false,
    "ExecuteTime": {
     "end_time": "2023-09-30T11:14:01.115936900Z",
     "start_time": "2023-09-30T11:14:01.107786100Z"
    }
   },
   "id": "919359fa3f69e95a"
  },
  {
   "cell_type": "code",
   "execution_count": 50,
   "outputs": [
    {
     "data": {
      "text/plain": "267"
     },
     "execution_count": 50,
     "metadata": {},
     "output_type": "execute_result"
    }
   ],
   "source": [
    "#sql export\n",
    "from sqlalchemy import create_engine\n",
    "\n",
    "#Placeholder localhost login\n",
    "mysql_config = {\n",
    "    'user': 'pycharm',\n",
    "    'password': 'testtest-123',\n",
    "    'host': 'localhost',\n",
    "    'database': 'projectcpu'\n",
    "}\n",
    "\n",
    "engine = create_engine(\n",
    "    f\"mysql+mysqlconnector://{mysql_config['user']}:{mysql_config['password']}@{mysql_config['host']}/{mysql_config['database']}\")\n",
    "\n",
    "#Use only third of the data atm\n",
    "df.to_sql(name='cpu', con=engine, if_exists='append', index=False)\n",
    "\n"
   ],
   "metadata": {
    "collapsed": false,
    "ExecuteTime": {
     "end_time": "2023-09-30T11:14:12.677878Z",
     "start_time": "2023-09-30T11:14:12.640619100Z"
    }
   },
   "id": "1e5b56df9353de02"
  },
  {
   "cell_type": "code",
   "execution_count": 51,
   "outputs": [
    {
     "name": "stdout",
     "output_type": "stream",
     "text": [
      "(0, 'amd Ryzen 5 3600 with Wraith Stealth Cooler (100-000000031) 3.6 Ghz Upto 4.2 GHz AM4 Socket 6 Cores 12 Threads 3 MB L2 32 MB L3 Desktop Processor', 117.82, 'AMD')\n",
      "(1, 'amd Ryzen 9 5900X 3.7 GHz Upto 4.8 GHz AM4 Socket 12 Cores 24 Threads Desktop Processor', 419.45, 'AMD')\n",
      "(2, 'processsor Ultra 3.5 GHz LGA 1150 Intel Core i3 4150 3.5Ghz 4th generation Processor', 9.14, 'INTEL')\n",
      "(3, 'GIGASTAR 3.4 GHz LGA 1155 Intel i5-3570K For H61 Motherboard 3rd Generation Processor', 22.72, 'INTEL')\n",
      "(4, 'Intel i5-12400F 4.4 GHz Upto 4.4 GHz LGA1700 Socket 6 Cores 12 Threads Desktop Processor', 156.38, 'INTEL')\n",
      "(5, 'amd Ryzen 5 5600G 3.9 GHz Upto 4.4 GHz AM4 Socket 6 Cores 12 Threads 3 kB L2 16 kB L3 Desktop Processor', 150.26, 'AMD')\n",
      "(6, 'betaohm 3.4 GHz LGA 1155 Intel Core i5 3570 3rd Generation Processor Excellent Performance Processor Processor', 19.6, 'INTEL')\n",
      "(7, 'amd Ryzen 5 5600X 3.7 GHz Upto 4.6 GHz AM4 Socket 6 Cores 12 Threads Desktop Processor', 199.55, 'AMD')\n",
      "(8, 'GIGASTAR 3.4 GHz LGA 1155 INTEL CORE I5-3570 Processor', 19.6, 'INTEL')\n",
      "(9, 'Intel i3-10105F 3.7 GHz Upto 3.7 GHz LGA 1200 Socket 4 Cores 8 Threads Desktop Processor', 85.34, 'INTEL')\n",
      "(10, 'amd Ryzen 7 3700X with Wraith Prism & RGB LED Cooler (100-100000071BOX) 3.6 Ghz Upto 4.4 Ghz AM4 Socket 8 Cores 16 Threads 4 MB L2 32 MB L3 Desktop Processor', 336.6, 'AMD')\n",
      "(11, 'amd Ryzen 9 3900XT 3.8 GHz Upto 4.7 GHz AM4 Socket 12 Cores 24 Threads Desktop Processor', 516.86, 'AMD')\n",
      "(12, 'Intel Core i3-10100 3.6 GHz Upto 4.3 GHz LGA 1200 Socket 4 Cores 8 Threads 6 MB Smart Cache Desktop Processor', 115.4, 'INTEL')\n",
      "(13, 'amd Ryzen 3 3200G with Radeon Vega 8 Graphics (YD3200C5FHBOX) 3.6 Ghz Upto 4 GHz AM4 Socket 4 Cores 4 Threads 2 MB L2 4 MB L3 Desktop Processor', 95.17, 'AMD')\n",
      "(14, 'Intel I5 3570 3.8 GHz LGA 1155 Socket 4 Cores Desktop Processor', 24.57, 'INTEL')\n",
      "(15, 'amd Ryzen 5 7600X 4.7 GHz Upto 5.3 GHz AM5 Socket 6 Cores 12 Threads Desktop Processor', 287.21, 'AMD')\n",
      "(16, 'amd Ryzen 7 3800XT 3.9 GHz Upto 4.7 GHz AM4 Socket 8 Cores 16 Threads Desktop Processor', 424.97, 'AMD')\n",
      "(17, 'amd Ryzen 9 5950X 3.4 GHz Upto 4.9 GHz AM4 Socket 16 Cores 32 Threads Desktop Processor', 623.82, 'AMD')\n",
      "(18, 'processsor Ultra 3.4 GHz LGA 1155 Core i3 3240 Processor 3rd generation For H61 Motherboard (refurbished) Processor', 9.5, 'INTEL')\n",
      "(19, 'Intel i5-13600K 2.6 GHz LGA1700 Socket 6 Cores Desktop Processor', 347.44, 'INTEL')\n",
      "(20, 'Intel i5 3570 3.4 GHz Upto 4 GHz LGA 1155 Socket 4 Cores 4 Threads 8 MB Smart Cache Desktop Processor', 40.14, 'INTEL')\n",
      "(21, 'betaohm 3.7 GHz LGA 1151 Intel Core i3-6100 6th Generation 3.7 GHz LGA 1151 Socket 2 Cores 4 Threads 3 MB Processor', 23.32, 'INTEL')\n",
      "(22, 'Intel i3-12100F 4.3 GHz Upto 4.3 GHz LGA1700 Socket 4 Cores 8 Threads Desktop Processor', 103.7, 'INTEL')\n",
      "(23, 'amd Ryzen 7 5700G 3.8 GHz Upto 4.6 GHz AM4 Socket 8 Cores 16 Threads 4 kB L2 16 kB L3 Desktop Processor', 224.8, 'AMD')\n",
      "(24, 'Intel I7 3770 3.9 GHz LGA 1155 Socket 4 Cores Desktop Processor', 57.59, 'INTEL')\n",
      "(25, 'Intel I7 3770 3.4 GHz LGA 1155 Socket 4 Cores Desktop Processor', 54.04, 'INTEL')\n",
      "(26, 'Intel I7 3770 3.4 GHz LGA 1155 Socket 4 Cores Desktop Processor', 59.5, 'INTEL')\n",
      "(27, 'amd Ryzen 7 5800X 3.8 GHz Upto 4.7 GHz AM4 Socket 8 Cores 16 Threads Desktop Processor', 282.5, 'AMD')\n",
      "(28, 'Intel Core i5-2500K 3.3 GHz Upto 3.7 GHz LGA 1155 Socket 4 Cores 4 Threads 6 MB Smart Cache Desktop Processor', 27.65, 'INTEL')\n",
      "(29, 'amd Ryzen 5 5600 3.5 GHz Upto 4.4 GHz AM4 Socket 6 Cores 12 Threads Desktop Processor', 189.94, 'AMD')\n",
      "(30, 'Intel Core i5-3570 3.4 GHz Upto 3.8 GHz LGA 1155 Socket 4 Cores 4 Threads 6 MB Smart Cache Desktop Processor', 30.01, 'INTEL')\n",
      "(31, 'Intel Core i5-4570 (4TH Gen) Quad-Core 6MB Cache 3.2 GHz LGA 1150 Socket 4 Cores Desktop Processor', 28.82, 'INTEL')\n",
      "(32, 'amd Ryzen 5 5500 3.6 GHz Upto 4.2 GHz AM4 Socket 6 Cores 12 Threads Desktop Processor', 141.81, 'AMD')\n",
      "(33, 'Intel i5 4570 3.3 GHz LGA 1150 Socket 4 Cores Desktop Processor', 37.85, 'INTEL')\n",
      "(34, 'Intel i7-12700F 4.9 GHz Upto 4.9 GHz LGA1700 Socket 12 Cores 20 Threads Desktop Processor', 329.39, 'INTEL')\n",
      "(35, 'Intel I7-11700F 4.9 GHz Upto 4.9 GHz LGA 1200 Socket 8 Cores 16 Threads Desktop Processor', 318.8, 'INTEL')\n",
      "(36, 'Intel I5 3570 3.8 GHz LGA 1155 Socket 4 Cores Desktop Processor', 21.52, 'INTEL')\n",
      "(37, 'Intel Core i3 10th Gen 10100f 3.6 GHz LGA 1200 Socket 4 Cores Desktop Processor', 95.45, 'INTEL')\n",
      "(38, 'processsor Ultra 3.1 GHz LGA 1155 Core i3 2nd Generation Support H61 Motherboards Processor', 5.6, 'INTEL')\n",
      "(39, 'Intel I5-4590(4Th Gen) 6 MB Cache 3.3 GHz LGA 1150 Socket 4 Cores Desktop Processor', 40.54, 'INTEL')\n",
      "(82, 'wnd 3.4 GHz LGA 1155 Intel Core i5-2400 Processor', 12.01, 'INTEL')\n",
      "(83, 'Intel i5-12600K 4.9 GHz Upto 4.9 GHz LGA1700 Socket 10 Cores 16 Threads Desktop Processor', 330.59, 'INTEL')\n",
      "(84, 'Intel i3-10105 4.4 GHz Upto 4.4 GHz LGA 1200 Socket 4 Cores 8 Threads Desktop Processor', 120.21, 'INTEL')\n",
      "(85, 'Intel Core i3-3240 3.4 GHz LGA 1155 Socket 2 Cores 4 Threads 3 MB Smart Cache Desktop Processor', 20.43, 'INTEL')\n",
      "(88, 'Intel i9-12900 5.1 GHz Upto 5.1 GHz LGA1700 Socket 16 Cores 24 Threads Desktop Processor', 577.04, 'INTEL')\n",
      "(89, 'Intel core I5 3rd Gen 3570 3.4 GHz LGA 1155 Socket 4 Cores Desktop Processor', 30.06, 'INTEL')\n",
      "(92, 'Intel i5 650 LGA 1156 3.2 GHz LGA 1156 Socket 2 Cores Desktop Processor', 22.84, 'INTEL')\n",
      "(93, 'GIGASTAR 3.4 GHz LGA 1155 Intel i3 (3240) 3rd Gen Processor for H61 Chipset Processor', 9.62, 'INTEL')\n",
      "(94, 'Intel Core i9-10850K 3.6 GHz Upto 5.2 GHz LGA 1200 Socket 10 Cores 20 Threads 20 MB Smart Cache Desktop Processor', 456.32, 'INTEL')\n",
      "(95, 'Intel i3 (3220) 3rd Generation Processor for H61 Motherboards 3.3 GHz LGA 1155 Socket 2 Cores Desktop Processor', 20.55, 'INTEL')\n",
      "(97, 'amd RYZEN 5 5600 SERIES 5000 3.5 GHz AM4 Socket 6 Cores 3 MB L2 32 MB L3 Desktop Processor', 228.41, 'AMD')\n",
      "(98, 'amd Ryzen 9 7950X 4.5 GHz Upto 5.7 GHz AM5 Socket 16 Cores 32 Threads Desktop Processor', 733.33, 'AMD')\n",
      "(99, 'Intel i5-4590S (4TH Gen) 6MB Cache, 3 GHz LGA 1150 Socket 4 Cores Desktop Processor', 31.98, 'INTEL')\n",
      "(100, 'amd Ryzen 7 5700X 3.4 GHz Upto 4.6 GHz AM4 Socket 8 Cores 16 Threads Desktop Processor', 236.3, 'AMD')\n",
      "(101, 'PROCESSORE 3.1 GHz LGA 1155 intel core i5 2400 2nd gen Processor', 12.2, 'INTEL')\n",
      "(102, 'Teratech 2200 GHz LGA 775 Heatsink Processor', 4.2, 'INTEL')\n",
      "(103, 'amd Ryzen 7 7700X 4.5 GHz Upto 5.4 GHz AM5 Socket 8 Cores 16 Threads Desktop Processor', 396.61, 'AMD')\n",
      "(104, 'Intel i5-4460 ( 4Th Generation ) 6 MB Smart Cache, 3.2 GHz LGA 1150 Socket 4 Cores Desktop Processor', 37.87, 'INTEL')\n",
      "(105, 'Intel i5-4590T (4TH Gen) 6MB Cache, 2 GHz LGA 1150 Socket 4 Cores Desktop Processor', 34.86, 'INTEL')\n",
      "(106, 'Intel Core i5 3470 3.6 GHz LGA 1155 Socket 4 Cores Desktop Processor', 20.44, 'INTEL')\n",
      "(107, 'Intel Pentium Gold G6400 4 GHz LGA 1200 Socket 2 Cores 4 Threads 4 MB Smart Cache Desktop Processor', 76.93, 'INTEL')\n",
      "(108, 'Intel I7 4770 3.4 GHz LGA 1150 Socket 2 Cores Desktop Processor', 73.94, 'INTEL')\n",
      "(109, 'Intel Core i5-4570S (4TH Gen) Quad-Core 6MB Cache 2.9 GHz LGA 1150 Socket 4 Cores Desktop Processor', 33.66, 'INTEL')\n",
      "(110, 'Intel Core i7-10700K 3.8 GHz Upto 5.1 GHz LGA 1200 Socket 8 Cores 16 Threads 16 MB Smart Cache Desktop Processor', 342.61, 'INTEL')\n",
      "(111, 'Intel CORE I5 4590 ( 4TH GENERATION ) PROCESSOR 3.3 GHz Upto 3.7 GHz LGA 1150 Socket 4 Cores 4 Threads 6 MB Smart Cache Desktop Processor', 37.27, 'INTEL')\n",
      "(112, 'Intel Core i5-10600K 4.1 GHz Upto 4.8 GHz LGA 1200 Socket 6 Cores 12 Threads 12 MB Smart Cache Desktop Processor', 270.48, 'INTEL')\n",
      "(113, 'Intel Core(TM) i7-10700F 2.9 GHz LGA 1200 Socket 8 Cores Desktop Processor', 300.54, 'INTEL')\n",
      "(114, 'Intel i9-12900F 5.1 GHz Upto 5.1 GHz LGA1700 Socket 16 Cores 24 Threads Desktop Processor', 565.02, 'INTEL')\n",
      "(115, 'Refurb 3.2 GHz LGA 1150 Corei5 4th Processor', 23.92, 'INTEL')\n",
      "(116, 'Intel Core i5-3470 3.2 GHz Upto 3.6 GHz LGA 1155 Socket 4 Cores 4 Threads 6 MB Smart Cache Desktop Processor', 32.87, 'INTEL')\n",
      "(117, 'Intel I7-11700K 5 Ghz Upto 5 GHz LGA 1200 Socket 8 Cores 16 Threads Desktop Processor', 372.67, 'INTEL')\n",
      "(118, 'suryaasys 3.7 GHz LGA 1150 core i5 4590 Processor', 28.85, 'INTEL')\n",
      "(119, 'amd Ryzen 9 7900X 4.7 GHz Upto 5.6 GHz AM5 Socket 12 Cores 24 Threads Desktop Processor', 533.66, 'AMD')\n",
      "(202, 'Intel 3570 3.4 GHz LGA 1155 Socket 4 Cores Desktop Processor', 21.64, 'INTEL')\n",
      "(203, 'Intel G6405 4.1 GHz Upto 4.1 GHz LGA 1200 Socket 2 Cores 4 Threads Desktop Processor', 66.11, 'INTEL')\n",
      "(204, 'Intel Core i9-9980XE Extreme Edition 3 GHz Upto 4.4 GHz LGA 2066 Socket 18 Cores 36 Threads Desktop Processor', 961.75, 'INTEL')\n",
      "(205, 'Intel I9-12900KF 5.2 GHz Upto 5.2 GHz LGA1700 Socket 16 Cores 24 Threads Desktop Processor', 593.87, 'INTEL')\n",
      "(209, 'amd Ryzen 5 4500 3.6 GHz Upto 4.1 GHz AM4 Socket 6 Cores 12 Threads Desktop Processor', 133.43, 'AMD')\n",
      "(212, 'amd Ryzen� 5 7600 3.8 GHz Upto 5.1 GHz AM5 Socket 6 Cores 12 Threads 6 MB L2 32 MB L3 Desktop Processor', 273.98, 'AMD')\n",
      "(213, 'Intel Core i9-10900X X-series 3.7 GHz LGA 2066 Socket 10 Cores Desktop Processor', 769.4, 'INTEL')\n",
      "(214, 'Intel i5 2500 3.7 GHz LGA 1155 Socket 2 Cores Desktop Processor', 18.93, 'INTEL')\n",
      "(215, 'GIGASTAR 3.2 GHz LGA 1156 Intel Core i5-650 For H55 Motherboard 1st Generation Processor', 9.2, 'INTEL')\n",
      "(216, 'Intel Core i5-4670 (4TH Gen) Quad-Core 6MB Cache 3.4 GHz LGA 1150 Socket 4 Cores Desktop Processor', 36.05, 'INTEL')\n",
      "(217, 'Intel Core i9-10900KF 3.7 GHz Upto 5.3 GHz LGA 1200 Socket 10 Cores 20 Threads 20 MB Smart Cache Desktop Processor', 516.93, 'INTEL')\n",
      "(218, 'PROCESSORE 3.2 GHz LGA 1150 I3 6TH 6100T Processor', 43.27, 'INTEL')\n",
      "(219, 'Intel I5-11500 4.6 GHz Upto 4.6 GHz LGA 1200 Socket 6 Cores 12 Threads Desktop Processor', 252.45, 'INTEL')\n",
      "(220, 'wnd 3.06 GHz LGA 775 Intel Core 2 Duo E7600/3.06/3M/1066 MHz Processor', 4.93, 'INTEL')\n",
      "(221, 'betaohm 2.6 GHz LGA 1155 Intel G620 Processor', 4.32, 'INTEL')\n",
      "(222, 'Intel Core i3-2120 3.3 GHz LGA 1155 Socket 2 Cores 4 Threads 3 MB Smart Cache Desktop Processor', 9.62, 'INTEL')\n",
      "(223, 'amd Ryzen 5 3500X 6 Cores & 6 Threads up to 4.1GHz 3.6 GHz Upto 4.1 GHz AM4 Socket 6 Cores 6 Threads 3 MB L2 32 MB L3 Desktop Processor', 129.24, 'AMD')\n",
      "(224, 'amd R7 3700X 3.6 GHz Upto 4.4 GHz AM4 Socket 8 Cores 16 Threads 4 MB L2 32 MB L3 Desktop Processor', 336.6, 'AMD')\n",
      "(225, 'Intel Core i9-10980XE Extreme Edition 3 GHz Upto 4.6 GHz LGA 2066 Socket 18 Cores 36 Threads 25 MB Smart Cache Desktop Processor', 1050.36, 'INTEL')\n",
      "(226, 'Intel i9-10940X 4.6 GHz Upto 4.6 GHz LGA 2066 Socket 14 Cores 28 Threads Desktop Processor', 841.53, 'INTEL')\n",
      "(227, 'wnd 3.06 GHz LGA 1156 Intel Core i3-540 3.06 GHz Processor', 12.01, 'INTEL')\n",
      "(228, 'Intel i7-11700 2.5 GHz Upto 2.5 GHz LGA 1200 Socket 8 Cores 16 Threads Desktop Processor', 323.38, 'INTEL')\n",
      "(229, 'Intel I3-10100F LGA1200 3.6 GHz Upto 4.3 GHz LGA 1200 Socket 4 Cores 8 Threads 6 MB Smart Cache Desktop Processor', 84.13, 'INTEL')\n",
      "(230, 'Intel Core i7 7700 3.6 GHz LGA 1151 Socket 4 Cores Desktop Processor', 169.51, 'INTEL')\n",
      "(231, 'wnd 2.93 GHz LGA 775 Intel Core 2 Duo E7500/2.93/3M/1066 MHz Processor', 4.8, 'INTEL')\n",
      "(232, 'Intel CORE I5 2400 PROCESSOR ( 2ND GENERATION ) 3.1 GHz Upto 3.4 GHz LGA 1155 Socket 4 Cores 4 Threads 6 MB Smart Cache Desktop Processor', 27.52, 'INTEL')\n",
      "(233, 'WDNET 3.4 GHz LGA 1151 INTEL CORE I5 6TH GEN PROCESSOR Processor', 78.13, 'INTEL')\n",
      "(234, 'Intel CORE I5 3470 PROCESSOR ( 3RD GENERATION ) 3.2 GHz Upto 3.6 GHz LGA 1155 Socket 4 Cores 4 Threads 6 MB Smart Cache Desktop Processor', 38.58, 'INTEL')\n",
      "(235, 'MULTIHOB 3.2 GHz LGA 1155 i5 3470 3.20Ghz Processor', 20.43, 'INTEL')\n",
      "(236, 'KAVTRON 3 GHz LGA 775 intel Core2 Duo E8400 3.0Ghz G31/G35/G41/G45 Motherboard LGA775 6MB Processor Processor', 8.4, 'INTEL')\n",
      "(237, 'WDNET 3.3 GHz LGA 1155 INTEL CORE I3 4TH GEN PROCESSOR Processor', 36.05, 'INTEL')\n",
      "(238, 'amd Ryzen� 9 7900X 3D 4.4 GHz Upto 5.6 GHz AM5 Socket 12 Cores 24 Threads 12 MB L2 128 MB L3 Desktop Processor', 673.22, 'AMD')\n",
      "(239, 'Intel I7 4790 4 GHz LGA 1150 Socket 4 Cores Desktop Processor', 75.74, 'INTEL')\n",
      "(364, 'Intel i5-4670 ( 4Th Generation ) 6 MB Smart Cache, 3.4 GHz LGA 1150 Socket 4 Cores Desktop Processor', 35.46, 'INTEL')\n",
      "(365, 'Intel Core i3-540 3.06 GHz LGA 1156 Socket 2 Cores 4 Threads 4 MB Smart Cache Desktop Processor', 16.23, 'INTEL')\n",
      "(368, 'Intel Core i5 3570 Best Performance 3rd Generation 3.4 GHz LGA 1155 Socket 4 Cores Desktop Processor', 28.64, 'INTEL')\n",
      "(369, 'Gigatech 4 GHz LGA 1151 core i7 6th generation (OEM Tray) Desktop processor Processor', 136.04, 'INTEL')\n",
      "(372, 'Intel Core 2 Duo (E8400) 6M Cache , 3 GHz LGA 775 Socket 2 Cores Desktop Processor', 21.64, 'INTEL')\n",
      "(373, 'Intel I7-11700 4.9 GHz Upto 4.9 GHz LGA 1200 Socket 8 Cores 16 Threads Desktop Processor', 360.65, 'INTEL')\n",
      "(374, 'Intel I5 6500 3.2 GHz LGA 1151 Socket 4 Cores Desktop Processor', 62.51, 'INTEL')\n",
      "(375, 'Intel Core i3 2120 2nd Generation 3.3 GHz LGA 1155 Socket 2 Cores Desktop Processor', 15.02, 'INTEL')\n",
      "(377, 'KAVTRON 3.4 GHz LGA 1155 3rd Gen Processor in-tel Core i3-3240 3.4Ghz for H71 or H61 Motherboard LGA-1155 Processor', 27.04, 'INTEL')\n",
      "(378, 'Intel i5-11400 4.4 GHz Upto 4.4 GHz LGA 1200 Socket 6 Cores 12 Threads Desktop Processor', 178.14, 'INTEL')\n",
      "(379, 'Intel i5-11400F 4.4 GHz Upto 2.6 GHz LGA 1200 Socket 6 Cores 12 Threads Desktop Processor', 156.29, 'INTEL')\n",
      "(380, 'betaohm 3.2 GHz LGA 1151 Intel Core I5-6500 3.2 GHz 4 Cores 4 Threads 6 MB Smart Cache Processor', 62.27, 'INTEL')\n",
      "(381, 'OCTA 2.93 GHz LGA 775 E7500 Processor', 7.81, 'INTEL')\n",
      "(382, 'Intel 6100 3.7 GHz LGA 1151 Socket 2 Cores 4 Threads Desktop Processor', 31.26, 'INTEL')\n",
      "(383, 'Intel 3570 processor 3.8 GHz LGA 1155 Socket 4 Cores Desktop Processor', 22.71, 'INTEL')\n",
      "(384, 'Intel i5-4690(4Th Generation ) 6 MB Smart Cache, 3.5 GHz LGA 1150 Socket 4 Cores Desktop Processor', 39.66, 'INTEL')\n",
      "(385, 'TAJ PC 3.4 GHz LGA 1155 I5 3570 3rd generation Processor', 26.44, 'INTEL')\n",
      "(386, 'Intel Core i3 2100 3.1 GHz LGA 1155 Socket 2 Cores Desktop Processor', 10.82, 'INTEL')\n",
      "(387, 'Etake 3.6 GHz LGA 775 CPU Fan Cooler and Heat-Sink Cooling Fan 12V DC Processor', 4.2, 'INTEL')\n",
      "(388, 'GIGASTAR 3.2 GHz LGA 1151 INTEL CORE I3 6100T Processor', 81.15, 'INTEL')\n",
      "(389, 'Intel 2400 3.1 GHz LGA 1155 Socket 8 Cores Desktop Processor', 27.63, 'INTEL')\n",
      "(390, 'wnd 3.4 GHz LGA 1155 Intel Core i5 3570 Best Performance 3rd Generation Processor', 26.21, 'INTEL')\n",
      "(391, 'Intel i9-10920X 4.6 GHz Upto 4.6 GHz LGA 2066 Socket 12 Cores 24 Threads Desktop Processor', 733.33, 'INTEL')\n",
      "(392, '22 TECH 2.93 GHz LGA 775 INTEL 2.93 Core Two Duo High Speed Processor Processor', 8.4, 'INTEL')\n",
      "(393, 'suryaasys 3.6 GHz LGA 1151 I3 8100 Processor', 60.11, 'INTEL')\n",
      "(394, 'Intel e-7500 2.93 GHz Upto 2.93 GHz LGA 775 Socket 2 Cores 2 Threads 3 MB Smart Cache Desktop Processor', 13.83, 'INTEL')\n",
      "(395, 'Intel I5 2500 3.3 GHz LGA 1155 Socket 4 Cores Desktop Processor', 22.47, 'INTEL')\n",
      "(396, 'aby 3.3 GHz LGA 1156 INTEL CORE I5 4590 Processor', 41.46, 'INTEL')\n",
      "(397, 'Intel I3-3220 3.3 GHz LGA 775 Socket 2 Cores 4 Threads 3 MB Smart Cache Desktop Processor', 24.02, 'INTEL')\n",
      "(398, 'wnd 3.2 GHz LGA 1156 Intel Core i5-650 For H55 Motherboard 1st Generation Processor (Silver) Processor', 13.22, 'INTEL')\n",
      "(399, 'Intel i3-12100 4.3 GHz Upto 4.3 GHz LGA1700 Socket 4 Cores 8 Threads Desktop Processor', 156.27, 'INTEL')\n",
      "(563, 'ITFY TECH 3.7 GHz LGA 1150 I5 4590S Processor', 41.48, 'INTEL')\n",
      "(564, 'Intel i3 3240 3 GHz LGA 1155 Socket 2 Cores Desktop Processor', 20.41, 'INTEL')\n",
      "(565, 'Intel Core i3-3250 (3RD Generation) 3.5 GHz LGA 1155 Socket 2 Cores Desktop Processor', 18.03, 'INTEL')\n",
      "(568, 'suryaasys 3.2 GHz LGA 1366 I7 960 Processor', 34.86, 'INTEL')\n",
      "(569, 'Intel I5-4590T 2 GHz LGA 1150 Socket 4 Cores 4 Threads 6 MB Smart Cache Desktop Processor', 42.08, 'INTEL')\n",
      "(572, 'Intel I3 4150 3.5 GHz LGA 1150 Socket 2 Cores Desktop, Tablet Processor', 46.87, 'INTEL')\n",
      "(573, 'Intel 540 core I3 1st 3 GHz LGA 1156 Socket 4 Cores Desktop Processor', 15.62, 'INTEL')\n",
      "(574, 'Processorss 3.3 GHz LGA 1155 Intel 3rd Generation Core i3 3220 3.3 GHz LGA 1155 Socket Processor', 13.21, 'INTEL')\n",
      "(575, 'WDNET 3.3 GHz LGA 1155 INTEL CORE I5 4TH GEN PROCESSOR Processor', 33.66, 'INTEL')\n",
      "(576, 'WDNET 3.7 GHz LGA 1151 Intel Core i3 6th Generation CPU Processor', 36.07, 'INTEL')\n",
      "(577, 'betaohm 3.3 GHz LGA 1155 Intel Core i5 2500 i5-2500 3.3GHz Processor', 23.44, 'INTEL')\n",
      "(578, 'suryaasys 3.7 GHz LGA 1151 I3 6100 Processor', 28.85, 'INTEL')\n",
      "(579, 'Intel Core i3-7100 ( 7Th Gen ) 3MB Smart Cache 3.9 GHz LGA 1151 Socket 2 Cores Desktop Processor', 120.21, 'INTEL')\n",
      "(580, 'Intel 1st Generation Core i3 550 Processor LGA 1156 Supported 3.2 GHz LGA 1156 Socket 2 Cores 4 Threads 4 MB Smart Cache Desktop Processor', 16.1, 'INTEL')\n",
      "(581, 'Intel 3570K 3.4 GHz LGA 1155 Socket 4 Cores Desktop Processor', 28.85, 'INTEL')\n",
      "(582, 'Intel I5 3470 3.2 GHz LGA 1155 Socket 4 Cores Desktop Processor', 28.25, 'INTEL')\n",
      "(583, 'betaohm 3 GHz LGA 1155 Intel Socket Processor 2 Core 3.0GHz lga 1155 (G2030) Processor', 7.03, 'INTEL')\n",
      "(584, 'Dtech 2.6 GHz LGA 1155 G620 Processor', 4.68, 'INTEL')\n",
      "(585, 'wnd 3.3 GHz LGA 1150 INTEL CORE I3 4TH GENERATION Processor Processor', 9.34, 'INTEL')\n",
      "(586, 'Intel Core i5-2400 3.1 GHz Upto 3.4 GHz LGA 1155 Socket 4 Cores 4 Threads 6 MB Smart Cache Desktop Processor', 33.49, 'INTEL')\n",
      "(587, 'processsor Ultra 3.9 GHz LGA 1155 I3-7100 Processor', 37.51, 'INTEL')\n",
      "(588, 'Intel I5 3550 3.3 GHz LGA 1155 Socket 4 Cores Desktop Processor', 21.64, 'INTEL')\n",
      "(589, 'Intel Core i5-3470 3.2 GHz Upto 3.6 GHz LGA 1155 Socket 4 Cores 4 Threads 6 MB Smart Cache Desktop Processor (Silver) 3.2 GHz LGA 1155 Socket 4 Cores Desktop Processor', 31.88, 'INTEL')\n",
      "(590, 'amd RYZEN 5 3500 3.6 GHz Upto 4.1 GHz AM4 Socket 6 Cores 6 Threads 3 MB L2 16 MB L3 Desktop Processor', 192.34, 'AMD')\n",
      "(591, 'Intel I3 3250 3.5 GHz LGA 1155 Socket 2 Cores Desktop Processor', 14.43, 'INTEL')\n",
      "(592, 'Intel G5900 3.4 GHz LGA 1200 Socket 2 Cores Desktop Processor', 72.12, 'INTEL')\n",
      "(593, 'Intel I5 2400 3.4 GHz LGA 1156 Socket 4 Cores Desktop Processor', 26.44, 'INTEL')\n",
      "(594, 'wnd 3.7 GHz LGA 1150 Intel Core i5 4th Generation Processor', 32.46, 'INTEL')\n",
      "(595, 'Intel 6100T 3.2 GHz LGA 1151 Socket 2 Cores 4 Threads Desktop Processor', 27.05, 'INTEL')\n",
      "(596, 'Intel I3 2120 3.3 GHz LGA 1155 Socket 2 Cores Desktop Processor', 16.83, 'INTEL')\n",
      "(597, 'amd A6-7400K 3.5 GHz Upto 3.9 GHz FM2 Socket 2 Cores 2 Threads 1 MB L2 0 MB L3 Desktop Processor', 66.12, 'AMD')\n",
      "(598, 'Intel CORE I5 3570 PROCESSOR ( 3RD GENERATION ) 3.4 GHz Upto 3.8 GHz LGA 1155 Socket 4 Cores 4 Threads 6 MB Smart Cache Desktop Processor', 34.6, 'INTEL')\n",
      "(599, 'PROCESSORE 3.1 GHz LGA 1155 I32ND GEN I3 2100 Processor', 10.22, 'INTEL')\n",
      "(802, 'Intel 540 core I3 3.06 GHz LGA 1156 Socket 4 Cores Desktop Processor', 14.43, 'INTEL')\n",
      "(803, 'betaohm 3.1 GHz LGA 1155 Intel Core i5-2400 Quad-Core Processor 3.1 GHz 6 MB Cache LGA 1155 Processor', 22.84, 'INTEL')\n",
      "(804, 'Intel i5 QHVZ 2.2G 35W for LGA 1151 2.2 GHz LGA 1151 Socket 4 Cores Desktop Processor', 120.21, 'INTEL')\n",
      "(805, 'srigs 3.2 GHz LGA 1155 Intel i5 3470 Processor', 21.64, 'INTEL')\n",
      "(808, 'Intel I5 3570K 3.4 GHz LGA 1155 Socket 4 Cores Desktop Processor', 34.26, 'INTEL')\n",
      "(809, 'KAVTRON 3.5 GHz LGA 1150 4th Gen Processor in-tel Core i3-4150 3.5Ghz for H81 Motherboard LGA-1150 Processor', 40.87, 'INTEL')\n",
      "(812, 'WDNET 3.2 GHz LGA 1155 INTEL CORE i3 3RD GEN PROCESSOR Processor', 21.64, 'INTEL')\n",
      "(813, 'amd ThreadRipper 1900X 3.8 Upto 4 AM4 Socket 8 Cores 16 Threads 4 L2 Workstation Processor', 793.45, 'AMD')\n",
      "(814, 'Intel G3240 4th Generation LGA 1150 3.1 GHz LGA 1150 Socket 2 Cores Desktop Processor', 13.13, 'INTEL')\n",
      "(815, 'EXPERTRONICS 2.93 GHz LGA 775 Core 2 Duo 2.93 Processor', 5.11, 'INTEL')\n",
      "(817, 'Intel I3 4130 3.4 GHz LGA 1150 Socket 4 Cores Desktop Processor', 16.23, 'INTEL')\n",
      "(818, 'PROCESSORE 3.1 GHz LGA 1155 i5 2nd gen i5 2400 Processor', 24.04, 'INTEL')\n",
      "(819, 'DTech Pentium 3 GHz LGA 1155 G2030 Processor', 6.6, 'INTEL')\n",
      "(820, 'Dtech 2.9 GHz LGA 1155 G645 Processor', 4.8, 'INTEL')\n",
      "(821, 'GIGASTAR 2.5 GHz LGA 1150 i5-2nd gen-2400 Processor', 23.92, 'INTEL')\n",
      "(822, 'Dtech 3 GHz LGA 775 E5700 Processor', 4.8, 'INTEL')\n",
      "(823, 'Dtech 2.9 GHz LGA 1155 G2020 Processor', 5.4, 'INTEL')\n",
      "(824, 'Intel I5-3470 3.2 GHz LGA 1155 Socket 4 Cores Desktop Processor', 33.12, 'INTEL')\n",
      "(825, 'Intel G3260 4Th Generation 3.3 GHz LGA 1150 Socket 2 Cores Desktop Processor', 15.18, 'INTEL')\n",
      "(826, 'srigs 3.2 GHz LGA 1151 i7 8700 Processor', 204.36, 'INTEL')\n",
      "(827, 'WHO 1333 GHz LGA 1150 775 E-8400 Processor Processor', 7.2, 'INTEL')\n",
      "(828, 'Intel G2130(Dual core ,3.2GHz ,LGA1155) 3.2 GHz LGA 1155 Socket 2 Cores Desktop Processor', 14.27, 'INTEL')\n",
      "(829, 'GIGASTAR 2 GHz LGA 1150 i5-4th gen-4590 Processor', 34.85, 'INTEL')\n",
      "(830, 'LAPTECH WORLD 3 GHz LGA 1155 Processor intel I5, 3rd Gen 3330, 3370 Processor', 26.45, 'INTEL')\n",
      "(831, 'Intel G3250T 4th Generation LGA 1150 2.8 GHz LGA 1150 Socket 2 Cores Desktop Processor', 13.13, 'INTEL')\n",
      "(832, 'amd Ryzen7 7800X 3D 4.2 GHz AM5 Socket 8 Cores Desktop Processor', 550.6, 'AMD')\n",
      "(833, 'Intel Dual Core 4Th Gen G3420 3.2 GHz LGA 1150 Socket 2 Cores Desktop Processor', 13.71, 'INTEL')\n",
      "(834, 'Intel G3250 4th Generation 3.2 GHz LGA 1150 Socket 2 Cores Desktop Processor', 14.84, 'INTEL')\n",
      "(835, 'Intel Core i7-10700 2.9 GHz Upto 4.8 GHz LGA 1200 Socket 8 Cores 16 Threads 16 MB Smart Cache Desktop Processor', 317.8, 'INTEL')\n",
      "(836, 'Intel i5-11600K 3.9 GHz Upto 3.9 GHz LGA 1200 Socket 6 Cores 12 Threads Desktop Processor', 288.52, 'INTEL')\n",
      "(837, 'ERH India 100 GHz AM2 1 Pc Induction Cooling Fan Small Processor', 3.59, 'INTEL')\n",
      "(838, 'Intel Core i3-3220 ( 3RD Genaretion ) 3.3 GHz LGA 1155 Socket 2 Cores Desktop Processor', 19.98, 'INTEL')\n",
      "(839, 'Intel G630 2.7 GHz LGA 1155 Socket 2 Cores Desktop Processor', 18.02, 'INTEL')\n",
      "(1080, 'Arko 3.06 GHz LGA 1156 Intel Core i3-540 3.06 GHz (Refurbished) Processor', 18.26, 'INTEL')\n",
      "(1081, 'wnd 3.3 GHz LGA 1155 Intel 3rd Generation Core i3 3220 3.3 GHz Processor', 8.81, 'INTEL')\n",
      "(1082, 'Intel Core i3 4150 3.5 GHz LGA 1150 Socket 2 Cores Desktop Processor', 22.82, 'INTEL')\n",
      "(1083, 'GIG SN 3.5 GHz LGA 1200 I5 11400f Processor', 240.44, 'INTEL')\n",
      "(1084, 'Intel Core i5-4570T (4TH Generation) 6MB Cache 2.9 GHz LGA 1150 Socket 4 Cores Desktop Processor', 28.85, 'INTEL')\n",
      "(1085, 'Intel I3 6100T 3.2 GHz LGA 1151 Socket 2 Cores Desktop Processor', 78.14, 'INTEL')\n",
      "(1086, 'Intel Core i3-4130T 2.9 GHz LGA 1150 Socket 2 Cores 4 Threads 3 MB Smart Cache Desktop Processor', 50.25, 'INTEL')\n",
      "(1087, 'Intel Pentium G4400 3.3 GHz LGA 1150 Socket 2 Cores 2 Threads 3 MB Smart Cache Desktop Processor', 40.75, 'INTEL')\n",
      "(1088, 'Intel i5-3470T (3RD Gen) 2.9 GHz LGA 1155 Socket 2 Cores Desktop Processor', 34.86, 'INTEL')\n",
      "(1089, 'Intel 4th Generation 3.3 GHz LGA 1150 Socket 2 Cores Desktop Processor', 16.23, 'INTEL')\n",
      "(1090, 'Intel E2160 3 GHz LGA 775 Socket 2 Cores Desktop Processor', 15.63, 'INTEL')\n",
      "(1091, 'KAVTRON 3.1 GHz LGA 1155 KAV-INT-2100 Processor', 21.63, 'INTEL')\n",
      "(1092, 'KAVTRON 3.7 GHz LGA 1150 KAV-INT-4170 Processor', 72.12, 'INTEL')\n",
      "(1093, 'AQBP 2.9 GHz LGA 1156 Intel Core I3 530 2.93 GHz LGA 1156 Socket 4 Cores Desktop Processor (Silver) Processor', 12.62, 'INTEL')\n",
      "(1094, 'Dtech 3.3 GHz LGA 1150 G4400 Processor', 30.06, 'INTEL')\n",
      "(1095, 'Intel LGA 1150 4th Gen 3.3 GHz LGA 1150 Socket 2 Cores Desktop Processor', 17.43, 'INTEL')\n",
      "(1096, 'Intel I3 540 3.06 GHz LGA 1156 Socket 4 Cores Desktop Processor', 16.23, 'INTEL')\n",
      "(1097, 'Intel Dual Core G2020 2.9 GHz LGA 1155 Socket 2 Cores Desktop Processor', 11.41, 'INTEL')\n",
      "(1098, 'Dtech 2.8 GHz AM2+, AM3 AMD Sempron 145 Processor Processor', 6.0, 'INTEL')\n",
      "(1099, 'wnd 850 GHz LGA 1155 Intel i3-2120 3.3 GHz 2 Cores Processor Processor', 6.0, 'INTEL')\n",
      "(1100, 'ERH India 100 GHz AM2 1 Pc Induction Cooling Fan Small Processor', 4.66, 'INTEL')\n",
      "(1101, 'Intel G4400 3.3 GHz LGA 1151 Socket 2 Cores Desktop Processor', 60.1, 'INTEL')\n",
      "(1102, 'Intel Core i5-3550 ( 3RD GEN ) Quad-Core 6MB Cache 3.3 GHz LGA 1155 Socket 4 Cores Desktop Processor', 29.12, 'INTEL')\n",
      "(1103, 'srigs 3.4 GHz LGA 1155 Intel Core i7-2600k (2nd Gen) Processor', 54.09, 'INTEL')\n",
      "(1104, 'betaohm 3 GHz LGA 1155 I5 3rd genration with Rgb mousepad with 2 year warrenty all over india Processor', 25.23, 'INTEL')\n",
      "(1105, 'Intel I3 2100 3.1 GHz LGA 1155 Socket 2 Cores Desktop Processor', 14.85, 'INTEL')\n",
      "(1106, 'KAVTRON 3.3 GHz LGA 1155 2nd Gen Processor in-tel Core i3-2120 3.3Ghz for H61 Motherboard LGA-1155 Processor', 31.25, 'INTEL')\n",
      "(1107, 'suryaasys 3.4 GHz LGA 1151 I7 6700 Processor', 108.2, 'INTEL')\n",
      "(1108, 'Intel I3 550 3.2 GHz LGA 1156 Socket 4 Cores Desktop Processor', 16.98, 'INTEL')\n",
      "(1109, 'Intel Core i5-3550P ( 3RD GEN ) Quad-Core 6MB Cache 3.1 GHz LGA 1155 Socket 4 Cores Desktop Processor', 29.12, 'INTEL')\n",
      "(1110, 'suryaasys 3.8 GHz LGA 1151 Processor core i5 7500 Processor', 92.57, 'INTEL')\n",
      "(1111, 'suryaasys 3.8 GHz LGA 1155 2600S Processor', 42.68, 'INTEL')\n",
      "(1112, 'srigs 3.3 GHz LGA 1155 Intel Core i3-3200 (3rd Gen) Processor', 9.8, 'INTEL')\n",
      "(1113, 'ERH India 100 GHz AM2 1 Pc Induction Cooling Fan Big Processor', 2.75, 'INTEL')\n",
      "(1114, 'Dtech 3.3 GHz LGA 1151 G4400 3.30Ghz Pentium LGA1151 6th Gen Processor', 16.82, 'INTEL')\n",
      "(1115, 'srigs 3.2 GHz LGA 1151 intel core i7 8700 Processor', 198.35, 'INTEL')\n",
      "(1116, 'Intel core I5 2500k 3.3 GHz LGA 1155 Socket 4 Cores Desktop Processor', 31.26, 'INTEL')\n",
      "(1117, 'Intel i3-2120 3.3 GHz LGA 1155 Socket 2 Cores 4 Threads 3 MB Smart Cache Desktop Processor', 15.66, 'INTEL')\n",
      "(1118, 'processsor Ultra 3 GHz LGA 1150 Core i3 4150t Processor', 19.42, 'INTEL')\n",
      "(1119, 'MD Tech 2.9 GHz LGA 2011-v3 e5-2697 v2 (Used) Processor', 96.16, 'INTEL')\n",
      "(1402, 'suryaasys 4.1 GHz LGA 1151 core i5 8500 Processor', 134.65, 'INTEL')\n",
      "(1403, 'Dtech 3.2 GHz LGA 1155 Intel Core i5 3470 Processor', 36.67, 'INTEL')\n",
      "(1404, 'BRCTRADERS 3.3 GHz LGA 1155 3220 Processor', 20.44, 'INTEL')\n",
      "(1405, 'suryaasys 3.3 GHz LGA 1151 Processor core i5 7500t Processor', 88.96, 'INTEL')\n",
      "(1408, 'suryaasys 3.3 GHz LGA 1151 G4400 Processor', 14.28, 'INTEL')\n",
      "(1409, 'Intel G4560 3.5 GHz LGA 1151 Socket 2 Cores Desktop Processor', 72.12, 'INTEL')\n",
      "(1412, 'Intel Core I5 3570 3.8 GHz LGA 1155 Socket 4 Cores Desktop Processor', 24.65, 'INTEL')\n",
      "(1413, 'suryaasys 3.1 GHz LGA 1151 Processor core i5 6500T Processor', 62.51, 'INTEL')\n",
      "(1414, 'suryaasys 3.9 GHz LGA 1151 I3 7100 Processor', 37.27, 'INTEL')\n",
      "(1415, 'DAICHI 3.3 GHz LGA 1155 INTEL CORE i3-3rd GENERATION FOR H61 MOTHERBOARD Processor', 10.81, 'INTEL')\n",
      "(1418, 'suryaasys 3.2 GHz LGA 1155 I5 3470 Processor', 21.7, 'INTEL')\n",
      "(1419, 'suryaasys 3.28 GHz LGA 1156 I3 550 Processor', 8.42, 'INTEL')\n",
      "(1422, 'rahul 3.48 GHz LGA 2011-v3 Processor Processor', 84.15, 'INTEL')\n",
      "(1423, 'Dtech 3.3 GHz LGA 1155 2120 Processor', 10.21, 'INTEL')\n",
      "(1424, 'suryaasys 3.4 GHz LGA 1155 I5 3570 Processor', 24.65, 'INTEL')\n",
      "(1425, 'GIGASTAR 3.3 GHz LGA 1155 Intel Core i3 i3-2120 3.30 GHz Processor - Socket H2 LGA-1155 Processor', 8.1, 'INTEL')\n",
      "(1428, 'DEVBHOOMI 165 GHz AM2+ DB -VIP 400R Processor', 8.4, 'INTEL')\n",
      "(1429, '22 TECH 3.3 GHz LGA 1155 Intel Core i3 2120 2nd Generation 3.3 GHz LGA 1155 Cores Desktop Processor Processor', 12.01, 'INTEL')\n",
      "(1432, 'Dtech 2.93 GHz LGA 775 E7500 Processor', 4.8, 'INTEL')\n",
      "(1433, 'ryzen 3.9 GHz AM4 5600G Processor', 180.32, 'INTEL')\n",
      "(1434, 'amd Ryzen Processor 7 series 3.7 GHz AM4 Socket 8 Cores Server, Desktop Processor', 336.6, 'AMD')\n",
      "(1435, 'srigs 3.1 GHz LGA 1155 Intel Core i5-2400 (2nd Gen) Processor', 15.63, 'INTEL')\n",
      "(1438, 'suryaasys 3.2 GHz LGA 1156 I5 650 Processor', 9.74, 'INTEL')\n",
      "(1439, 'Dtech 3.2 GHz FM2+, FM2 AMD A8-5500B AD550BOKA44HJ Processor', 30.04, 'INTEL')\n",
      "267\n"
     ]
    }
   ],
   "source": [
    "#quick test query\n",
    "from sqlalchemy import text\n",
    "connection = engine.connect()\n",
    "\n",
    "query = text(\"select * from cpu\")\n",
    "result = connection.execute(query)\n",
    "\n",
    "counter = 0\n",
    "for row in result:\n",
    "    counter+=1\n",
    "    print(row)\n",
    "    \n",
    "print(counter)\n",
    "result.close()\n",
    "connection.close()"
   ],
   "metadata": {
    "collapsed": false,
    "ExecuteTime": {
     "end_time": "2023-09-30T11:14:15.309301400Z",
     "start_time": "2023-09-30T11:14:15.302915300Z"
    }
   },
   "id": "28d8f22cd1a39f3c"
  }
 ],
 "metadata": {
  "kernelspec": {
   "display_name": "Python 3",
   "language": "python",
   "name": "python3"
  },
  "language_info": {
   "codemirror_mode": {
    "name": "ipython",
    "version": 2
   },
   "file_extension": ".py",
   "mimetype": "text/x-python",
   "name": "python",
   "nbconvert_exporter": "python",
   "pygments_lexer": "ipython2",
   "version": "2.7.6"
  }
 },
 "nbformat": 4,
 "nbformat_minor": 5
}
