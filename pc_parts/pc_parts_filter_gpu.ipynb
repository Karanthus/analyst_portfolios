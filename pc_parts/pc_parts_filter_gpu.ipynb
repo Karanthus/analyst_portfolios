{
 "cells": [
  {
   "cell_type": "code",
   "execution_count": 95,
   "id": "initial_id",
   "metadata": {
    "collapsed": true,
    "ExecuteTime": {
     "end_time": "2023-09-30T10:42:54.523251100Z",
     "start_time": "2023-09-30T10:42:54.521247100Z"
    }
   },
   "outputs": [],
   "source": [
    "import pandas as pd"
   ]
  },
  {
   "cell_type": "code",
   "execution_count": 127,
   "outputs": [],
   "source": [
    "df = pd.read_csv('./data/GPU.csv')"
   ],
   "metadata": {
    "collapsed": false,
    "ExecuteTime": {
     "end_time": "2023-09-30T11:19:37.725498100Z",
     "start_time": "2023-09-30T11:19:37.722156600Z"
    }
   },
   "id": "fbb4cd277593b9a9"
  },
  {
   "cell_type": "code",
   "execution_count": 3,
   "outputs": [],
   "source": [
    "# Prices are in Indian Rupee and in String format, change it to USD and int using API\n",
    "import requests\n",
    "\n",
    "\n",
    "class CurrencyExchanger:\n",
    "    rates = {}\n",
    "\n",
    "    def __init__(self, url, headers, params):\n",
    "        response = requests.get(url, headers=headers, params=params)\n",
    "        data = response.json()\n",
    "        self.rates = data['rates']\n",
    "\n",
    "    def converter(self, params, amount):\n",
    "        exchange_rate = self.rates[params['symbols']]\n",
    "        return round(exchange_rate * amount, 2)"
   ],
   "metadata": {
    "collapsed": false,
    "ExecuteTime": {
     "end_time": "2023-09-30T09:48:04.607349400Z",
     "start_time": "2023-09-30T09:48:04.534779300Z"
    }
   },
   "id": "bd6d22986c59fce5"
  },
  {
   "cell_type": "code",
   "execution_count": 4,
   "outputs": [],
   "source": [
    "# Instancing the class object\n",
    "\n",
    "url = 'https://api.apilayer.com/fixer/latest'\n",
    "headers = {\n",
    "    'apikey': 'i0khQ80cJeZhfSlcUVClOsXNtOOize60'\n",
    "}\n",
    "# We want to convert Indian Rupee to USA Dollar\n",
    "params = {\n",
    "    'base': 'INR',\n",
    "    'symbols': 'USD'\n",
    "}\n",
    "\n",
    "currency_exchanger = CurrencyExchanger(url, headers, params)\n",
    "\n",
    "#Store only the rate and use it onward to data conversion (Note: we only have 1000 request/month)\n",
    "convert_rate = currency_exchanger.rates[params['symbols']]"
   ],
   "metadata": {
    "collapsed": false,
    "ExecuteTime": {
     "end_time": "2023-09-30T09:48:10.205946300Z",
     "start_time": "2023-09-30T09:48:07.006532Z"
    }
   },
   "id": "5fd930f39cb9ff54"
  },
  {
   "cell_type": "code",
   "execution_count": 97,
   "outputs": [
    {
     "data": {
      "text/plain": "'₹1,000'"
     },
     "execution_count": 97,
     "metadata": {},
     "output_type": "execute_result"
    }
   ],
   "source": [
    "# The smallest price is 1000 INR with a comma separator\n",
    "min(df['MRP'])"
   ],
   "metadata": {
    "collapsed": false,
    "ExecuteTime": {
     "end_time": "2023-09-30T10:42:59.323487700Z",
     "start_time": "2023-09-30T10:42:59.320783300Z"
    }
   },
   "id": "cd4337d94b22d3ee"
  },
  {
   "cell_type": "code",
   "execution_count": 128,
   "outputs": [],
   "source": [
    "# Making the price integer\n",
    "df['MRP'] = df['MRP'].str.replace('₹', '')\n",
    "df['MRP'] = df['MRP'].str.replace(',', '')\n",
    "df['MRP'] = df['MRP'].astype(int)"
   ],
   "metadata": {
    "collapsed": false,
    "ExecuteTime": {
     "end_time": "2023-09-30T11:19:45.193113500Z",
     "start_time": "2023-09-30T11:19:45.188804500Z"
    }
   },
   "id": "85d6691dd55d7859"
  },
  {
   "cell_type": "code",
   "execution_count": 129,
   "outputs": [],
   "source": [
    "# Price conversion to USD\n",
    "df['MRP'] = round(df['MRP'] * convert_rate, 2)"
   ],
   "metadata": {
    "collapsed": false,
    "ExecuteTime": {
     "end_time": "2023-09-30T11:19:46.780328Z",
     "start_time": "2023-09-30T11:19:46.773520300Z"
    }
   },
   "id": "9717157cc079304c"
  },
  {
   "cell_type": "code",
   "execution_count": 130,
   "outputs": [
    {
     "data": {
      "text/plain": "     Unnamed: 0                                                GPU    MRP\n0             0  ITSNAVAKER NVIDIA CONSISTENT GRAPHICS CARD G21...  28.79\n1             1  GMP NVIDIA INKJET PVC ID CARD FOR EPSON PRINTE...  12.02\n2             2  ASUS NVIDIA GeForce GT 730 2 GB GDDR5 Graphics...  52.88\n3             3  ZEBRONICS NVIDIA ZEB-GT610 2 GB DDR3 Graphics ...  24.63\n4             4  ASUS NVIDIA Geforce GT 710 2 GB DDR3 Graphics ...  54.78\n..          ...                                                ...    ...\n595         595  Nextar NVIDIA VER 009S Riser Cable Black PCIE ...  39.06\n596         596  Nextar NVIDIA VER 009S Riser Cable Black PCIE ...  18.57\n597         597  LipiWorld NVIDIA Pcie Splitter 1 to 4 PCI Rise...  22.59\n598         598  Electronicspices AMD Radeon Zotac NTK FD5010U1...   5.84\n599         599  Tobo NVIDIA M.2 to 2.5 inch SATA Enclosure,M.2...  16.52\n\n[600 rows x 3 columns]",
      "text/html": "<div>\n<style scoped>\n    .dataframe tbody tr th:only-of-type {\n        vertical-align: middle;\n    }\n\n    .dataframe tbody tr th {\n        vertical-align: top;\n    }\n\n    .dataframe thead th {\n        text-align: right;\n    }\n</style>\n<table border=\"1\" class=\"dataframe\">\n  <thead>\n    <tr style=\"text-align: right;\">\n      <th></th>\n      <th>Unnamed: 0</th>\n      <th>GPU</th>\n      <th>MRP</th>\n    </tr>\n  </thead>\n  <tbody>\n    <tr>\n      <th>0</th>\n      <td>0</td>\n      <td>ITSNAVAKER NVIDIA CONSISTENT GRAPHICS CARD G21...</td>\n      <td>28.79</td>\n    </tr>\n    <tr>\n      <th>1</th>\n      <td>1</td>\n      <td>GMP NVIDIA INKJET PVC ID CARD FOR EPSON PRINTE...</td>\n      <td>12.02</td>\n    </tr>\n    <tr>\n      <th>2</th>\n      <td>2</td>\n      <td>ASUS NVIDIA GeForce GT 730 2 GB GDDR5 Graphics...</td>\n      <td>52.88</td>\n    </tr>\n    <tr>\n      <th>3</th>\n      <td>3</td>\n      <td>ZEBRONICS NVIDIA ZEB-GT610 2 GB DDR3 Graphics ...</td>\n      <td>24.63</td>\n    </tr>\n    <tr>\n      <th>4</th>\n      <td>4</td>\n      <td>ASUS NVIDIA Geforce GT 710 2 GB DDR3 Graphics ...</td>\n      <td>54.78</td>\n    </tr>\n    <tr>\n      <th>...</th>\n      <td>...</td>\n      <td>...</td>\n      <td>...</td>\n    </tr>\n    <tr>\n      <th>595</th>\n      <td>595</td>\n      <td>Nextar NVIDIA VER 009S Riser Cable Black PCIE ...</td>\n      <td>39.06</td>\n    </tr>\n    <tr>\n      <th>596</th>\n      <td>596</td>\n      <td>Nextar NVIDIA VER 009S Riser Cable Black PCIE ...</td>\n      <td>18.57</td>\n    </tr>\n    <tr>\n      <th>597</th>\n      <td>597</td>\n      <td>LipiWorld NVIDIA Pcie Splitter 1 to 4 PCI Rise...</td>\n      <td>22.59</td>\n    </tr>\n    <tr>\n      <th>598</th>\n      <td>598</td>\n      <td>Electronicspices AMD Radeon Zotac NTK FD5010U1...</td>\n      <td>5.84</td>\n    </tr>\n    <tr>\n      <th>599</th>\n      <td>599</td>\n      <td>Tobo NVIDIA M.2 to 2.5 inch SATA Enclosure,M.2...</td>\n      <td>16.52</td>\n    </tr>\n  </tbody>\n</table>\n<p>600 rows × 3 columns</p>\n</div>"
     },
     "execution_count": 130,
     "metadata": {},
     "output_type": "execute_result"
    }
   ],
   "source": [
    "df"
   ],
   "metadata": {
    "collapsed": false,
    "ExecuteTime": {
     "end_time": "2023-09-30T11:19:47.769675100Z",
     "start_time": "2023-09-30T11:19:47.756819400Z"
    }
   },
   "id": "8a49aed983dee676"
  },
  {
   "cell_type": "code",
   "execution_count": 131,
   "outputs": [],
   "source": [
    "#Preparing sql export\n",
    "df.rename(columns={'Unnamed: 0': 'id', 'GPU': 'name', 'MRP': 'mrp_usd'}, inplace=True)"
   ],
   "metadata": {
    "collapsed": false,
    "ExecuteTime": {
     "end_time": "2023-09-30T11:19:52.728839400Z",
     "start_time": "2023-09-30T11:19:52.724329600Z"
    }
   },
   "id": "28f9389710cee12"
  },
  {
   "cell_type": "code",
   "execution_count": 132,
   "outputs": [
    {
     "data": {
      "text/plain": "      id                                               name  mrp_usd\n0      0  ITSNAVAKER NVIDIA CONSISTENT GRAPHICS CARD G21...    28.79\n1      1  GMP NVIDIA INKJET PVC ID CARD FOR EPSON PRINTE...    12.02\n2      2  ASUS NVIDIA GeForce GT 730 2 GB GDDR5 Graphics...    52.88\n3      3  ZEBRONICS NVIDIA ZEB-GT610 2 GB DDR3 Graphics ...    24.63\n4      4  ASUS NVIDIA Geforce GT 710 2 GB DDR3 Graphics ...    54.78\n..   ...                                                ...      ...\n595  595  Nextar NVIDIA VER 009S Riser Cable Black PCIE ...    39.06\n596  596  Nextar NVIDIA VER 009S Riser Cable Black PCIE ...    18.57\n597  597  LipiWorld NVIDIA Pcie Splitter 1 to 4 PCI Rise...    22.59\n598  598  Electronicspices AMD Radeon Zotac NTK FD5010U1...     5.84\n599  599  Tobo NVIDIA M.2 to 2.5 inch SATA Enclosure,M.2...    16.52\n\n[600 rows x 3 columns]",
      "text/html": "<div>\n<style scoped>\n    .dataframe tbody tr th:only-of-type {\n        vertical-align: middle;\n    }\n\n    .dataframe tbody tr th {\n        vertical-align: top;\n    }\n\n    .dataframe thead th {\n        text-align: right;\n    }\n</style>\n<table border=\"1\" class=\"dataframe\">\n  <thead>\n    <tr style=\"text-align: right;\">\n      <th></th>\n      <th>id</th>\n      <th>name</th>\n      <th>mrp_usd</th>\n    </tr>\n  </thead>\n  <tbody>\n    <tr>\n      <th>0</th>\n      <td>0</td>\n      <td>ITSNAVAKER NVIDIA CONSISTENT GRAPHICS CARD G21...</td>\n      <td>28.79</td>\n    </tr>\n    <tr>\n      <th>1</th>\n      <td>1</td>\n      <td>GMP NVIDIA INKJET PVC ID CARD FOR EPSON PRINTE...</td>\n      <td>12.02</td>\n    </tr>\n    <tr>\n      <th>2</th>\n      <td>2</td>\n      <td>ASUS NVIDIA GeForce GT 730 2 GB GDDR5 Graphics...</td>\n      <td>52.88</td>\n    </tr>\n    <tr>\n      <th>3</th>\n      <td>3</td>\n      <td>ZEBRONICS NVIDIA ZEB-GT610 2 GB DDR3 Graphics ...</td>\n      <td>24.63</td>\n    </tr>\n    <tr>\n      <th>4</th>\n      <td>4</td>\n      <td>ASUS NVIDIA Geforce GT 710 2 GB DDR3 Graphics ...</td>\n      <td>54.78</td>\n    </tr>\n    <tr>\n      <th>...</th>\n      <td>...</td>\n      <td>...</td>\n      <td>...</td>\n    </tr>\n    <tr>\n      <th>595</th>\n      <td>595</td>\n      <td>Nextar NVIDIA VER 009S Riser Cable Black PCIE ...</td>\n      <td>39.06</td>\n    </tr>\n    <tr>\n      <th>596</th>\n      <td>596</td>\n      <td>Nextar NVIDIA VER 009S Riser Cable Black PCIE ...</td>\n      <td>18.57</td>\n    </tr>\n    <tr>\n      <th>597</th>\n      <td>597</td>\n      <td>LipiWorld NVIDIA Pcie Splitter 1 to 4 PCI Rise...</td>\n      <td>22.59</td>\n    </tr>\n    <tr>\n      <th>598</th>\n      <td>598</td>\n      <td>Electronicspices AMD Radeon Zotac NTK FD5010U1...</td>\n      <td>5.84</td>\n    </tr>\n    <tr>\n      <th>599</th>\n      <td>599</td>\n      <td>Tobo NVIDIA M.2 to 2.5 inch SATA Enclosure,M.2...</td>\n      <td>16.52</td>\n    </tr>\n  </tbody>\n</table>\n<p>600 rows × 3 columns</p>\n</div>"
     },
     "execution_count": 132,
     "metadata": {},
     "output_type": "execute_result"
    }
   ],
   "source": [
    "df"
   ],
   "metadata": {
    "collapsed": false,
    "ExecuteTime": {
     "end_time": "2023-09-30T11:19:54.278691500Z",
     "start_time": "2023-09-30T11:19:54.270684800Z"
    }
   },
   "id": "75b039b8ebb31d53"
  },
  {
   "cell_type": "code",
   "execution_count": 134,
   "outputs": [],
   "source": [
    "# Data validation \n",
    "df = df[df['name'].str.contains('Graphics Card')] \n",
    "df = df.drop_duplicates(subset=['name', 'mrp_usd'])"
   ],
   "metadata": {
    "collapsed": false,
    "ExecuteTime": {
     "end_time": "2023-09-30T11:20:00.539067600Z",
     "start_time": "2023-09-30T11:20:00.534558200Z"
    }
   },
   "id": "967e2f013b86122a"
  },
  {
   "cell_type": "code",
   "execution_count": 135,
   "outputs": [],
   "source": [
    "# It's kind of redundant data storage, but can make my life easier (and it's a small dataset)\n",
    "df['architecture'] = df['name'].apply(lambda x: 'NVIDIA' if 'NVIDIA' in x else 'AMD')\n",
    "df['brand'] = df['name'].str.split(' ').str[0]"
   ],
   "metadata": {
    "collapsed": false,
    "ExecuteTime": {
     "end_time": "2023-09-30T11:20:03.004130700Z",
     "start_time": "2023-09-30T11:20:03.002137Z"
    }
   },
   "id": "d6a3d9952b1dde9b"
  },
  {
   "cell_type": "code",
   "execution_count": 136,
   "outputs": [
    {
     "data": {
      "text/plain": "      id                                               name  mrp_usd  \\\n0      0  ITSNAVAKER NVIDIA CONSISTENT GRAPHICS CARD G21...    28.79   \n1      1  GMP NVIDIA INKJET PVC ID CARD FOR EPSON PRINTE...    12.02   \n2      2  ASUS NVIDIA GeForce GT 730 2 GB GDDR5 Graphics...    52.88   \n3      3  ZEBRONICS NVIDIA ZEB-GT610 2 GB DDR3 Graphics ...    24.63   \n4      4  ASUS NVIDIA Geforce GT 710 2 GB DDR3 Graphics ...    54.78   \n..   ...                                                ...      ...   \n595  595  Nextar NVIDIA VER 009S Riser Cable Black PCIE ...    39.06   \n596  596  Nextar NVIDIA VER 009S Riser Cable Black PCIE ...    18.57   \n597  597  LipiWorld NVIDIA Pcie Splitter 1 to 4 PCI Rise...    22.59   \n598  598  Electronicspices AMD Radeon Zotac NTK FD5010U1...     5.84   \n599  599  Tobo NVIDIA M.2 to 2.5 inch SATA Enclosure,M.2...    16.52   \n\n    architecture             brand  \n0         NVIDIA        ITSNAVAKER  \n1         NVIDIA               GMP  \n2         NVIDIA              ASUS  \n3         NVIDIA         ZEBRONICS  \n4         NVIDIA              ASUS  \n..           ...               ...  \n595       NVIDIA            Nextar  \n596       NVIDIA            Nextar  \n597       NVIDIA         LipiWorld  \n598          AMD  Electronicspices  \n599       NVIDIA              Tobo  \n\n[191 rows x 5 columns]",
      "text/html": "<div>\n<style scoped>\n    .dataframe tbody tr th:only-of-type {\n        vertical-align: middle;\n    }\n\n    .dataframe tbody tr th {\n        vertical-align: top;\n    }\n\n    .dataframe thead th {\n        text-align: right;\n    }\n</style>\n<table border=\"1\" class=\"dataframe\">\n  <thead>\n    <tr style=\"text-align: right;\">\n      <th></th>\n      <th>id</th>\n      <th>name</th>\n      <th>mrp_usd</th>\n      <th>architecture</th>\n      <th>brand</th>\n    </tr>\n  </thead>\n  <tbody>\n    <tr>\n      <th>0</th>\n      <td>0</td>\n      <td>ITSNAVAKER NVIDIA CONSISTENT GRAPHICS CARD G21...</td>\n      <td>28.79</td>\n      <td>NVIDIA</td>\n      <td>ITSNAVAKER</td>\n    </tr>\n    <tr>\n      <th>1</th>\n      <td>1</td>\n      <td>GMP NVIDIA INKJET PVC ID CARD FOR EPSON PRINTE...</td>\n      <td>12.02</td>\n      <td>NVIDIA</td>\n      <td>GMP</td>\n    </tr>\n    <tr>\n      <th>2</th>\n      <td>2</td>\n      <td>ASUS NVIDIA GeForce GT 730 2 GB GDDR5 Graphics...</td>\n      <td>52.88</td>\n      <td>NVIDIA</td>\n      <td>ASUS</td>\n    </tr>\n    <tr>\n      <th>3</th>\n      <td>3</td>\n      <td>ZEBRONICS NVIDIA ZEB-GT610 2 GB DDR3 Graphics ...</td>\n      <td>24.63</td>\n      <td>NVIDIA</td>\n      <td>ZEBRONICS</td>\n    </tr>\n    <tr>\n      <th>4</th>\n      <td>4</td>\n      <td>ASUS NVIDIA Geforce GT 710 2 GB DDR3 Graphics ...</td>\n      <td>54.78</td>\n      <td>NVIDIA</td>\n      <td>ASUS</td>\n    </tr>\n    <tr>\n      <th>...</th>\n      <td>...</td>\n      <td>...</td>\n      <td>...</td>\n      <td>...</td>\n      <td>...</td>\n    </tr>\n    <tr>\n      <th>595</th>\n      <td>595</td>\n      <td>Nextar NVIDIA VER 009S Riser Cable Black PCIE ...</td>\n      <td>39.06</td>\n      <td>NVIDIA</td>\n      <td>Nextar</td>\n    </tr>\n    <tr>\n      <th>596</th>\n      <td>596</td>\n      <td>Nextar NVIDIA VER 009S Riser Cable Black PCIE ...</td>\n      <td>18.57</td>\n      <td>NVIDIA</td>\n      <td>Nextar</td>\n    </tr>\n    <tr>\n      <th>597</th>\n      <td>597</td>\n      <td>LipiWorld NVIDIA Pcie Splitter 1 to 4 PCI Rise...</td>\n      <td>22.59</td>\n      <td>NVIDIA</td>\n      <td>LipiWorld</td>\n    </tr>\n    <tr>\n      <th>598</th>\n      <td>598</td>\n      <td>Electronicspices AMD Radeon Zotac NTK FD5010U1...</td>\n      <td>5.84</td>\n      <td>AMD</td>\n      <td>Electronicspices</td>\n    </tr>\n    <tr>\n      <th>599</th>\n      <td>599</td>\n      <td>Tobo NVIDIA M.2 to 2.5 inch SATA Enclosure,M.2...</td>\n      <td>16.52</td>\n      <td>NVIDIA</td>\n      <td>Tobo</td>\n    </tr>\n  </tbody>\n</table>\n<p>191 rows × 5 columns</p>\n</div>"
     },
     "execution_count": 136,
     "metadata": {},
     "output_type": "execute_result"
    }
   ],
   "source": [
    "df"
   ],
   "metadata": {
    "collapsed": false,
    "ExecuteTime": {
     "end_time": "2023-09-30T11:20:14.948972200Z",
     "start_time": "2023-09-30T11:20:14.937495500Z"
    }
   },
   "id": "f8913fa66412d50a"
  },
  {
   "cell_type": "code",
   "execution_count": 137,
   "outputs": [
    {
     "data": {
      "text/plain": "191"
     },
     "execution_count": 137,
     "metadata": {},
     "output_type": "execute_result"
    }
   ],
   "source": [
    "#sql export\n",
    "from sqlalchemy import create_engine\n",
    "\n",
    "#Placeholder localhost login\n",
    "mysql_config = {\n",
    "    'user': 'pycharm',\n",
    "    'password': 'testtest-123',\n",
    "    'host': 'localhost',\n",
    "    'database': 'projectcpu'\n",
    "}\n",
    "\n",
    "engine = create_engine(\n",
    "    f\"mysql+mysqlconnector://{mysql_config['user']}:{mysql_config['password']}@{mysql_config['host']}/{mysql_config['database']}\")\n",
    "\n",
    "#Use only third of the data atm\n",
    "df.to_sql(name='gpu', con=engine, if_exists='append', index=False)\n",
    "\n"
   ],
   "metadata": {
    "collapsed": false,
    "ExecuteTime": {
     "end_time": "2023-09-30T11:20:31.574351300Z",
     "start_time": "2023-09-30T11:20:31.534959800Z"
    }
   },
   "id": "1e5b56df9353de02"
  },
  {
   "cell_type": "code",
   "execution_count": 138,
   "outputs": [
    {
     "name": "stdout",
     "output_type": "stream",
     "text": [
      "(0, 'ITSNAVAKER NVIDIA CONSISTENT GRAPHICS CARD G210 1 GB DDR3 Graphics Card', 28.79, 'NVIDIA', 'ITSNAVAKER')\n",
      "(1, 'GMP NVIDIA INKJET PVC ID CARD FOR EPSON PRINTER 800 MICRON 230 PCS 1 GB DDR2 Graphics Card', 12.02, 'NVIDIA', 'GMP')\n",
      "(2, 'ASUS NVIDIA GeForce GT 730 2 GB GDDR5 Graphics Card', 52.88, 'NVIDIA', 'ASUS')\n",
      "(3, 'ZEBRONICS NVIDIA ZEB-GT610 2 GB DDR3 Graphics Card', 24.63, 'NVIDIA', 'ZEBRONICS')\n",
      "(4, 'ASUS NVIDIA Geforce GT 710 2 GB DDR3 Graphics Card', 54.78, 'NVIDIA', 'ASUS')\n",
      "(5, 'GIGABYTE NVIDIA GV-N710D3-2GL 2 GB DDR3 Graphics Card', 48.08, 'NVIDIA', 'GIGABYTE')\n",
      "(6, 'GEONIX NVIDIA GX GT730 4GB D3 4 GB DDR3 Graphics Card', 35.95, 'NVIDIA', 'GEONIX')\n",
      "(7, 'GALAX NVIDIA GEFORCE GT 730 4GB DDR3 4 GB GDDR3 Graphics Card', 82.59, 'NVIDIA', 'GALAX')\n",
      "(8, 'ZOTAC NVIDIA GTX1650AMP 4 GB GDDR6 Graphics Card', 167.71, 'NVIDIA', 'ZOTAC')\n",
      "(9, 'ASUS AMD Radeon PH-RX550-4G-EVO 4 GB GDDR5 Graphics Card', 120.21, 'AMD', 'ASUS')\n",
      "(10, 'GEONIX NVIDIA Geonix610 2 GB DDR3 Graphics Card', 22.72, 'NVIDIA', 'GEONIX')\n",
      "(11, 'Inno3D NVIDIA GEFORCE GTX 1660 Super Twin X2 6 GB GDDR6 Graphics Card', 259.66, 'NVIDIA', 'Inno3D')\n",
      "(12, 'GIGABYTE NVIDIA GV-N1656WF2OC-4GD 4 GB GDDR6 Graphics Card', 180.21, 'NVIDIA', 'GIGABYTE')\n",
      "(13, 'ZOTAC NVIDIA RTX 3060 Twin Edge OC 12 GB GDDR6 Graphics Card', 360.66, 'NVIDIA', 'ZOTAC')\n",
      "(14, 'ZEBRONICS NVIDIA GT730 4 GB DDR3 Graphics Card', 49.28, 'NVIDIA', 'ZEBRONICS')\n",
      "(15, 'amd by Sapphire AMD Radeon Radeon RX 6500 XT 4 GB GDDR6 Graphics Card', 208.52, 'AMD', 'amd')\n",
      "(16, 'mytechvision AMD Radeon RX 580 8 GB GDDR5 Graphics Card', 132.23, 'AMD', 'mytechvision')\n",
      "(17, 'ZOTAC NVIDIA GAMING GeForce RTX 4070 Twin Edge OC 12 GB GDDR6X Graphics Card', 743.54, 'NVIDIA', 'ZOTAC')\n",
      "(18, 'ZOTAC NVIDIA GeForce GTX 1650 OC 4 GB GDDR6 Graphics Card', 167.09, 'NVIDIA', 'ZOTAC')\n",
      "(19, 'ASRock AMD Radeon RX6600XT PGD 8 GB GDDR6 Graphics Card', 480.87, 'AMD', 'ASRock')\n",
      "(20, 'Inno3D NVIDIA GEFORCE GTX 1650 Twin X2 OC 4 GB GDDR6 Graphics Card', 206.74, 'NVIDIA', 'Inno3D')\n",
      "(21, 'Inno3D NVIDIA GEFORCE RTX 3060 TWIN X2 12 GB GDDR6 Graphics Card', 346.34, 'NVIDIA', 'Inno3D')\n",
      "(22, 'GIGABYTE NVIDIA GV-N1656WF2OC-4GB 4 GB GDDR6 Graphics Card', 165.89, 'NVIDIA', 'GIGABYTE')\n",
      "(23, 'ZOTAC NVIDIA GeForce GT 1030 2 GB DDR5 Graphics Card', 94.96, 'NVIDIA', 'ZOTAC')\n",
      "(24, 'FRONTECH NVIDIA GT 610 Graphics Card with 64 Bits PCIe 2.0, High Efficiency 2 GB DDR3 Graphics Card', 23.55, 'NVIDIA', 'FRONTECH')\n",
      "(25, 'ASRock AMD Radeon RX6600 CLD 8 GB GDDR6 Graphics Card', 396.71, 'AMD', 'ASRock')\n",
      "(26, 'ZOTAC NVIDIA GEFORCE RTX 4060 TWIN EDGE OC White Edition 8 GB GDDR6 Graphics Card', 399.86, 'NVIDIA', 'ZOTAC')\n",
      "(27, 'ZOTAC NVIDIA RTX 3060 Twin Edge 12 GB GDDR6 Graphics Card', 354.53, 'NVIDIA', 'ZOTAC')\n",
      "(28, 'GIGABYTE NVIDIA GV-N3050WF2OC-8GD 8 GB GDDR6 Graphics Card', 287.21, 'NVIDIA', 'GIGABYTE')\n",
      "(29, 'GIGABYTE AMD Radeon GV-R66XTGAMING OC-8GD 8 GB GDDR6 Graphics Card', 589.07, 'AMD', 'GIGABYTE')\n",
      "(30, 'Enter NVIDIA E-GT610-2GD3 PCI Express 2.0 Graphics Card 64 bit 2GB HDMI VGA 2 GB DDR3 Graphics Card', 27.64, 'NVIDIA', 'Enter')\n",
      "(31, 'Inno3D NVIDIA GeForce GTX1050 TI 4 GB GDDR5 Graphics Card', 180.32, 'NVIDIA', 'Inno3D')\n",
      "(32, 'ZOTAC NVIDIA Geforce GTX 1630 4 GB GDDR6 4 GB GDDR6 Graphics Card', 180.33, 'NVIDIA', 'ZOTAC')\n",
      "(33, 'GIGABYTE NVIDIA GV-n3060WF2OC-12GB 12 GB GDDR6 Graphics Card', 342.63, 'NVIDIA', 'GIGABYTE')\n",
      "(34, 'Colorful NVIDIA GTX-1660 6 GB GDDR6 Graphics Card', 276.63, 'NVIDIA', 'Colorful')\n",
      "(35, 'sillora AMD Radeon RX 580 8 GB GDDR5 Graphics Card', 129.83, 'AMD', 'sillora')\n",
      "(36, 'MSI NVIDIA GeForce RTX 3070 VENTUS 3X PLUS 8G OC LHR 8GB GDDR6 256-bit 8 GB GDDR6 Graphics Card', 697.26, 'NVIDIA', 'MSI')\n",
      "(37, 'nVIDIA NVIDIA RTX 3060 Gaming OC 12GB LHR Graphics Card (rev. 2.0) GV-N3060Gaming OC-12GD 12 GB GDDR6 Graphics Card', 432.78, 'NVIDIA', 'nVIDIA')\n",
      "(38, 'Acer Intel ARC A380 6 GB GDDR6 Graphics Card', 140.65, 'AMD', 'Acer')\n",
      "(39, 'GIGABYTE NVIDIA GV-N308TGAMING OC-12GD 12 GB GDDR6X Graphics Card', 1382.52, 'NVIDIA', 'GIGABYTE')\n",
      "(82, 'MSI AMD Radeon Radeon RX 6500 XT MECH 2X 4G OC 4 GB GDDR6 Graphics Card', 264.47, 'AMD', 'MSI')\n",
      "(83, 'ASRock AMD Radeon RX6700XT CLD 12 GB GDDR6 Graphics Card', 724.9, 'AMD', 'ASRock')\n",
      "(84, 'Verilux NVIDIA NVME Adapter PCIe x16 with Gel Pad, M.2 NVME or AHCI SSD to PCIE 3.0 Adapter Card for Key M 2230, 2242, 2260, 2280 Size M.2 SSD, Support PCIe x4 x8 x16 Slot 256 MB GDDR5 Graphics Card', 7.2, 'NVIDIA', 'Verilux')\n",
      "(85, 'ZOTAC NVIDIA RTX 3050 Twin Edge 8 GB GDDR6 Graphics Card', 282.52, 'NVIDIA', 'ZOTAC')\n",
      "(86, 'MSI NVIDIA GeForce GTX 1050 Ti 4GT OCV1 4 GB GDDR5 Graphics Card', 180.32, 'NVIDIA', 'MSI')\n",
      "(87, 'GIGABYTE AMD Radeon GV-R65XTGAMING OC-4GD 4 GB GDDR6 Graphics Card', 312.56, 'AMD', 'GIGABYTE')\n",
      "(88, 'ASUS AMD Radeon Dual RX 6650XT OC 8 GB GDDR6 Graphics Card', 480.87, 'AMD', 'ASUS')\n",
      "(89, 'ASRock AMD Radeon RX6700XT PGD 12 GB GDDR6 Graphics Card', 721.31, 'AMD', 'ASRock')\n",
      "(90, 'MSI NVIDIA GeForce RTX 3050 VENTUS 2X 8G OC 8 GB GDDR6 Graphics Card', 353.86, 'NVIDIA', 'MSI')\n",
      "(91, 'Inno3D NVIDIA GEFORCE RTX 3080 Ti X3 12 GB GDDR6X Graphics Card', 1562.85, 'NVIDIA', 'Inno3D')\n",
      "(92, 'Inno3D NVIDIA GEFORCE RTX 3070 Ti X3 OC 8 GB GDDR6X Graphics Card', 961.75, 'NVIDIA', 'Inno3D')\n",
      "(93, 'MSI NVIDIA RTX 3090 VENTUS 24 GB GDDR6X Graphics Card', 2464.5, 'NVIDIA', 'MSI')\n",
      "(94, 'MSI NVIDIA N730K-4GD3 4 GB DDR3 Graphics Card', 78.13, 'NVIDIA', 'MSI')\n",
      "(95, 'Inno3D NVIDIA GEFORCE RTX 3050 TWIN X2 8 GB GDDR6 Graphics Card', 289.06, 'NVIDIA', 'Inno3D')\n",
      "(96, 'ZOTAC NVIDIA GeForce GT 710 2 GB DDR3 Graphics Card', 47.57, 'NVIDIA', 'ZOTAC')\n",
      "(97, 'Inno3D NVIDIA GTX 1050 Ti 4 GB GDDR5 Graphics Card', 192.34, 'NVIDIA', 'Inno3D')\n",
      "(98, 'GEONIX NVIDIA ?GX GT730 4GB D3 4 GB DDR3 Graphics Card', 39.31, 'NVIDIA', 'GEONIX')\n",
      "(99, 'MSI NVIDIA GeForce RTX 3080 GAMING Z TRIO 12G LHR 12 GB GDDR6X Graphics Card', 1262.3, 'NVIDIA', 'MSI')\n",
      "(100, 'MSI NVIDIA GeForce GTX 1660 Super Gaming X 6 GB GDDR5 Graphics Card', 369.11, 'NVIDIA', 'MSI')\n",
      "(101, 'ZOTAC NVIDIA RTX 3060 Ti Twin Edge LHR 8 GB GDDR6 Graphics Card', 601.09, 'NVIDIA', 'ZOTAC')\n",
      "(102, 'MSI AMD Radeon Radeon RX 6400 AERO ITX 4G 4 GB GDDR6 Graphics Card', 192.34, 'AMD', 'MSI')\n",
      "(103, 'GIGABYTE AMD Radeon GV-R68XTGAMING OC-16GD 16 GB GDDR6 Graphics Card', 1262.3, 'AMD', 'GIGABYTE')\n",
      "(104, 'GIGABYTE AMD Radeon GV-R69XTAORUS M-16GD 16 GB GDDR6 Graphics Card', 1803.29, 'AMD', 'GIGABYTE')\n",
      "(105, 'MSI NVIDIA GeForce RTX 3070 VENTUS 3X 8G OC LHR 8 GB GDDR6 Graphics Card', 697.26, 'NVIDIA', 'MSI')\n",
      "(106, 'ZOTAC NVIDIA RTX 3060 AMP White Edition 12 GB GDDR6 Graphics Card', 392.03, 'NVIDIA', 'ZOTAC')\n",
      "(107, 'GALAX NVIDIA GT 730 4 GB DDR3 Graphics Card', 76.94, 'NVIDIA', 'GALAX')\n",
      "(108, 'AARVEX NVIDIA GT610 1 GB DDR3 Graphics Card', 33.06, 'NVIDIA', 'AARVEX')\n",
      "(109, 'ZOTAC NVIDIA RTX 3070 Twin Edge LHR 8 GB GDDR6 Graphics Card', 697.26, 'NVIDIA', 'ZOTAC')\n",
      "(110, 'Inno3D NVIDIA GEFORCE RTX 3060 Ti iChill X3 RED LHR 8 GB GDDR6 Graphics Card', 665.05, 'NVIDIA', 'Inno3D')\n",
      "(111, 'HASTHIP NVIDIA Addressable RGB Graphics Card GPU Brace Support Video Card Sag Holder 1 GB DDR3 Graphics Card', 18.02, 'NVIDIA', 'HASTHIP')\n",
      "(112, 'ZOTAC NVIDIA RTX 3050 Twin Edge OC 8 GB GDDR6 Graphics Card', 396.71, 'NVIDIA', 'ZOTAC')\n",
      "(113, 'Inno3D NVIDIA GeForce RTX 2060 Super Twin X2 OC 8 GB GDDR6 Graphics Card', 540.98, 'NVIDIA', 'Inno3D')\n",
      "(114, 'MSI NVIDIA GeForce RTX 3080 VENTUS 3X PLUS 12G OC LHR 12 GB GDDR6X Graphics Card', 1418.58, 'NVIDIA', 'MSI')\n",
      "(115, 'Colorful NVIDIA GT-1050 4 GB DDR5 Graphics Card', 234.42, 'NVIDIA', 'Colorful')\n",
      "(116, 'Colorful NVIDIA RTX-3050 8 GB GDDR6 Graphics Card', 348.63, 'NVIDIA', 'Colorful')\n",
      "(117, 'ZOTAC NVIDIA RTX 2060 Twin Fan 12 GB GDDR6 Graphics Card', 444.8, 'NVIDIA', 'ZOTAC')\n",
      "(118, 'ASRock AMD Radeon RX6600XT CLD 8 GB GDDR6 Graphics Card', 480.87, 'AMD', 'ASRock')\n",
      "(119, 'Inno3D NVIDIA GEFORCE RTX 3070 Ti X3 8 GB GDDR6X Graphics Card', 721.31, 'NVIDIA', 'Inno3D')\n",
      "(202, 'Inno3D NVIDIA GEFORCE RTX 3080 Ti iChill X3 12 GB GDDR6X Graphics Card', 1622.96, 'NVIDIA', 'Inno3D')\n",
      "(203, 'GIGABYTE AMD Radeon GV-R65XTEAGLE-4GD 4 GB GDDR6 Graphics Card', 282.5, 'AMD', 'GIGABYTE')\n",
      "(204, 'Inno3D NVIDIA GEFORCE RTX 3080 iChill X4 LHR 12 GB GDDR6X Graphics Card', 1430.61, 'NVIDIA', 'Inno3D')\n",
      "(205, 'Inno3D NVIDIA GEFORCE RTX 3090 iChill Frostbite 24 GB GDDR6X Graphics Card', 2452.48, 'NVIDIA', 'Inno3D')\n",
      "(206, 'MSI NVIDIA RTX 3060 Ti 8 GB GDDR6 Graphics Card', 540.98, 'NVIDIA', 'MSI')\n",
      "(207, 'amd AMD Radeon Sapphire NITRO+ Radeon™ RX 6600 XT Graphic Card with 8 GB GDDR6, RDNA™ 2 8 GB GDDR6 Graphics Card', 595.08, 'AMD', 'amd')\n",
      "(208, 'amd AMD Radeon RX 6700 XT 12 GB GDDR6 Graphics Card', 733.33, 'AMD', 'amd')\n",
      "(209, 'Verilux NVIDIA Addressable RGB Graphics Card GPU Brace Support Video Card Sag Holder 1 GB DDR3 Graphics Card', 18.02, 'NVIDIA', 'Verilux')\n",
      "(210, 'MSI AMD Radeon Radeon RX 6600 MECH 2X 8G 8 GB GDDR6 Graphics Card', 420.76, 'AMD', 'MSI')\n",
      "(211, 'MSI NVIDIA GeForce RTX 2060 VENTUS GP OC 6 GB GDDR6 Graphics Card', 390.46, 'NVIDIA', 'MSI')\n",
      "(212, 'ASRock AMD Radeon RX6500XT PGD 4 GB GDDR6 Graphics Card', 252.45, 'AMD', 'ASRock')\n",
      "(213, 'amd AMD Radeon Sapphire Pulse Radeon™ RX 6800 Graphic Card with 16 GB GDDR6, RDNA™ 16 GB GDDR6 Graphics Card', 1202.19, 'AMD', 'amd')\n",
      "(214, 'PowerColor AMD Radeon Fighter 6700XT 12 GB GDDR6 Graphics Card', 756.06, 'AMD', 'PowerColor')\n",
      "(215, 'Xsentuals NVIDIA PCIe Riser Adapter Card VER009S / 009S Black & Gold 16x to 1x 60cm USB 3.0 Extension Cable - GPU Riser Adapter - Mining Bitcoin, Ethereum ETH Zcash ZEC Monero XMR 16 GB GDDR4 Graphics Card', 6.0, 'NVIDIA', 'Xsentuals')\n",
      "(216, 'GIGABYTE AMD Radeon GV-R69XTGAMING OC-16GD 16 GB GDDR6 Graphics Card', 1683.07, 'AMD', 'GIGABYTE')\n",
      "(217, 'MSI NVIDIA RTX 3070 GAMING 8 GB GDDR6 Graphics Card', 715.3, 'NVIDIA', 'MSI')\n",
      "(218, 'GIGABYTE NVIDIA 1650-1 Fan 4 GB GDDR6 Graphics Card', 158.69, 'NVIDIA', 'GIGABYTE')\n",
      "(219, 'MSI NVIDIA GeForce RTX 3080 SUPRIM X 12G LHR 12 GB GDDR6X Graphics Card', 2224.06, 'NVIDIA', 'MSI')\n",
      "(220, 'Inno3D NVIDIA GEFORCE RTX 3050 Twin X2 OC 8 GB GDDR6 Graphics Card', 377.65, 'NVIDIA', 'Inno3D')\n",
      "(221, 'amd AMD Radeon RX 6600 8 GB GDDR6 Graphics Card', 436.87, 'AMD', 'amd')\n",
      "(222, 'Inno3D NVIDIA GEFORCE RTX 3060 TI ITWIN X2 LHR 8 GB GDDR6 Graphics Card', 498.9, 'NVIDIA', 'Inno3D')\n",
      "(223, 'Colorful NVIDIA RTX-3080 Ti 12 GB GDDR6X Graphics Card', 1202.19, 'NVIDIA', 'Colorful')\n",
      "(224, 'Inno3D NVIDIA GEFORCE RTX 3060 Twin X2 OC 12 GB GDDR6 Graphics Card', 577.04, 'NVIDIA', 'Inno3D')\n",
      "(225, 'GEONIX NVIDIA GX GT610 2GB D3 2 GB DDR3 Graphics Card', 25.93, 'NVIDIA', 'GEONIX')\n",
      "(226, 'Inno3D NVIDIA RTX 3090 TI 24GB X3 OC 24 GB GDDR6X Graphics Card', 2488.54, 'NVIDIA', 'Inno3D')\n",
      "(227, 'LipiWorld NVIDIA VER-14Pro V014 Pro PCI-E 1X to 16X Pcie Riser for Bitcoin ETH Coin Mining 16 GB GDDR4 Graphics Card', 7.8, 'NVIDIA', 'LipiWorld')\n",
      "(228, 'Dtech NVIDIA NVIDIA GT210 1 GB DDR3 Graphics Card', 17.12, 'NVIDIA', 'Dtech')\n",
      "(229, 'ASRock AMD Radeon RX6800XT PGD 16 GB GDDR6 Graphics Card', 1142.08, 'AMD', 'ASRock')\n",
      "(230, 'ASUS AMD Radeon Dual RX 6500XT OC 4 GB GDDR6 Graphics Card', 216.38, 'AMD', 'ASUS')\n",
      "(231, 'MSI NVIDIA GeForce RTX 3080 Ti VENTUS 3X 12G OC 12 GB GDDR6X Graphics Card', 1863.4, 'NVIDIA', 'MSI')\n",
      "(232, 'MSI NVIDIA GeForce RTX 3050 GAMING X 8G 8 GB GDDR6 Graphics Card', 396.71, 'NVIDIA', 'MSI')\n",
      "(233, 'ASUS NVIDIA ROG-STRIX-RTX3080-O10G-V2 10 GB GDDR6X Graphics Card', 961.75, 'NVIDIA', 'ASUS')\n",
      "(234, 'MSI NVIDIA RTX 3090 Ti GAMING X TRIO 24G 24 GB GDDR6X Graphics Card', 2500.56, 'NVIDIA', 'MSI')\n",
      "(235, 'Inno3D NVIDIA GEFORCE GTX 1630 TWIN X2 OC 4 GB GDDR6 Graphics Card', 180.32, 'NVIDIA', 'Inno3D')\n",
      "(236, 'MSI NVIDIA GeForce RTX 3080 Ti GAMING X TRIO 12G 12 GB GDDR6X Graphics Card', 1803.29, 'NVIDIA', 'MSI')\n",
      "(237, 'ZOTAC NVIDIA RTX 3090 Trinity OC 24 GB GDDR6X Graphics Card', 2031.71, 'NVIDIA', 'ZOTAC')\n",
      "(238, 'HASTHIP Intel PCI-E PCI Express 3.0 X4 to NVME M.2 NVME to NVME SSD PCI-e 3.0 x 4 Host Control 1 GB DDR3 Graphics Card', 8.4, 'AMD', 'HASTHIP')\n",
      "(239, 'Verilux Intel M.2 NVME SSD Convert Adapter Card for MacBook Air Pro Retina (Year 2013-2017) 1 GB DDR3 Graphics Card', 9.06, 'AMD', 'Verilux')\n",
      "(362, 'Colorful NVIDIA RTX-3070 Ti 8 GB GDDR6 Graphics Card', 781.42, 'NVIDIA', 'Colorful')\n",
      "(363, 'ASUS NVIDIA GeForce GT 730 2GB GDDR5 64-Bit Graphics Card with 4-HDMI ports 2 GB GDDR5 Graphics Card', 143.05, 'NVIDIA', 'ASUS')\n",
      "(364, 'MSI AMD Radeon Radeon RX 6600 XT MECH 2X 8G OCV1 8 GB GDDR6 Graphics Card', 652.66, 'AMD', 'MSI')\n",
      "(365, 'ZOTAC NVIDIA RTX 3070 Twin Edge OC White Edition LHR 8 GB GDDR6 Graphics Card', 697.26, 'NVIDIA', 'ZOTAC')\n",
      "(366, 'GALAX NVIDIA NVIDIA GEFORCE GT 710 2GB GDDR3 Graphics Card (Black) 2 GB GDDR3 Graphics Card', 46.28, 'NVIDIA', 'GALAX')\n",
      "(367, 'ZEBRONICS NVIDIA ZEBGT730 4 GB GDDR3 Graphics Card', 49.88, 'NVIDIA', 'ZEBRONICS')\n",
      "(368, 'Sapphire AMD Radeon Radeon RX 6400 4 GB GDDR6 Graphics Card', 171.9, 'AMD', 'Sapphire')\n",
      "(369, 'Tobo NVIDIA M.2 To USB 3.0 Pcie 1x To 16x Riser Card Switch Transfer Card Adapter USB 3.0 1 GB DDR3 Graphics Card', 5.12, 'NVIDIA', 'Tobo')\n",
      "(370, 'sillora AMD Radeon AMD 8 GB GDDR5 Graphics Card', 129.83, 'AMD', 'sillora')\n",
      "(371, 'GIGABYTE AMD Radeon GV-R66EAGLE-8GD 8 GB GDDR6 Graphics Card', 498.9, 'AMD', 'GIGABYTE')\n",
      "(373, 'ZOTAC NVIDIA RTX 3080 Ti AMP Holo 12 GB GDDR6X Graphics Card', 1887.44, 'NVIDIA', 'ZOTAC')\n",
      "(374, 'mytechvision NVIDIA GTX 1050 4 GB GDDR5 Graphics Card', 144.25, 'NVIDIA', 'mytechvision')\n",
      "(375, 'LipiWorld NVIDIA Pack Of 2 VER011-PRO Riser Card 10 Capacitors PCI-E 1X to 16X 16 GB GDDR4 Graphics Card', 13.57, 'NVIDIA', 'LipiWorld')\n",
      "(376, 'Inno3D NVIDIA GEFORCE RTX 3080 iChill X4 LHR 10 GB GDDR6X Graphics Card', 1140.27, 'NVIDIA', 'Inno3D')\n",
      "(377, 'HASTHIP Intel M.2 NVME SSD Convert Adapter Card for MacBook Air Pro Retina (Year 2013-2017) 1 GB DDR3 Graphics Card', 9.06, 'AMD', 'HASTHIP')\n",
      "(378, 'Tobo NVIDIA VER009S PCIE Riser Express Cable 1X to 16X (Dual-6pin / MOLEX) with Led Graphics Extension Ethereum ETH Mining Powered PCI-E Riser Adapter Card, with 24inches USB 3.0 Cable (VER009S) 2 GB DDR2 Graphics Card', 6.0, 'NVIDIA', 'Tobo')\n",
      "(379, 'LipiWorld NVIDIA (Pack Of 2) VER-14Pro V014 Pro PCI-E 1X to 16X Pcie Riser Card 16 GB GDDR4 Graphics Card', 14.41, 'NVIDIA', 'LipiWorld')\n",
      "(380, 'ZOTAC NVIDIA RTX 3070 Ti Trinity 8 GB GDDR6X Graphics Card', 718.92, 'NVIDIA', 'ZOTAC')\n",
      "(381, 'GALAX NVIDIA GEFORCE GT 710 2GB 2 GB GDDR3 Graphics Card', 52.3, 'NVIDIA', 'GALAX')\n",
      "(382, 'Selito AMD Radeon AMD RADEON 8 GB DDR5 Graphics Card', 129.83, 'AMD', 'Selito')\n",
      "(383, 'Tobo NVIDIA ER010S Plus USB 3.0 PCI-E Riser VER 010S Plus Express 1X to 16X Extender Pcie Riser Adapter Card SATA 6 LED Light 1 GB DDR2 Graphics Card', 8.4, 'NVIDIA', 'Tobo')\n",
      "(384, 'ZEBRONICS NVIDIA ZEB GT730 4 GB GDDR3 Graphics Card', 52.6, 'NVIDIA', 'ZEBRONICS')\n",
      "(385, 'microware NVIDIA PCI-E Extender Riser Card USB 3.0 1x to 16x Adapter for BTC Miner 16 GB GDDR4 Graphics Card', 7.2, 'NVIDIA', 'microware')\n",
      "(386, 'Nextar NVIDIA GPU Expansion Card Usb 3.0 PCI-E 1X to 16X Extender Riser Ver 009s Card 16 GB GDDR4 Graphics Card', 6.0, 'NVIDIA', 'Nextar')\n",
      "(387, 'GIGABYTE NVIDIA GeForce RTX™ 3060 VISION OC 12G 12 GB GDDR6 Graphics Card', 1065.15, 'NVIDIA', 'GIGABYTE')\n",
      "(388, 'ASUS NVIDIA GeForce Dual GTX 1650 4GB DDR6 GRAPHIC CARD 4 GB GDDR6 Graphics Card', 192.34, 'NVIDIA', 'ASUS')\n",
      "(389, 'ZOTAC NVIDIA GeForce GT 730 Zone Edition 4 GB DDR3 Graphics Card', 95.57, 'NVIDIA', 'ZOTAC')\n",
      "(390, 'Selito NVIDIA GTX 1060 3 GB GDDR5 Graphics Card', 156.27, 'NVIDIA', 'Selito')\n",
      "(391, 'Etzin NVIDIA NVIDIA M.2 to PCI-E X16 Slot Adapter Card(EPL-409HS) 1 GB DDR2 Graphics Card', 5.33, 'NVIDIA', 'Etzin')\n",
      "(392, 'Etzin NVIDIA NVIDIA PCIe x1 to 4 USB Hub PCI-Expres(EPL-750PC) 1 GB DDR2 Graphics Card', 36.05, 'NVIDIA', 'Etzin')\n",
      "(393, 'srigs NVIDIA gt730ddr3 4 GB DDR3 Graphics Card', 48.08, 'NVIDIA', 'srigs')\n",
      "(394, 'Xsentuals NVIDIA STC PCIe Riser Adapter VER 008S PCI-E 16x to 1x 60 cm USB 3.0 Extension Cable and 4 Pin 6 PinB-SATA Power -Ethereum Mining ETH 16 GB GDDR4 Graphics Card', 5.76, 'NVIDIA', 'Xsentuals')\n",
      "(395, 'ASUS NVIDIA DUAL-RTX3060-O12G 12 GB GDDR6 Graphics Card', 1021.87, 'NVIDIA', 'ASUS')\n",
      "(396, 'GIGABYTE NVIDIA GeForce RTX™ 2060 D6 6G 6 GB GDDR6 Graphics Card', 655.2, 'NVIDIA', 'GIGABYTE')\n",
      "(397, 'Verilux NVIDIA Cable GPU Riser Adapter-Mining Bitcoin, Ethereum ETH Zcash ZEC Monero 1 GB DDR2 Graphics Card', 15.71, 'NVIDIA', 'Verilux')\n",
      "(398, 'Nextron NVIDIA GT610 2 GB DDR3 Graphics Card', 36.05, 'NVIDIA', 'Nextron')\n",
      "(399, 'ZEB NVIDIA -GT610-1GD3 1 GB DDR3 Graphics Card', 30.66, 'NVIDIA', 'ZEB')\n",
      "(562, 'Verilux NVIDIA Card for Key M 2230, 2242, 2260, 2280 Size M.2 SSD, Support PCIe x4 x8 x16 256 MB GDDR5 Graphics Card', 7.44, 'NVIDIA', 'Verilux')\n",
      "(563, 'ZEB NVIDIA GT610-2GD3 2 GB DDR3 Graphics Card', 35.46, 'NVIDIA', 'ZEB')\n",
      "(564, 'ZOTAC NVIDIA GAMING GeForce RTX 3050 Twin Edge 8 GB GDDR6 Graphics Card', 296.63, 'NVIDIA', 'ZOTAC')\n",
      "(565, 'ZOTAC NVIDIA GEFORCE RTX 4060 OC SPIDER-MANTM: ACROSS THE SPIDER-VERSE BUNDLE 8 GB GDDR6 Graphics Card', 388.11, 'NVIDIA', 'ZOTAC')\n",
      "(566, 'Verilux Intel PCI-E PCI Express 3.0 X4 to NVME M.2 NVME to NVME SSD PCI-e 3.0 x 4 Host Control 1 GB DDR3 Graphics Card', 7.98, 'AMD', 'Verilux')\n",
      "(567, 'Selito AMD Radeon RX 580 8 GB GDDR5 Graphics Card', 132.23, 'AMD', 'Selito')\n",
      "(568, 'ZOTAC NVIDIA GeForce GT 730 4GB Zone Edition 4 GB DDR3 Graphics Card', 90.61, 'NVIDIA', 'ZOTAC')\n",
      "(569, 'ZOTAC NVIDIA GeForce RTX 3060 Twin Edge 12 GB GDDR6 Graphics Card', 348.9, 'NVIDIA', 'ZOTAC')\n",
      "(570, 'ZOTAC NVIDIA GeForce GT 710 2 GB DDR3 Graphics Card', 48.24, 'NVIDIA', 'ZOTAC')\n",
      "(571, 'Anwara NVIDIA POKEMON GOLD 16 GB GDDR4 Graphics Card', 10.81, 'NVIDIA', 'Anwara')\n",
      "(572, 'srigs NVIDIA zeb-gt-4gd3 4 GB DDR3 Graphics Card', 45.91, 'NVIDIA', 'srigs')\n",
      "(573, 'amd AMD Radeon Sapphire PULSE Radeon™ RX 6800 XT Graphic Card with 16 GB GDDR6, RDNA™ 2 16 GB GDDR6 Graphics Card', 1394.54, 'AMD', 'amd')\n",
      "(574, 'Jack and Rex NVIDIA NGFF M.2 M key to USB 3.0 Adapter Card Extender M2 to USB3.0 Adapter Converter for PCI-E Riser Card Graphics GPU Mining Miner Package ships in Anti-electrostatic bags to prevent damage. 1 GB DDR2 Graphics Card', 4.68, 'NVIDIA', 'Jack')\n",
      "(575, 'MSI AMD Radeon Radeon RX 6800 GAMING X TRIO 16G 16 GB GDDR6 Graphics Card', 1110.71, 'AMD', 'MSI')\n",
      "(576, 'MSI AMD Radeon RX 6700 XT 12 GB GDDR6 Graphics Card', 925.68, 'AMD', 'MSI')\n",
      "(577, 'Zorbes Intel VER009S-Gold PCIE Riser, PCIE Cable 6 Pin 1X to 16X Powered Pcie Riser Adapter 1 GB DDR3 Graphics Card', 10.69, 'AMD', 'Zorbes')\n",
      "(578, 'ZOTAC NVIDIA ZT-T20600H-10M 6 GB GDDR6 Graphics Card', 420.76, 'NVIDIA', 'ZOTAC')\n",
      "(579, 'MSI AMD Radeon Radeon RX 6600 XT MECH 2X 8G OC 8 GB GDDR6 Graphics Card', 501.39, 'AMD', 'MSI')\n",
      "(580, 'MSI AMD Radeon Radeon RX 6700 XT MECH 2X 12G OC 12 GB GDDR6 Graphics Card', 925.68, 'AMD', 'MSI')\n",
      "(581, 'REO AMD/ATI AMDR5340 2 GB DDR3 Graphics Card', 50.49, 'AMD', 'REO')\n",
      "(582, 'amd AMD Radeon Sapphire NITRO+ Radeon™ RX 6800 Graphic Card with 16 GB GDDR6, RDNA™ 2 16 GB GDDR6 Graphics Card', 1358.47, 'AMD', 'amd')\n",
      "(583, 'Etzin NVIDIA NVIDIA PCI-E 1X to SATA pcie to sata10 port Card(EPL-751PC) 1 GB DDR2 Graphics Card', 96.16, 'NVIDIA', 'Etzin')\n",
      "(584, 'MSI NVIDIA GeForce RTX 3090 GAMING X TRIO 24G 24 GB GDDR6 Graphics Card', 2163.95, 'NVIDIA', 'MSI')\n",
      "(585, 'MSI AMD Radeon Radeon RX 6600 ARMOR 8G 8 GB GDDR6 Graphics Card', 535.09, 'AMD', 'MSI')\n",
      "(586, 'amd AMD Radeon Sapphire Nitro 16 GB GDDR6 Graphics Card', 1295.96, 'AMD', 'amd')\n",
      "(587, 'GIGABYTE AMD Radeon GV-R66XTEAGLE-8GD 8 GB GDDR6 Graphics Card', 565.02, 'AMD', 'GIGABYTE')\n",
      "(588, 'Tobo AMD/ATI Riser Card VER0010S Plus Ultra Latest / 8 Capacitor / GPU Riser / PCIE Riser Express Cable 16x to 1x Power PCIe Riser Adapter 80cm USB 3.0 Cable (VER 010S-Pack-2) 1 GB DDR2 Graphics Card', 21.09, 'AMD', 'Tobo')\n",
      "(589, 'LipiWorld NVIDIA Pack Of 6 VER011-PRO Riser Card 10 Capacitors PCI-E 1X to 16X 16 GB GDDR4 Graphics Card', 36.05, 'NVIDIA', 'LipiWorld')\n",
      "(590, 'Verilux Intel 2 Pack Pi+ VER009S Gold PCI-E 6Pin 1X to 16X Powered Pcie Riser Adapter Card 256 MB DDR2 Graphics Card', 17.56, 'AMD', 'Verilux')\n",
      "(591, 'Verilux NVIDIA PCI-E Extender Cable PCIe 16x to 16x Flexible GPU Riser Adapter Card Extender Cable 256 MB GDDR3 Graphics Card', 9.24, 'NVIDIA', 'Verilux')\n",
      "(592, 'LipiWorld NVIDIA (Pack Of 6) VER-14Pro V014 Pro PCI-E 1X to 16X Pcie Riser Card 16 GB GDDR4 Graphics Card', 39.66, 'NVIDIA', 'LipiWorld')\n",
      "(593, 'Etzin NVIDIA NVIDIA 6 Port SATA 3 PCI Express Expansion Card(EPL-752PC) 1 GB DDR2 Graphics Card', 60.1, 'NVIDIA', 'Etzin')\n",
      "(594, 'Verilux AMD/ATI PC PWM Fan Hub CPU Cooling HUB 10 Port 12V 4 Pin Fan PWM Splitter Splitter 256 MB GDDR5 Graphics Card', 7.98, 'AMD', 'Verilux')\n",
      "(595, 'Nextar NVIDIA VER 009S Riser Cable Black PCIE Riser 1X to 16X Graphics Extension for GPU Mining Powered Riser Adapter Card, 60cm USB 3.0 Cable, 4 Solid Capacitors, Two 6PIN & Molex 3 Power Options(Pack 0f 5) 16 GB GDDR4 Graphics Card', 39.06, 'NVIDIA', 'Nextar')\n",
      "(596, 'Nextar NVIDIA VER 009S Riser Cable Black PCIE Riser 1X to 16X Graphics Extension for GPU Mining Powered Riser Adapter Card, 60cm USB 3.0 Cable, 4 Solid Capacitors, Two 6PIN & Molex 3 Power Options(Pack 0f 2) 16 GB GDDR4 Graphics Card', 18.57, 'NVIDIA', 'Nextar')\n",
      "(597, 'LipiWorld NVIDIA Pcie Splitter 1 to 4 PCI Riser Card PCIe 1 to 4 Port 4 Risers into 1 PCI Card 16 GB GDDR4 Graphics Card', 22.59, 'NVIDIA', 'LipiWorld')\n",
      "(598, 'Electronicspices AMD Radeon Zotac NTK FD5010U12S DC 12V 0.22AMP graphics fan 1 GB DDR5 Graphics Card', 5.84, 'AMD', 'Electronicspices')\n",
      "(599, 'Tobo NVIDIA M.2 to 2.5 inch SATA Enclosure,M.2 SSD to 2.5 inch SATA Adapter with case 10 GB DDR2 Graphics Card', 16.52, 'NVIDIA', 'Tobo')\n",
      "191\n"
     ]
    }
   ],
   "source": [
    "#quick test query\n",
    "from sqlalchemy import text\n",
    "connection = engine.connect()\n",
    "\n",
    "query = text(\"select * from gpu\")\n",
    "result = connection.execute(query)\n",
    "\n",
    "counter = 0\n",
    "for row in result:\n",
    "    counter+=1\n",
    "    print(row)\n",
    "    \n",
    "print(counter)\n",
    "result.close()\n",
    "connection.close()"
   ],
   "metadata": {
    "collapsed": false,
    "ExecuteTime": {
     "end_time": "2023-09-30T11:20:33.750561700Z",
     "start_time": "2023-09-30T11:20:33.743049Z"
    }
   },
   "id": "28d8f22cd1a39f3c"
  }
 ],
 "metadata": {
  "kernelspec": {
   "display_name": "Python 3",
   "language": "python",
   "name": "python3"
  },
  "language_info": {
   "codemirror_mode": {
    "name": "ipython",
    "version": 2
   },
   "file_extension": ".py",
   "mimetype": "text/x-python",
   "name": "python",
   "nbconvert_exporter": "python",
   "pygments_lexer": "ipython2",
   "version": "2.7.6"
  }
 },
 "nbformat": 4,
 "nbformat_minor": 5
}
