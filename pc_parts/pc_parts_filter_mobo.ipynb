{
 "cells": [
  {
   "cell_type": "code",
   "execution_count": 35,
   "id": "initial_id",
   "metadata": {
    "collapsed": true,
    "ExecuteTime": {
     "end_time": "2023-09-30T10:56:07.313317Z",
     "start_time": "2023-09-30T10:56:07.308048700Z"
    }
   },
   "outputs": [],
   "source": [
    "import pandas as pd"
   ]
  },
  {
   "cell_type": "code",
   "execution_count": 68,
   "outputs": [],
   "source": [
    "df = pd.read_csv('./data/MotherBoard.csv')"
   ],
   "metadata": {
    "collapsed": false,
    "ExecuteTime": {
     "end_time": "2023-09-30T13:27:03.750379200Z",
     "start_time": "2023-09-30T13:27:03.736522500Z"
    }
   },
   "id": "fbb4cd277593b9a9"
  },
  {
   "cell_type": "code",
   "execution_count": 18,
   "outputs": [],
   "source": [
    "# Prices are in Indian Rupee and in String format, change it to USD and int using API\n",
    "import requests\n",
    "\n",
    "\n",
    "class CurrencyExchanger:\n",
    "    rates = {}\n",
    "\n",
    "    def __init__(self, url, headers, params):\n",
    "        response = requests.get(url, headers=headers, params=params)\n",
    "        data = response.json()\n",
    "        self.rates = data['rates']\n",
    "\n",
    "    def converter(self, params, amount):\n",
    "        exchange_rate = self.rates[params['symbols']]\n",
    "        return round(exchange_rate * amount, 2)"
   ],
   "metadata": {
    "collapsed": false,
    "ExecuteTime": {
     "end_time": "2023-09-30T10:53:16.296304500Z",
     "start_time": "2023-09-30T10:53:16.219730Z"
    }
   },
   "id": "bd6d22986c59fce5"
  },
  {
   "cell_type": "code",
   "execution_count": 19,
   "outputs": [],
   "source": [
    "# Instancing the class object\n",
    "\n",
    "url = 'https://api.apilayer.com/fixer/latest'\n",
    "headers = {\n",
    "    'apikey': 'i0khQ80cJeZhfSlcUVClOsXNtOOize60'\n",
    "}\n",
    "# We want to convert Indian Rupee to USA Dollar\n",
    "params = {\n",
    "    'base': 'INR',\n",
    "    'symbols': 'USD'\n",
    "}\n",
    "\n",
    "currency_exchanger = CurrencyExchanger(url, headers, params)\n",
    "\n",
    "#Store only the rate and use it onward to data conversion (Note: we only have 1000 request/month)\n",
    "convert_rate = currency_exchanger.rates[params['symbols']]"
   ],
   "metadata": {
    "collapsed": false,
    "ExecuteTime": {
     "end_time": "2023-09-30T10:53:19.948747600Z",
     "start_time": "2023-09-30T10:53:19.102376800Z"
    }
   },
   "id": "5fd930f39cb9ff54"
  },
  {
   "cell_type": "code",
   "execution_count": 20,
   "outputs": [
    {
     "data": {
      "text/plain": "'₹1,615'"
     },
     "execution_count": 20,
     "metadata": {},
     "output_type": "execute_result"
    }
   ],
   "source": [
    "# The smallest price is 1000 INR with a comma separator\n",
    "min(df['MRP'])"
   ],
   "metadata": {
    "collapsed": false,
    "ExecuteTime": {
     "end_time": "2023-09-30T10:53:21.028000200Z",
     "start_time": "2023-09-30T10:53:21.025247500Z"
    }
   },
   "id": "cd4337d94b22d3ee"
  },
  {
   "cell_type": "code",
   "execution_count": 58,
   "outputs": [],
   "source": [
    "# Making the price integer\n",
    "df['MRP'] = df['MRP'].str.replace('₹', '')\n",
    "df['MRP'] = df['MRP'].str.replace(',', '')\n",
    "df['MRP'] = df['MRP'].astype(int)"
   ],
   "metadata": {
    "collapsed": false,
    "ExecuteTime": {
     "end_time": "2023-09-30T11:23:02.436496600Z",
     "start_time": "2023-09-30T11:23:02.413042200Z"
    }
   },
   "id": "85d6691dd55d7859"
  },
  {
   "cell_type": "code",
   "execution_count": 59,
   "outputs": [],
   "source": [
    "# Price conversion to USD\n",
    "df['MRP'] = round(df['MRP'] * convert_rate, 2)"
   ],
   "metadata": {
    "collapsed": false,
    "ExecuteTime": {
     "end_time": "2023-09-30T11:23:03.246681600Z",
     "start_time": "2023-09-30T11:23:03.236166300Z"
    }
   },
   "id": "9717157cc079304c"
  },
  {
   "cell_type": "code",
   "execution_count": 60,
   "outputs": [
    {
     "data": {
      "text/plain": "      Unnamed: 0                                        motherBoard     MRP\n0              0                       ASRock B450M-HDV Motherboard   68.26\n1              1  ZEBRONICS ZEB-H81M2 with PCIE M.2 / NVMe Slot ...   29.44\n2              2        ZEBRONICS H61-i5-4GB-PFAN-COMBO Motherboard   45.67\n3              3  ZEBRONICS Zeb H61M2 Motherboard with M2 slot L...   27.64\n4              4                  ASUS PRIME H610M-E D4 Motherboard  107.60\n...          ...                                                ...     ...\n1435        1435   Raspberry Pi Zero 2W A-Tiny Computer Motherboard   30.04\n1436        1436                  Frantech Frontech_H61 Motherboard   39.66\n1437        1437  ZEBRONICS H55+128GB SATA SSD + 4GB starlite DD...   82.95\n1438        1438  nVIDIA Jetson Nano 4GB Developer Kit - B01 Mod...  234.43\n1439        1439                    ZEBRONICS Zeb-H61M2 Motherboard   29.44\n\n[1440 rows x 3 columns]",
      "text/html": "<div>\n<style scoped>\n    .dataframe tbody tr th:only-of-type {\n        vertical-align: middle;\n    }\n\n    .dataframe tbody tr th {\n        vertical-align: top;\n    }\n\n    .dataframe thead th {\n        text-align: right;\n    }\n</style>\n<table border=\"1\" class=\"dataframe\">\n  <thead>\n    <tr style=\"text-align: right;\">\n      <th></th>\n      <th>Unnamed: 0</th>\n      <th>motherBoard</th>\n      <th>MRP</th>\n    </tr>\n  </thead>\n  <tbody>\n    <tr>\n      <th>0</th>\n      <td>0</td>\n      <td>ASRock B450M-HDV Motherboard</td>\n      <td>68.26</td>\n    </tr>\n    <tr>\n      <th>1</th>\n      <td>1</td>\n      <td>ZEBRONICS ZEB-H81M2 with PCIE M.2 / NVMe Slot ...</td>\n      <td>29.44</td>\n    </tr>\n    <tr>\n      <th>2</th>\n      <td>2</td>\n      <td>ZEBRONICS H61-i5-4GB-PFAN-COMBO Motherboard</td>\n      <td>45.67</td>\n    </tr>\n    <tr>\n      <th>3</th>\n      <td>3</td>\n      <td>ZEBRONICS Zeb H61M2 Motherboard with M2 slot L...</td>\n      <td>27.64</td>\n    </tr>\n    <tr>\n      <th>4</th>\n      <td>4</td>\n      <td>ASUS PRIME H610M-E D4 Motherboard</td>\n      <td>107.60</td>\n    </tr>\n    <tr>\n      <th>...</th>\n      <td>...</td>\n      <td>...</td>\n      <td>...</td>\n    </tr>\n    <tr>\n      <th>1435</th>\n      <td>1435</td>\n      <td>Raspberry Pi Zero 2W A-Tiny Computer Motherboard</td>\n      <td>30.04</td>\n    </tr>\n    <tr>\n      <th>1436</th>\n      <td>1436</td>\n      <td>Frantech Frontech_H61 Motherboard</td>\n      <td>39.66</td>\n    </tr>\n    <tr>\n      <th>1437</th>\n      <td>1437</td>\n      <td>ZEBRONICS H55+128GB SATA SSD + 4GB starlite DD...</td>\n      <td>82.95</td>\n    </tr>\n    <tr>\n      <th>1438</th>\n      <td>1438</td>\n      <td>nVIDIA Jetson Nano 4GB Developer Kit - B01 Mod...</td>\n      <td>234.43</td>\n    </tr>\n    <tr>\n      <th>1439</th>\n      <td>1439</td>\n      <td>ZEBRONICS Zeb-H61M2 Motherboard</td>\n      <td>29.44</td>\n    </tr>\n  </tbody>\n</table>\n<p>1440 rows × 3 columns</p>\n</div>"
     },
     "execution_count": 60,
     "metadata": {},
     "output_type": "execute_result"
    }
   ],
   "source": [
    "df"
   ],
   "metadata": {
    "collapsed": false,
    "ExecuteTime": {
     "end_time": "2023-09-30T11:23:04.306834300Z",
     "start_time": "2023-09-30T11:23:04.298653600Z"
    }
   },
   "id": "8a49aed983dee676"
  },
  {
   "cell_type": "code",
   "execution_count": 61,
   "outputs": [],
   "source": [
    "#Preparing sql export\n",
    "df.rename(columns={'Unnamed: 0': 'id', 'motherBoard': 'name', 'MRP': 'mrp_usd'}, inplace=True)"
   ],
   "metadata": {
    "collapsed": false,
    "ExecuteTime": {
     "end_time": "2023-09-30T11:23:05.707576700Z",
     "start_time": "2023-09-30T11:23:05.702194200Z"
    }
   },
   "id": "28f9389710cee12"
  },
  {
   "cell_type": "code",
   "execution_count": 62,
   "outputs": [],
   "source": [
    "# Data validation \n",
    "df = df[df['name'].str.contains('Motherboard')] \n",
    "df = df.drop_duplicates(subset=['name', 'mrp_usd'])"
   ],
   "metadata": {
    "collapsed": false,
    "ExecuteTime": {
     "end_time": "2023-09-30T11:23:06.526826600Z",
     "start_time": "2023-09-30T11:23:06.521689600Z"
    }
   },
   "id": "cd10da269e51d14d"
  },
  {
   "cell_type": "code",
   "execution_count": 63,
   "outputs": [],
   "source": [
    "df['brand'] = df['name'].str.split(' ').str[0]"
   ],
   "metadata": {
    "collapsed": false,
    "ExecuteTime": {
     "end_time": "2023-09-30T11:23:08.816603100Z",
     "start_time": "2023-09-30T11:23:08.798893600Z"
    }
   },
   "id": "75b039b8ebb31d53"
  },
  {
   "cell_type": "code",
   "execution_count": 69,
   "outputs": [
    {
     "data": {
      "text/plain": "      Unnamed: 0                                        motherBoard      MRP\n0              0                       ASRock B450M-HDV Motherboard   ₹5,678\n1              1  ZEBRONICS ZEB-H81M2 with PCIE M.2 / NVMe Slot ...   ₹2,449\n2              2        ZEBRONICS H61-i5-4GB-PFAN-COMBO Motherboard   ₹3,799\n3              3  ZEBRONICS Zeb H61M2 Motherboard with M2 slot L...   ₹2,299\n4              4                  ASUS PRIME H610M-E D4 Motherboard   ₹8,950\n...          ...                                                ...      ...\n1435        1435   Raspberry Pi Zero 2W A-Tiny Computer Motherboard   ₹2,499\n1436        1436                  Frantech Frontech_H61 Motherboard   ₹3,299\n1437        1437  ZEBRONICS H55+128GB SATA SSD + 4GB starlite DD...   ₹6,900\n1438        1438  nVIDIA Jetson Nano 4GB Developer Kit - B01 Mod...  ₹19,500\n1439        1439                    ZEBRONICS Zeb-H61M2 Motherboard   ₹2,449\n\n[1440 rows x 3 columns]",
      "text/html": "<div>\n<style scoped>\n    .dataframe tbody tr th:only-of-type {\n        vertical-align: middle;\n    }\n\n    .dataframe tbody tr th {\n        vertical-align: top;\n    }\n\n    .dataframe thead th {\n        text-align: right;\n    }\n</style>\n<table border=\"1\" class=\"dataframe\">\n  <thead>\n    <tr style=\"text-align: right;\">\n      <th></th>\n      <th>Unnamed: 0</th>\n      <th>motherBoard</th>\n      <th>MRP</th>\n    </tr>\n  </thead>\n  <tbody>\n    <tr>\n      <th>0</th>\n      <td>0</td>\n      <td>ASRock B450M-HDV Motherboard</td>\n      <td>₹5,678</td>\n    </tr>\n    <tr>\n      <th>1</th>\n      <td>1</td>\n      <td>ZEBRONICS ZEB-H81M2 with PCIE M.2 / NVMe Slot ...</td>\n      <td>₹2,449</td>\n    </tr>\n    <tr>\n      <th>2</th>\n      <td>2</td>\n      <td>ZEBRONICS H61-i5-4GB-PFAN-COMBO Motherboard</td>\n      <td>₹3,799</td>\n    </tr>\n    <tr>\n      <th>3</th>\n      <td>3</td>\n      <td>ZEBRONICS Zeb H61M2 Motherboard with M2 slot L...</td>\n      <td>₹2,299</td>\n    </tr>\n    <tr>\n      <th>4</th>\n      <td>4</td>\n      <td>ASUS PRIME H610M-E D4 Motherboard</td>\n      <td>₹8,950</td>\n    </tr>\n    <tr>\n      <th>...</th>\n      <td>...</td>\n      <td>...</td>\n      <td>...</td>\n    </tr>\n    <tr>\n      <th>1435</th>\n      <td>1435</td>\n      <td>Raspberry Pi Zero 2W A-Tiny Computer Motherboard</td>\n      <td>₹2,499</td>\n    </tr>\n    <tr>\n      <th>1436</th>\n      <td>1436</td>\n      <td>Frantech Frontech_H61 Motherboard</td>\n      <td>₹3,299</td>\n    </tr>\n    <tr>\n      <th>1437</th>\n      <td>1437</td>\n      <td>ZEBRONICS H55+128GB SATA SSD + 4GB starlite DD...</td>\n      <td>₹6,900</td>\n    </tr>\n    <tr>\n      <th>1438</th>\n      <td>1438</td>\n      <td>nVIDIA Jetson Nano 4GB Developer Kit - B01 Mod...</td>\n      <td>₹19,500</td>\n    </tr>\n    <tr>\n      <th>1439</th>\n      <td>1439</td>\n      <td>ZEBRONICS Zeb-H61M2 Motherboard</td>\n      <td>₹2,449</td>\n    </tr>\n  </tbody>\n</table>\n<p>1440 rows × 3 columns</p>\n</div>"
     },
     "execution_count": 69,
     "metadata": {},
     "output_type": "execute_result"
    }
   ],
   "source": [
    "df"
   ],
   "metadata": {
    "collapsed": false,
    "ExecuteTime": {
     "end_time": "2023-09-30T13:27:14.014330300Z",
     "start_time": "2023-09-30T13:27:14.005248200Z"
    }
   },
   "id": "89ab6662a3479314"
  },
  {
   "cell_type": "code",
   "execution_count": 65,
   "outputs": [
    {
     "data": {
      "text/plain": "308"
     },
     "execution_count": 65,
     "metadata": {},
     "output_type": "execute_result"
    }
   ],
   "source": [
    "#sql export\n",
    "from sqlalchemy import create_engine\n",
    "\n",
    "#Placeholder localhost login\n",
    "mysql_config = {\n",
    "    'user': 'pycharm',\n",
    "    'password': 'testtest-123',\n",
    "    'host': 'localhost',\n",
    "    'database': 'projectcpu'\n",
    "}\n",
    "\n",
    "engine = create_engine(\n",
    "    f\"mysql+mysqlconnector://{mysql_config['user']}:{mysql_config['password']}@{mysql_config['host']}/{mysql_config['database']}\")\n",
    "\n",
    "#Use only third of the data atm\n",
    "df.to_sql(name='mobo', con=engine, if_exists='append', index=False)\n",
    "\n"
   ],
   "metadata": {
    "collapsed": false,
    "ExecuteTime": {
     "end_time": "2023-09-30T11:23:44.949175600Z",
     "start_time": "2023-09-30T11:23:44.913142500Z"
    }
   },
   "id": "1e5b56df9353de02"
  },
  {
   "cell_type": "code",
   "execution_count": 67,
   "outputs": [
    {
     "name": "stdout",
     "output_type": "stream",
     "text": [
      "(0, 'ASRock B450M-HDV Motherboard', 68.26, 'ASRock')\n",
      "(1, 'ZEBRONICS ZEB-H81M2 with PCIE M.2 / NVMe Slot Motherboard', 29.44, 'ZEBRONICS')\n",
      "(2, 'ZEBRONICS H61-i5-4GB-PFAN-COMBO Motherboard', 45.67, 'ZEBRONICS')\n",
      "(3, 'ZEBRONICS Zeb H61M2 Motherboard with M2 slot LGA 1155 Socket Motherboard', 27.64, 'ZEBRONICS')\n",
      "(4, 'ASUS PRIME H610M-E D4 Motherboard', 107.6, 'ASUS')\n",
      "(5, 'MSI B550M PRO-VDH WIFI Motherboard', 156.27, 'MSI')\n",
      "(6, 'ZEBRONICS Zeb-H61M2 Motherboard', 27.64, 'ZEBRONICS')\n",
      "(7, 'Ant Value G41MAD3 Motherboard', 25.98, 'Ant')\n",
      "(8, 'ASUS PRIME B550M-A WIFI II Motherboard', 168.3, 'ASUS')\n",
      "(9, 'ASUS PRIME A320M-K Motherboard', 72.12, 'ASUS')\n",
      "(10, 'ZEBRONICS ZEB-H61 Motherboard', 27.64, 'ZEBRONICS')\n",
      "(11, 'ASUS Prime-B450M-A-II Motherboard', 108.19, 'ASUS')\n",
      "(12, 'ZEBRONICS H61 Motherboard', 25.29, 'ZEBRONICS')\n",
      "(13, 'ASRock B550M Pro4 Motherboard', 112.87, 'ASRock')\n",
      "(14, 'GIGABYTE A520M K Motherboard', 70.92, 'GIGABYTE')\n",
      "(15, 'ASUS ROG STRIX Z590-E Gaming Wi-Fi Motherboard', 402.94, 'ASUS')\n",
      "(16, 'ASUS ?PRIME H410M-E Motherboard', 84.14, 'ASUS')\n",
      "(17, 'MSI PRO H510M-B Motherboard, Micro-ATX Motherboard', 72.12, 'MSI')\n",
      "(18, 'ASUS ?ROG STRIX Z790-H GAMING WIFI Motherboard', 427.01, 'ASUS')\n",
      "(19, 'GIGABYTE B550M-DS3H Motherboard', 117.82, 'GIGABYTE')\n",
      "(20, 'Frontech FT- H61 with Nvme slot LGA 1155 Socket Motherboard', 26.44, 'Frontech')\n",
      "(21, 'ASUS TUF Gaming B550-PLUS Motherboard', 191.46, 'ASUS')\n",
      "(22, 'GEONIX GX-H61 DDR3 Motherboard|2.0 USB| LGA 1155 Support Intel 2nd and 3rd Gen CPU DDR3 Motherboard', 24.03, 'GEONIX')\n",
      "(23, 'ASUS ROG STRIX X670E A GAMING WIFI Motherboard', 501.79, 'ASUS')\n",
      "(24, 'MSI B450M PRO-VDH MAX Mini-ATX AM4 Gaming Motherboard', 106.98, 'MSI')\n",
      "(25, 'GIGABYTE B450M DS3H (AMD Ryzen AM4/M.2/HMDI/DVI/USB 3.1/DDR4/Micro ATX) Motherboard', 98.46, 'GIGABYTE')\n",
      "(26, 'ASUS TUF Gaming B560M-Plus Motherboard', 173.86, 'ASUS')\n",
      "(27, 'LAPCARE h81 Motherboard', 39.66, 'LAPCARE')\n",
      "(28, 'ASRock B560 Steel Legend Motherboard', 140.9, 'ASRock')\n",
      "(29, 'MSI MEG Z590 GODLIKE Motherboard', 1190.17, 'MSI')\n",
      "(30, 'ASUS ROG STRIX Z590-F Gaming Wi-Fi Motherboard', 360.65, 'ASUS')\n",
      "(31, 'ASRock B550 PG Riptide Motherboard', 146.42, 'ASRock')\n",
      "(32, 'ASRock Z690 Pro RS Motherboard', 216.38, 'ASRock')\n",
      "(33, 'ASUS Prime Z690-A Motherboard', 360.06, 'ASUS')\n",
      "(34, 'Raspberry Pi 4-Model B-8GB RAM Motherboard', 97.37, 'Raspberry')\n",
      "(35, 'MSI PRO H410M-B Motherboard', 84.14, 'MSI')\n",
      "(36, 'Raspberry Pi 3 Model B+ Kit with Adapter Case LAN-HDMI Cable HeatSink SD Card & RPi 3B Plus Motherboard', 66.11, 'Raspberry')\n",
      "(37, 'ZEBRONICS ZEB-61 MOTHERBOARD Motherboard', 26.75, 'ZEBRONICS')\n",
      "(38, 'ASUS Prime Z690-P D4 Motherboard', 258.46, 'ASUS')\n",
      "(39, 'ASUS ROG Strix Z490-F Gaming Motherboard', 309.19, 'ASUS')\n",
      "(80, 'ASRock H610M-HDV/M.2 Motherboard', 84.38, 'ASRock')\n",
      "(81, 'ASUS Prime B550M-K Motherboard', 124.84, 'ASUS')\n",
      "(82, 'MSI A320M-A PRO AMD AM4 m-ATX DDR4 Motherboard', 72.12, 'MSI')\n",
      "(83, 'GIGABYTE B650M K Motherboard', 174.32, 'GIGABYTE')\n",
      "(84, 'GIGABYTE B550 GAMING X Motherboard', 146.73, 'GIGABYTE')\n",
      "(85, 'ZEBRONICS ZEB-H61M2 with PCIE M.2 / NVMe Slot (LGA 1155 Socket) Motherboard', 27.64, 'ZEBRONICS')\n",
      "(86, 'ZEBRONICS ZEB-H310-NVMe Motherboard', 60.1, 'ZEBRONICS')\n",
      "(87, 'ZEBRONICS Zeb H110-D4 LGA 1151 Socket Motherboard Motherboard', 52.14, 'ZEBRONICS')\n",
      "(88, 'ZEB ZEBRONICS H61M2 Motherboard', 24.63, 'ZEB')\n",
      "(89, 'EXPERTRONICS Consistent CMB G41-II DDR2 (3 Year Warranty) Motherboard', 24.5, 'EXPERTRONICS')\n",
      "(90, 'ASUS TUF-GAMING-B550M-E Motherboard', 158.46, 'ASUS')\n",
      "(91, 'GEONIX Geonix_H61 Motherboard', 21.52, 'GEONIX')\n",
      "(92, 'ZEBRONICS Zeb H110-D4 Motherboard', 47.85, 'ZEBRONICS')\n",
      "(93, 'ASUS TUF GAMING X670E PLUS Motherboard', 396.15, 'ASUS')\n",
      "(94, 'GIGABYTE B450-Aorus Elite V2 Motherboard', 120.74, 'GIGABYTE')\n",
      "(95, 'Enter E-G41D2 (4SATA, 775LGA, DDR2, 10/100LAN, Intel G41+ICH7 Chipset, 5.1Audio, PCIe) Motherboard', 23.38, 'Enter')\n",
      "(96, 'Frontech G41/775 DDR2 Motherboard', 23.73, 'Frontech')\n",
      "(97, 'Matrix MXH81 Motherboard', 31.15, 'Matrix')\n",
      "(98, 'Ant Value H110MAD4 Motherboard', 51.17, 'Ant')\n",
      "(99, 'MSI PRO B660-A DDR4 Motherboard', 293.93, 'MSI')\n",
      "(100, 'Enter i3,i5,i7 SUPPORT E-H61 MOTHERBOARD Motherboard', 24.89, 'Enter')\n",
      "(101, 'GIGABYTE B450-S2H Motherboard', 81.14, 'GIGABYTE')\n",
      "(102, 'ASRock B560 Pro4 Motherboard', 111.79, 'ASRock')\n",
      "(103, 'ZEBRONICS ZEB-H81M2 with PCIE M.2 / NVMe Slot (LGA 1150 Socket) Motherboard', 29.44, 'ZEBRONICS')\n",
      "(104, 'ASRock X570 Phantom Gaming4 Motherboard', 171.54, 'ASRock')\n",
      "(105, 'ZEBRONICS Zeb-H61 Motherboard', 23.7, 'ZEBRONICS')\n",
      "(106, 'ASRock B550 Taichi Motherboard', 281.9, 'ASRock')\n",
      "(107, 'ASUS TUF GAMING B660M-PLUS WIFI D4 Motherboard', 226.27, 'ASUS')\n",
      "(108, 'ZEBRONICS ZEB-H81 Motherboard', 29.79, 'ZEBRONICS')\n",
      "(109, 'ASUS Prime H510M-E Motherboard', 90.15, 'ASUS')\n",
      "(110, 'ASRock B660 Pro RS Motherboard', 138.24, 'ASRock')\n",
      "(111, 'GIGABYTE MBG-B760MAORUSPROAX Motherboard', 288.52, 'GIGABYTE')\n",
      "(112, 'MSI MPG X570 GAMING PLUS ATX AM4 Gaming Motherboard', 284.91, 'MSI')\n",
      "(113, 'ASUS ROG STRIX B550-F GAMING WIFI II Motherboard', 288.52, 'ASUS')\n",
      "(114, 'ASUS TUF GAMING B660M-PLUS D4 Motherboard', 228.41, 'ASUS')\n",
      "(115, 'ASRock Z690 Steel Legend WiFi 6E Motherboard', 306.55, 'ASRock')\n",
      "(116, 'MSI MAG B560 TOMAHAWK WIFI Motherboard', 247.64, 'MSI')\n",
      "(117, 'ZEBRONICS ZEB-H61 LGA 1155 Socket ,128GB SATA 2.5\" SSD Combo Set Motherboard Motherboard', 45.56, 'ZEBRONICS')\n",
      "(118, 'MSI Z590 UNIFY Motherboard', 346.76, 'MSI')\n",
      "(119, 'Cansistant CONSISTENT_H61 Motherboard', 23.44, 'Cansistant')\n",
      "(200, 'GIGABYTE B560M-H V2 Motherboard', 85.95, 'GIGABYTE')\n",
      "(201, 'MSI B560M PRO-E Motherboard', 102.17, 'MSI')\n",
      "(202, 'ASRock Z690 Steel Legend Motherboard', 270.48, 'ASRock')\n",
      "(203, 'GIGABYTE B550-Gaming X V2 Motherboard', 147.26, 'GIGABYTE')\n",
      "(204, 'Matrix MXH61 Motherboard', 23.76, 'Matrix')\n",
      "(205, 'ASUS PRIME X670-P CSM Motherboard', 338.41, 'ASUS')\n",
      "(206, 'ASRock Z790 Steel legend WiFi Motherboard', 364.25, 'ASRock')\n",
      "(207, 'ASRock Z790 PG- ITX/TB4 Motherboard', 468.85, 'ASRock')\n",
      "(208, 'Dtech Gigabyte H81M-S Motherboard', 42.06, 'Dtech')\n",
      "(209, 'ZEBRONICS H61+128 SATA GB SSD + 4GB starlite DDR3 RAM with CORE i3 3RD GEN CPU Combo set Motherboard', 69.61, 'ZEBRONICS')\n",
      "(210, 'GIGABYTE Z790 UD AC Motherboard', 324.58, 'GIGABYTE')\n",
      "(211, 'ASRock B650E Steel Legend WiFi Motherboard', 329.39, 'ASRock')\n",
      "(212, 'Raspberry Pi 4 Model B 8GB RAM Kit with 32GB Noobs, LAN-mHDMI Cable, Power Supply, RPi 4B 8GB Motherboard', 156.27, 'Raspberry')\n",
      "(213, 'GIGABYTE B550-DS3H-AC Motherboard', 132.24, 'GIGABYTE')\n",
      "(214, 'Raspberry Pi 4 Model B 2GB RAM Kit with 32GB Noobs, LAN-mHDMI Cable, Power Supply, RPi 4B 2GB Motherboard', 102.19, 'Raspberry')\n",
      "(215, 'MSI MPG B550 Gaming Plus Motherboard', 216.38, 'MSI')\n",
      "(216, 'ASUS TUF GAMING B650M-PLUS WIFI Motherboard', 278.44, 'ASUS')\n",
      "(217, 'ASUS EX-B660M-V5 D4 Motherboard', 143.35, 'ASUS')\n",
      "(218, 'Dtech H110M4-C2H Motherboard', 36.05, 'Dtech')\n",
      "(219, 'MSI MEG Z490I UNIFY Mini-ATX LGA 1200 Gaming Motherboard', 236.44, 'MSI')\n",
      "(220, 'MSI MEG X570 UNIFY ATX AM4 Gaming Motherboard', 420.85, 'MSI')\n",
      "(221, 'ZEBRONICS H61M2+240GB WD SSD + 8GB starlite DDR3 RAM with CORE i5 3RD GEN CPU Combo set Motherboard', 86.56, 'ZEBRONICS')\n",
      "(222, 'Ant Value H61MAD3 Motherboard', 66.11, 'Ant')\n",
      "(223, 'ASUS TUF GAMING B650M-PLUS Motherboard', 259.49, 'ASUS')\n",
      "(224, 'GIGABYTE B550-Aorus Elite AX V2 Motherboard', 201.97, 'GIGABYTE')\n",
      "(225, 'ASUS Rog Strix Z690-A Gaming Wifi D4 Motherboard', 447.21, 'ASUS')\n",
      "(226, 'MSI MAG B550 TOMAHAWK Motherboard', 216.4, 'MSI')\n",
      "(227, 'ASRock B650 PG Lightning Motherboard', 250.05, 'ASRock')\n",
      "(228, 'ASRock B550 Pro4 Motherboard', 194.14, 'ASRock')\n",
      "(229, 'ZEBRONICS ZEB-G41 - D2 Motherboard', 28.73, 'ZEBRONICS')\n",
      "(230, 'ASRock Z690M-ITX/ax Motherboard', 258.46, 'ASRock')\n",
      "(231, 'Frontech H61/1155 DDR3 Motherboard', 24.75, 'Frontech')\n",
      "(232, 'ASRock Z590 OC Formula Motherboard', 670.94, 'ASRock')\n",
      "(233, 'ZEBRONICS G41-D3-COMBO-KIT Motherboard', 41.78, 'ZEBRONICS')\n",
      "(234, 'ASUS PROART B660-CREATOR D4 Motherboard', 307.87, 'ASUS')\n",
      "(235, 'ASRock Z590 Phantom Gaming4/AC Motherboard', 187.17, 'ASRock')\n",
      "(236, 'ASRock B650 Pro RS Motherboard', 263.87, 'ASRock')\n",
      "(237, 'MSI Z590 PRO WIFI Motherboard', 260.87, 'MSI')\n",
      "(238, 'GEONIX GX-H81 D3 Motherboard', 32.34, 'GEONIX')\n",
      "(239, 'ZEBRONICS G41 Motherboard', 24.03, 'ZEBRONICS')\n",
      "(362, 'ZEBRONICS ZEB H61 MBRD Motherboard', 26.44, 'ZEBRONICS')\n",
      "(363, 'MSI MEG Z690 Ace E-ATX Motherboard', 890.57, 'MSI')\n",
      "(364, 'MSI PRO Z690-A WIFI Motherboard', 348.63, 'MSI')\n",
      "(367, 'MSI Z490-A PRO ATX LGA 1200 Gaming Motherboard', 156.27, 'MSI')\n",
      "(368, 'ASRock Z690 Taichi Razer Edition Motherboard', 661.2, 'ASRock')\n",
      "(369, 'GIGABYTE ?B760M DS3H AX Motherboard', 210.37, 'GIGABYTE')\n",
      "(370, 'ASUS Tuf Gaming Z690-Plus D4 Motherboard', 306.54, 'ASUS')\n",
      "(371, 'ZEBRONICS H61+240GB CRUCIAL SSD + 4GB starlite DDR3 RAM with CORE i3 3RD GEN CPU Combo set Motherboard', 72.12, 'ZEBRONICS')\n",
      "(372, 'ZEBRONICS H61 Supported Socket 1155 RAM DDR3 Motherboard', 26.75, 'ZEBRONICS')\n",
      "(373, 'MSI MPG Z490 GAMING CARBON WIFI ATX LGA 1200 Gaming Motherboard', 335.16, 'MSI')\n",
      "(374, 'Raspberry Pi 4 Model B 4GB RAM Kit with 32GB Noobs, LAN-mHDMI Cable, Power Supply, RPi 4B 4GB Motherboard', 114.21, 'Raspberry')\n",
      "(376, 'ASUS Prime Z690M-Plus Motherboard', 252.57, 'ASUS')\n",
      "(377, 'ASRock Z790 Pro RS WiFi Motherboard', 346.82, 'ASRock')\n",
      "(378, 'ASUS ?TUF GAMING Z790-PLUS WIFI Motherboard', 432.78, 'ASUS')\n",
      "(379, 'MSI MPG Z490 GAMING EDGE WIFI ATX LGA 1200 Gaming Motherboard', 274.09, 'MSI')\n",
      "(380, 'ASRock Z790M PG Lightning/D4 Motherboard', 228.89, 'ASRock')\n",
      "(381, 'ZEBRONICS H61 Mboard + i5 3470 Processor + 4GB DDR3 Ram + CPU Fan Motherboard', 57.24, 'ZEBRONICS')\n",
      "(382, 'ASRock Z690M Phantom Gaming 4 Motherboard', 162.28, 'ASRock')\n",
      "(383, 'AARVEX 61 Motherboard', 36.67, 'AARVEX')\n",
      "(384, 'ASUS PRIME B660-PLUS D4 Motherboard', 204.36, 'ASUS')\n",
      "(385, 'ASUS PRIME X570- PRO/CSM Motherboard', 324.58, 'ASUS')\n",
      "(386, 'ASUS Tuf Gaming Z690-Plus Wifi D4 Motherboard', 307.84, 'ASUS')\n",
      "(387, 'ASUS TUF GAMING Z590-PLUS Motherboard', 238.02, 'ASUS')\n",
      "(388, 'ASUS EX B460M-V5 Motherboard', 105.1, 'ASUS')\n",
      "(389, 'ASUS PRIME X670 P WIFI CSM Motherboard', 360.68, 'ASUS')\n",
      "(390, 'FOXI FOXIN H81 MOTHERBOARD Motherboard', 46.65, 'FOXI')\n",
      "(391, 'Raspberry Pi 3 Model B 1GB RAM, 1.2GHz CPU, WiFi/BLE, 40 GPIO Pins Single Board Computer Motherboard', 55.89, 'Raspberry')\n",
      "(392, 'ZEBRONICS Zeb-H61M2 with M2 slot LGA 1155 Socket Motherboard', 29.44, 'ZEBRONICS')\n",
      "(393, 'ASRock Z790M -ITX WiFi Motherboard', 314.24, 'ASRock')\n",
      "(394, 'MSI MEG Z590I UNIFY Motherboard', 449.61, 'MSI')\n",
      "(395, 'ASUS PRIME B660M-A D4 Motherboard', 174.31, 'ASUS')\n",
      "(396, 'MSI MPG Z690 CARBON EK X Motherboard', 487.05, 'MSI')\n",
      "(397, 'MSI MPG Z690 EDGE WIFI DDR4 Motherboard', 385.91, 'MSI')\n",
      "(398, 'ASUS TUF Gaming Z590-Plus Wi-Fi Motherboard', 270.88, 'ASUS')\n",
      "(399, 'ZEBRONICS ZEB-G41 D3 Motherboard', 29.45, 'ZEBRONICS')\n",
      "(560, 'ZEBRONICS G41 Supported Socket 775 RAM DDR3 Motherboard', 24.27, 'ZEBRONICS')\n",
      "(561, 'MSI MPG Z590 GAMING EDGE WIFI Motherboard', 354.87, 'MSI')\n",
      "(562, 'ZEBRONICS ZEB-G41-D2S Motherboard', 27.77, 'ZEBRONICS')\n",
      "(563, 'GIGABYTE ?B760M DS3H AX DDR4 Motherboard', 204.36, 'GIGABYTE')\n",
      "(564, 'ZEBRONICS ZEB -H61 Motherboard', 26.33, 'ZEBRONICS')\n",
      "(565, 'ZEBRONICS ZEB-H81M2 with NVMe Slot + Scuda 256GB NVMe SSD Combo Set (LGA 1150) Motherboard', 57.09, 'ZEBRONICS')\n",
      "(566, 'Frontech H110/1151 DDR4 Motherboard', 45.91, 'Frontech')\n",
      "(567, 'zebion H-61 Motherboard Motherboard', 33.66, 'zebion')\n",
      "(568, 'Frontech H55/1156 Motherboard', 25.59, 'Frontech')\n",
      "(570, 'Dtech Lapcare H61 LA Motherboard', 28.84, 'Dtech')\n",
      "(571, 'PAC 4-Digit PC Motherboard Diagnostic Card with User Manual Motherboard Motherboard', 4.15, 'PAC')\n",
      "(572, 'IKIS New PCI 4-Digit PC Motherboard Diagnostic Card with User Manual Motherboard', 5.4, 'IKIS')\n",
      "(573, 'Dtech Gigabyte B75MS Motherboard with 3rd gen Core i3 Processor and 4Gb Ram Motherboard', 66.11, 'Dtech')\n",
      "(574, 'aht M3A785GM-LE Motherboard', 19.42, 'aht')\n",
      "(575, 'ZEBRONICS H81+128GB SATA SSD+4GB starlite DDR3 RAM with Pentium Dualcore G3250 CPU Combo Motherboard', 72.12, 'ZEBRONICS')\n",
      "(576, 'Dtech Gigabyte GA-H61M-S Motherboard', 30.04, 'Dtech')\n",
      "(577, 'Raspberry Pi 3 Model B Kit with Adapter Case LAN-HDMI Cable HeatSink SD Card & RPi 3B 1GB Motherboard', 66.11, 'Raspberry')\n",
      "(578, 'ZEBRONICS ZEBH61 CORE I5 2400 8 GB RAM, FAN Motherboard', 49.89, 'ZEBRONICS')\n",
      "(579, 'Dtech Asus M4N68T-M LE V2 Motherboard', 28.84, 'Dtech')\n",
      "(580, 'LAPCARE H110 Motherboard', 51.56, 'LAPCARE')\n",
      "(581, 'ZEBRONICS Z31/G31 Combo kit Motherboard', 45.08, 'ZEBRONICS')\n",
      "(582, 'GIGABYTE B560M-DS2H-AC Motherboard', 149.07, 'GIGABYTE')\n",
      "(583, 'ZEBRONICS H61+128 SATA GB SSD + 4GB starlite DDR3 RAM Combo set Motherboard', 60.86, 'ZEBRONICS')\n",
      "(584, 'ASUS ROG STRIX B660A-GAMING-WiFi D4 Motherboard', 282.5, 'ASUS')\n",
      "(585, 'ZEBRONICS ZEB-H61M2 with NVMe Slot + Scuda 256GB NVMe SSD Combo Set Motherboard', 54.69, 'ZEBRONICS')\n",
      "(586, 'Raspberry Pi 4 Model B 2GB RAM Motherboard', 72.12, 'Raspberry')\n",
      "(587, 'ZEBRONICS H61M2+240GB WD SSD + 4GB starlite DDR3 RAM with CORE i3 3RD GEN CPU Combo set Motherboard', 78.14, 'ZEBRONICS')\n",
      "(588, 'ZEBRONICS G41+128 GB SATA SSD + 4GB starlite DDR3 RAM with Core 2 Duo CPU Combo set Motherboard', 62.65, 'ZEBRONICS')\n",
      "(589, 'Cmos Micro Lithium Cell CR2032 Motherboard', 2.43, 'Cmos')\n",
      "(590, 'RashMove FMB-G41(DDR3) Motherboard', 54.1, 'RashMove')\n",
      "(591, 'ZEB ZEBRONICS_H61M2 Motherboard', 39.06, 'ZEB')\n",
      "(592, 'GIGABYTE 110MH Motherboard', 90.15, 'GIGABYTE')\n",
      "(593, 'MSI Z590 PLUS Motherboard', 212.18, 'MSI')\n",
      "(594, 'TECHON New PCI 4-digit PC Diagnostic Card With User Manual (red) Motherboard', 3.98, 'TECHON')\n",
      "(595, 'ZEBRONICS H81M2+ Starlite 256GB NVME SSD & 8GB RAM with Intel Core i3 Processor combo set Motherboard', 107.57, 'ZEBRONICS')\n",
      "(596, 'ZEBRONICS H81+240GB CRUCIAL SSD + 4GB starlite DDR3 RAM with CORE i3 4Th GEN CPU Combo set Motherboard', 93.16, 'ZEBRONICS')\n",
      "(597, 'ZEBRONICS ZEB-H61 Motherboard', 29.44, 'ZEBRONICS')\n",
      "(598, 'Dtech ECS H61H2 Motherboard Intel G2020 Processor 2Gb Adata Ram DDR3 Motherboard', 33.65, 'Dtech')\n",
      "(599, 'ZEBRONICS H55-COMBO-KIT-4GB Motherboard', 58.31, 'ZEBRONICS')\n",
      "(800, 'sillora X99 + E2 2620 V3 Motherboard', 120.21, 'sillora')\n",
      "(801, 'ZEBRONICS H61-i5-4GB-FAN Motherboard', 56.49, 'ZEBRONICS')\n",
      "(802, 'ZEBRONICS ZEB-H61M2 with NVMe Slot + Starlite 4GB RAM + Scuda 256GB NVMe SSD Combo Set Motherboard', 76.33, 'ZEBRONICS')\n",
      "(803, 'Dtech Asus P5KPL AMPS Motherboard with dual core processor and 2Gb RAM Motherboard', 30.06, 'Dtech')\n",
      "(804, 'mytechvision X99 Motherboard', 156.27, 'mytechvision')\n",
      "(805, 'Matrix MXG41 Motherboard', 23.25, 'Matrix')\n",
      "(806, 'FOXI FOXIN H61 MB 2 YEAR ARANTY Motherboard', 27.07, 'FOXI')\n",
      "(807, 'ZEBRONICS ZEB-H55 Motherboard', 33.54, 'ZEBRONICS')\n",
      "(809, 'ZEBRONICS H61+128GB SATA SSD+4GB starlite DDR3 RAM with PENTIUM DUALCORE CPU Combo Motherboard', 66.11, 'ZEBRONICS')\n",
      "(810, 'ZEBRONICS H61 + i5 3570 Processor + 4Gb Ram + CPU Fan Motherboard', 72.36, 'ZEBRONICS')\n",
      "(811, 'ZEBRONICS ZEB-H61M2 built in NVMe Slot + Scuda 128GB NVMe SSD+4GB DDR3 RAM Combo Set Motherboard', 69.99, 'ZEBRONICS')\n",
      "(812, 'gebronic ZEBRONIC_H61M2 Motherboard', 25.23, 'gebronic')\n",
      "(813, 'mytechvision X99 LGA 2011 Motherboard', 120.03, 'mytechvision')\n",
      "(814, 'ASRock Z690 PG Riptide Motherboard', 244.03, 'ASRock')\n",
      "(815, 'Dtech Gigabyte GA-N3050M-D3P Motherboard', 30.04, 'Dtech')\n",
      "(817, 'mytechvision X79 motherboard with E5 2650 processor Motherboard', 108.19, 'mytechvision')\n",
      "(818, 'SmartCam NanoPi M1 Plus Allwinner H3,Quad-Core A7@1.2GHz Compatible Raspberry Pi Motherboard', 108.19, 'SmartCam')\n",
      "(819, 'ZEBRONICS G41-D2SP COMBO WITH C2D PROCESSOR Motherboard', 47.97, 'ZEBRONICS')\n",
      "(820, 'Dtech Intel D245KT Motherboard', 21.63, 'Dtech')\n",
      "(821, 'ZEBRONICS ZEB H55 (HDMI - MSATA) Motherboard', 29.63, 'ZEBRONICS')\n",
      "(822, 'Dtech Acer H81-M1 Motherboard', 30.04, 'Dtech')\n",
      "(823, 'Dtech Asus P5GAsus P5G41T-MLX Motherboard', 27.64, 'Dtech')\n",
      "(824, 'Dtech Intel D945GCPE Motherboard', 20.43, 'Dtech')\n",
      "(825, 'ZEBRONICS ZEB-G31-D2-COMBO KIT Motherboard', 45.67, 'ZEBRONICS')\n",
      "(826, 'ZEBRONICS Zeb-H61 Motherboard LGA1155 Socket Micro ATX DDR3 Motherboard', 29.44, 'ZEBRONICS')\n",
      "(827, 'Dtech Acer H57-AD With i3 Processor 2Gb Ram Motherboard', 34.85, 'Dtech')\n",
      "(828, 'aht Board_001 Motherboard', 19.84, 'aht')\n",
      "(829, 'Dtech Asus M2N68 AM PLUS Motherboard', 24.03, 'Dtech')\n",
      "(830, 'Dtech Foxin G31 Motherboard with Dual Core Processor and 2Gb DDR2 RAM Motherboard', 29.44, 'Dtech')\n",
      "(831, 'ZEBRONICS ZEB-G41-D3-4GB-COMBO Motherboard', 40.24, 'ZEBRONICS')\n",
      "(832, 'Dtech Acer H310CH5-M23HV Motherboard', 40.86, 'Dtech')\n",
      "(833, 'techut PCI 4-Digit PC Motherboard Diagnostic Card with User Manual Motherboard', 4.2, 'techut')\n",
      "(834, 'Dtech Intel H61 Motherboard with Core i3 Processor and 4Gb Ram Motherboard', 50.48, 'Dtech')\n",
      "(836, 'Dtech ECS G41 Motherboard Pentium E5200 2.5Ghz 2Gb DDR3 RAM Motherboard', 32.46, 'Dtech')\n",
      "(837, 'MSI Z690-A DDR4 Motherboard', 236.44, 'MSI')\n",
      "(838, 'Zingsha X99 Dual CPU Motherboard with Intel Xeon 2699 v3 CPU and 64 GB RAM Motherboard', 704.0, 'Zingsha')\n",
      "(839, 'GIGABYTE B550M DS3H Motherboard', 116.0, 'GIGABYTE')\n",
      "(1080, 'Maxwell Arduino UNO R3 Board ATmega328P with FREE USB Cable Motherboard', 10.81, 'Maxwell')\n",
      "(1081, 'Dtech Zebronics G31 Series Motherboard Motherboard', 22.83, 'Dtech')\n",
      "(1082, 'Dtech Asus P8H61M LX3 Motherboard', 54.09, 'Dtech')\n",
      "(1083, 'Dtech Lapcare G31 Motherboard Motherboard', 22.83, 'Dtech')\n",
      "(1084, 'ZEBRONICS Zeb H-61M2 Motherboard LGA 1155 Socket with M2 slot Motherboard', 29.44, 'ZEBRONICS')\n",
      "(1085, 'Mak World 4 Digi PC Motherboard Diagnostic Card Motherboard', 3.98, 'Mak')\n",
      "(1086, 'ASHK AS-HK110M-H-R1 Motherboard', 116.61, 'ASHK')\n",
      "(1087, 'Dtech M5A78L-MLX AM3+ Motherboard', 30.04, 'Dtech')\n",
      "(1088, 'DHRUV-PRO 3In1 Mini PCI- PCI-E LPC Laptop Analyzer Tester Diagnostic Card Post Test Motherboard', 10.81, 'DHRUV-PRO')\n",
      "(1089, 'GIGABYTE H81M-H Motherboard', 75.73, 'GIGABYTE')\n",
      "(1090, 'ASRock Z590 Phantom Gaming4 Motherboard', 177.07, 'ASRock')\n",
      "(1091, 'ASRock Z590 Taichi Motherboard', 530.52, 'ASRock')\n",
      "(1092, 'MSI X299 PRO Motherboard', 384.69, 'MSI')\n",
      "(1093, 'MSI MAG Z590 TORPEDO Motherboard', 295.73, 'MSI')\n",
      "(1094, 'MSI MPG Z590 GAMING PLUS Motherboard', 308.95, 'MSI')\n",
      "(1095, 'ZEBRONICS ZEB-H61M2-4GB-i5-FAN-P Motherboard', 50.48, 'ZEBRONICS')\n",
      "(1096, 'MSI MPG Z690 FORCE WIFI ATX Motherboard', 519.36, 'MSI')\n",
      "(1097, 'ZEBRONICS H110 Motherboard with M.2 Nvme Slot Motherboard', 64.55, 'ZEBRONICS')\n",
      "(1098, 'Frontech 0471 Motherboard', 32.52, 'Frontech')\n",
      "(1099, 'ZEBRONICS ZEB-H55-D3 Motherboard', 28.55, 'ZEBRONICS')\n",
      "(1100, 'GIGABYTE Z690 UD AX Motherboard', 384.69, 'GIGABYTE')\n",
      "(1101, 'MSI MEG B550 UNIFY-X Motherboard', 366.66, 'MSI')\n",
      "(1102, 'ZEBRONICS H61-i3-4gb Pfan Motherboard', 40.86, 'ZEBRONICS')\n",
      "(1103, 'Shining sun Vision Pi Zero 2 W A-Tiny Computer Motherboard', 30.04, 'Shining')\n",
      "(1104, 'LAPCARE LKMBMB8006 Motherboard', 78.13, 'LAPCARE')\n",
      "(1105, 'ASUS PRIME H670-PLUS D4 Motherboard', 216.38, 'ASUS')\n",
      "(1106, 'MSI MAG Z690 TOMAHAWK WIFI Motherboard', 396.71, 'MSI')\n",
      "(1107, 'MSI Z590 A PRO Motherboard', 199.4, 'MSI')\n",
      "(1108, 'LAPCARE h81 1150 Motherboard', 38.46, 'LAPCARE')\n",
      "(1109, 'GEONIX H61 Motherboard', 21.01, 'GEONIX')\n",
      "(1110, 'ZEBRONICS ZEB-H81M2 Motherboard', 33.65, 'ZEBRONICS')\n",
      "(1111, 'ZEBRONICS ZEB-H81 Motherboard', 34.25, 'ZEBRONICS')\n",
      "(1112, 'ASUS TUF GAMING X670E PLUS WIFI Motherboard', 477.87, 'ASUS')\n",
      "(1113, 'powerx PMB-H61 Motherboard', 45.68, 'powerx')\n",
      "(1114, 'ASUS TUF GAMING B650-PLUS Motherboard', 300.43, 'ASUS')\n",
      "(1115, 'GIGABYTE ?Z690 AORUS ULTRA Motherboard', 500.1, 'GIGABYTE')\n",
      "(1116, 'GIGABYTE B760M DS3H DDR4 Motherboard', 180.32, 'GIGABYTE')\n",
      "(1117, 'GIGABYTE ?Z690 Motherboard', 480.87, 'GIGABYTE')\n",
      "(1118, 'Thunderz 1155 Motherboard', 42.06, 'Thunderz')\n",
      "(1119, 'GIGABYTE Z690UD Motherboard', 300.54, 'GIGABYTE')\n",
      "(1403, 'GIGABYTE ?B760M AORUS ELITE AX Motherboard', 288.52, 'GIGABYTE')\n",
      "(1404, 'RashMove FMB-G41 SOcket 775 Motherboard', 52.9, 'RashMove')\n",
      "(1405, 'GIGABYTE B760M AORUS PRO DDR4 Motherboard', 240.43, 'GIGABYTE')\n",
      "(1406, 'Enter ENTERH61 Motherboard', 30.78, 'Enter')\n",
      "(1407, 'GIGABYTE B560 Motherboard', 300.54, 'GIGABYTE')\n",
      "(1408, 'ASUS Prime A520M-E Motherboard', 84.14, 'ASUS')\n",
      "(1409, 'ZEBRONICS H81+128 GB SATA SSD + 4GB starlite DDR3 RAM with core i3 4th en CPUCombo set Motherboard', 84.14, 'ZEBRONICS')\n",
      "(1410, 'ZEBRONICS H61M2+ Starlite 256GB NVME SSD & 8GB RAM with Intel Core i3 Processor comboset Motherboard', 84.14, 'ZEBRONICS')\n",
      "(1411, 'GIGABYTE B450 Motherboard', 120.21, 'GIGABYTE')\n",
      "(1412, 'LAPCARE MXG41 Motherboard', 28.24, 'LAPCARE')\n",
      "(1413, 'ZEBRONICS H55-COMBO-KIT-2GB Motherboard', 69.57, 'ZEBRONICS')\n",
      "(1414, 'ZEBRONICS H81M2+240GB WD SSD + 4GB starlite DDR3 RAM with CORE i3 4Th GEN CPU Combo set Motherboard', 100.98, 'ZEBRONICS')\n",
      "(1415, 'ZEBRONICS G31-D2-775 Motherboard', 36.05, 'ZEBRONICS')\n",
      "(1416, 'TNC COMPUTER FT-0470 Motherboard', 26.21, 'TNC')\n",
      "(1417, 'Frontech FT G41 FT-0456 Motherboard', 29.45, 'Frontech')\n",
      "(1418, 'ZEBRONICS G41 D3 Motherboard', 36.05, 'ZEBRONICS')\n",
      "(1419, 'ZEBRONICS G41-D3-COMBO-KIT Motherboard Free mouse & wifi any brand Motherboard', 66.71, 'ZEBRONICS')\n",
      "(1420, 'ZEBRONICS H61M2+240GB WD SSD + 8GB starlite DDR3 RAM with CORE i3 3RD GEN CPU Combo set Motherboard', 81.15, 'ZEBRONICS')\n",
      "(1421, 'Blue Feather MB H-61 Motherboard', 36.07, 'Blue')\n",
      "(1422, 'FOXI FOXIN - G41 DDR3 Motherboard', 39.66, 'FOXI')\n",
      "(1423, 'ZEBRONICS ZEB-H61M2 built in NVMe Slot + SCUDA 512GB NVMe SSD Combo Set Motherboard', 72.12, 'ZEBRONICS')\n",
      "(1424, 'ZEBRONICS H61 kit Motherboard', 86.32, 'ZEBRONICS')\n",
      "(1425, 'ZEBRONICS ZEB55 Motherboard', 28.84, 'ZEBRONICS')\n",
      "(1426, 'LAPCARE (LPMH510) Motherboard', 90.15, 'LAPCARE')\n",
      "(1427, 'Enter ENTERG41 Motherboard', 32.46, 'Enter')\n",
      "(1428, 'ZEBRONICS H61M2+ Starlite 256GB NVME SSD & 4GB DDR3 RAM with Core i3(3rd Gen) CPU comboset Motherboard', 84.14, 'ZEBRONICS')\n",
      "(1429, 'ZEBRONICS H61M2+ Starlite 128GB NVME SSD & 4GB DDR3 RAM with PENTIUM DUALCORE CPU comboset Motherboard', 70.33, 'ZEBRONICS')\n",
      "(1430, 'KRYSTAA KST-H613 Motherboard', 29.21, 'KRYSTAA')\n",
      "(1431, 'ZEBRONICS Zeb-h61m2p Motherboard', 27.64, 'ZEBRONICS')\n",
      "(1432, 'zebion Marlin H55 Motherboard', 38.47, 'zebion')\n",
      "(1433, 'ZEBRONICS ZEB-H81M2 with NVMe Slot + Starlite 4GB RAM + Scuda 256GB NVMe SSD Combo Set Motherboard', 69.73, 'ZEBRONICS')\n",
      "(1434, 'ZEBRONICS ZEB H81 MB Motherboard', 34.25, 'ZEBRONICS')\n",
      "(1435, 'Raspberry Pi Zero 2W A-Tiny Computer Motherboard', 30.04, 'Raspberry')\n",
      "(1436, 'Frantech Frontech_H61 Motherboard', 39.66, 'Frantech')\n",
      "(1437, 'ZEBRONICS H55+128GB SATA SSD + 4GB starlite DDR3 RAM with CORE i3 1ST GEN CPU Combo set Motherboard', 82.95, 'ZEBRONICS')\n",
      "(1438, 'nVIDIA Jetson Nano 4GB Developer Kit - B01 Model Motherboard', 234.43, 'nVIDIA')\n",
      "(1439, 'ZEBRONICS Zeb-H61M2 Motherboard', 29.44, 'ZEBRONICS')\n",
      "308\n"
     ]
    }
   ],
   "source": [
    "#quick test query\n",
    "from sqlalchemy import text\n",
    "connection = engine.connect()\n",
    "\n",
    "query = text(\"select * from mobo\")\n",
    "result = connection.execute(query)\n",
    "\n",
    "counter = 0\n",
    "for row in result:\n",
    "    counter+=1\n",
    "    print(row)\n",
    "    \n",
    "print(counter)\n",
    "result.close()\n",
    "connection.close()"
   ],
   "metadata": {
    "collapsed": false,
    "ExecuteTime": {
     "end_time": "2023-09-30T11:24:12.155052900Z",
     "start_time": "2023-09-30T11:24:12.147537700Z"
    }
   },
   "id": "28d8f22cd1a39f3c"
  }
 ],
 "metadata": {
  "kernelspec": {
   "display_name": "Python 3",
   "language": "python",
   "name": "python3"
  },
  "language_info": {
   "codemirror_mode": {
    "name": "ipython",
    "version": 2
   },
   "file_extension": ".py",
   "mimetype": "text/x-python",
   "name": "python",
   "nbconvert_exporter": "python",
   "pygments_lexer": "ipython2",
   "version": "2.7.6"
  }
 },
 "nbformat": 4,
 "nbformat_minor": 5
}
