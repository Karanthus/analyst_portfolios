{
  "cells": [
    {
      "cell_type": "code",
      "execution_count": null,
      "metadata": {
        "id": "tT6NTZMtCDCf"
      },
      "outputs": [],
      "source": [
        "import matplotlib.pyplot as plt\n",
        "import pandas as pd"
      ]
    },
    {
      "cell_type": "code",
      "execution_count": null,
      "metadata": {
        "id": "bUU7wohBCJvI"
      },
      "outputs": [],
      "source": [
        "data = pd.read_csv('September_MTTR.csv')"
      ]
    },
    {
      "cell_type": "code",
      "execution_count": null,
      "metadata": {
        "id": "YM98pgkECMTe"
      },
      "outputs": [],
      "source": [
        "data['MTTR']"
      ]
    },
    {
      "cell_type": "code",
      "execution_count": null,
      "metadata": {
        "id": "44GwqMoiCU8x"
      },
      "outputs": [],
      "source": [
        "data_cleared = data[data['Number of stops'] > 2]\n",
        "data_cleared = data_cleared[['Machine name','Number of stops','MTTR']]\n",
        "data_cleared = data_cleared[data_cleared['MTTR'] != \"0:00:00\"]\n",
        "data_cleared = data_cleared.head() # Return the top 5 values\n",
        "data_cleared"
      ]
    },
    {
      "cell_type": "code",
      "execution_count": null,
      "metadata": {
        "id": "5aU2vuBDK2EB"
      },
      "outputs": [],
      "source": [
        "def to_sec():\n",
        "    time = [string.split(':') for string in list((data_cleared['MTTR']))]\n",
        "    second = []\n",
        "\n",
        "    for i in range(len(time)):\n",
        "        second.append(int(time[i][0]) * 3600 + int(time[i][1]) * 60 + int(time[i][2]))\n",
        "    return second\n",
        "\n",
        "print(to_sec())\n"
      ]
    },
    {
      "cell_type": "code",
      "execution_count": null,
      "metadata": {
        "id": "EzfaOUBUD6MF"
      },
      "outputs": [],
      "source": [
        "machines = list(data_cleared['Machine name'])\n",
        "mttr = list(data_cleared['MTTR'])\n",
        "values = to_sec()"
      ]
    },
    {
      "cell_type": "code",
      "execution_count": null,
      "metadata": {
        "id": "gBpstOd_Ge2j"
      },
      "outputs": [],
      "source": [
        "mttr = mttr[::-1]\n",
        "mttr"
      ]
    },
    {
      "cell_type": "code",
      "execution_count": null,
      "metadata": {
        "id": "T5SPvyFrHyCs"
      },
      "outputs": [],
      "source": [
        "machines = machines[::-1]\n",
        "machines"
      ]
    },
    {
      "cell_type": "code",
      "execution_count": null,
      "metadata": {
        "id": "v0BTeG6dOfUr"
      },
      "outputs": [],
      "source": [
        "values = values[::-1]\n",
        "values"
      ]
    },
    {
      "cell_type": "code",
      "execution_count": null,
      "metadata": {
        "id": "hi3z7P9yEBQE"
      },
      "outputs": [],
      "source": [
        "# Increase the figure size\n",
        "plt.figure(figsize=(10, 8))\n",
        "\n",
        "# Create the vertical bar plot\n",
        "plt.bar(machines, values, width = 0.3)\n",
        "#plt.xlabel('Machine name', fontweight = 'bold')\n",
        "plt.ylabel('MTTR in seconds')\n",
        "plt.title('MTTR')\n",
        "\n",
        "# Rotate X-axis labels for readability\n",
        "plt.xticks()\n",
        "\n",
        "# Display the MTTR values on top of the bars\n",
        "for i in range(len(values)):\n",
        "    plt.text(i, values[i] + 100, mttr[i], ha='center', va='bottom')\n",
        "\n",
        "#plt.gca().invert_yaxis()  # Invert the Y-axis to display the first machine at the top\n",
        "plt.tight_layout()\n",
        "plt.show()"
      ]
    }
  ],
  "metadata": {
    "colab": {
      "authorship_tag": "ABX9TyOxWVOKV+aUqPbXAjNgOr6Z",
      "provenance": []
    },
    "kernelspec": {
      "display_name": "Python 3",
      "name": "python3"
    },
    "language_info": {
      "codemirror_mode": {
        "name": "ipython",
        "version": 3
      },
      "file_extension": ".py",
      "mimetype": "text/x-python",
      "name": "python",
      "nbconvert_exporter": "python",
      "pygments_lexer": "ipython3",
      "version": "3.11.3"
    }
  },
  "nbformat": 4,
  "nbformat_minor": 0
}
