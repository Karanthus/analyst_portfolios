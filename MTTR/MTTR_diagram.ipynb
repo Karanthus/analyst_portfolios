{
  "cells": [
    {
      "cell_type": "code",
      "execution_count": 30,
      "metadata": {
        "id": "tT6NTZMtCDCf"
      },
      "outputs": [],
      "source": [
        "import matplotlib.pyplot as plt\n",
        "import pandas as pd"
      ]
    },
    {
      "cell_type": "code",
      "execution_count": 31,
      "metadata": {
        "id": "bUU7wohBCJvI"
      },
      "outputs": [],
      "source": [
        "data = pd.read_csv('September_MTTR.csv')"
      ]
    },
    {
      "cell_type": "code",
      "execution_count": 32,
      "metadata": {
        "id": "YM98pgkECMTe"
      },
      "outputs": [
        {
          "data": {
            "text/plain": [
              "0     8:23:53\n",
              "1     4:58:19\n",
              "2     3:22:56\n",
              "3     3:11:30\n",
              "4     3:09:10\n",
              "       ...   \n",
              "63    0:00:00\n",
              "64    0:00:00\n",
              "65    0:00:00\n",
              "66    0:00:00\n",
              "67    0:00:00\n",
              "Name: MTTR, Length: 68, dtype: object"
            ]
          },
          "execution_count": 32,
          "metadata": {},
          "output_type": "execute_result"
        }
      ],
      "source": [
        "data['MTTR']"
      ]
    },
    {
      "cell_type": "code",
      "execution_count": 33,
      "metadata": {
        "id": "44GwqMoiCU8x"
      },
      "outputs": [
        {
          "data": {
            "text/html": [
              "<div>\n",
              "<style scoped>\n",
              "    .dataframe tbody tr th:only-of-type {\n",
              "        vertical-align: middle;\n",
              "    }\n",
              "\n",
              "    .dataframe tbody tr th {\n",
              "        vertical-align: top;\n",
              "    }\n",
              "\n",
              "    .dataframe thead th {\n",
              "        text-align: right;\n",
              "    }\n",
              "</style>\n",
              "<table border=\"1\" class=\"dataframe\">\n",
              "  <thead>\n",
              "    <tr style=\"text-align: right;\">\n",
              "      <th></th>\n",
              "      <th>Machine name</th>\n",
              "      <th>Number of stops</th>\n",
              "      <th>MTTR</th>\n",
              "    </tr>\n",
              "  </thead>\n",
              "  <tbody>\n",
              "    <tr>\n",
              "      <th>4</th>\n",
              "      <td>Placeholder 5</td>\n",
              "      <td>18.0</td>\n",
              "      <td>3:09:10</td>\n",
              "    </tr>\n",
              "    <tr>\n",
              "      <th>5</th>\n",
              "      <td>Placeholder 6</td>\n",
              "      <td>7.0</td>\n",
              "      <td>1:34:07</td>\n",
              "    </tr>\n",
              "    <tr>\n",
              "      <th>6</th>\n",
              "      <td>Placeholder 7</td>\n",
              "      <td>8.0</td>\n",
              "      <td>1:07:59</td>\n",
              "    </tr>\n",
              "    <tr>\n",
              "      <th>8</th>\n",
              "      <td>Placeholder 9</td>\n",
              "      <td>4.0</td>\n",
              "      <td>0:54:26</td>\n",
              "    </tr>\n",
              "    <tr>\n",
              "      <th>10</th>\n",
              "      <td>Placeholder 11</td>\n",
              "      <td>3.0</td>\n",
              "      <td>0:49:17</td>\n",
              "    </tr>\n",
              "  </tbody>\n",
              "</table>\n",
              "</div>"
            ],
            "text/plain": [
              "      Machine name  Number of stops     MTTR\n",
              "4    Placeholder 5             18.0  3:09:10\n",
              "5    Placeholder 6              7.0  1:34:07\n",
              "6    Placeholder 7              8.0  1:07:59\n",
              "8    Placeholder 9              4.0  0:54:26\n",
              "10  Placeholder 11              3.0  0:49:17"
            ]
          },
          "execution_count": 33,
          "metadata": {},
          "output_type": "execute_result"
        }
      ],
      "source": [
        "data_cleared = data[data['Number of stops'] > 2]\n",
        "data_cleared = data_cleared[['Machine name','Number of stops','MTTR']]\n",
        "data_cleared = data_cleared[data_cleared['MTTR'] != \"0:00:00\"]\n",
        "data_cleared = data_cleared.head() # Return the top 5 values\n",
        "data_cleared"
      ]
    },
    {
      "cell_type": "code",
      "execution_count": 34,
      "metadata": {
        "id": "5aU2vuBDK2EB"
      },
      "outputs": [
        {
          "name": "stdout",
          "output_type": "stream",
          "text": [
            "[11350, 5647, 4079, 3266, 2957]\n"
          ]
        }
      ],
      "source": [
        "def to_sec():\n",
        "    time = [string.split(':') for string in list((data_cleared['MTTR']))]\n",
        "    second = []\n",
        "\n",
        "    for i in range(len(time)):\n",
        "        second.append(int(time[i][0]) * 3600 + int(time[i][1]) * 60 + int(time[i][2]))\n",
        "    return second\n",
        "\n",
        "print(to_sec())\n"
      ]
    },
    {
      "cell_type": "code",
      "execution_count": 35,
      "metadata": {
        "id": "EzfaOUBUD6MF"
      },
      "outputs": [],
      "source": [
        "machines = list(data_cleared['Machine name'])\n",
        "mttr = list(data_cleared['MTTR'])\n",
        "values = to_sec()"
      ]
    },
    {
      "cell_type": "code",
      "execution_count": 36,
      "metadata": {
        "id": "hi3z7P9yEBQE"
      },
      "outputs": [
        {
          "data": {
            "image/png": "[encoded data removed]",
            "text/plain": [
              "<Figure size 1000x800 with 1 Axes>"
            ]
          },
          "metadata": {},
          "output_type": "display_data"
        }
      ],
      "source": [
        "# Increase the figure size\n",
        "plt.figure(figsize=(10, 8))\n",
        "\n",
        "# Create the vertical bar plot\n",
        "plt.bar(machines, values, width = 0.3)\n",
        "#plt.xlabel('Machine name', fontweight = 'bold')\n",
        "plt.ylabel('MTTR in seconds')\n",
        "plt.title('MTTR')\n",
        "\n",
        "# Rotate X-axis labels for readability\n",
        "plt.xticks()\n",
        "\n",
        "# Display the MTTR values on top of the bars\n",
        "for i in range(len(values)):\n",
        "    plt.text(i, values[i] + 100, mttr[i], ha='center', va='bottom')\n",
        "\n",
        "plt.tight_layout()\n",
        "plt.show()"
      ]
    }
  ],
  "metadata": {
    "colab": {
      "authorship_tag": "ABX9TyOxWVOKV+aUqPbXAjNgOr6Z",
      "provenance": []
    },
    "kernelspec": {
      "display_name": "Python 3",
      "name": "python3"
    },
    "language_info": {
      "codemirror_mode": {
        "name": "ipython",
        "version": 3
      },
      "file_extension": ".py",
      "mimetype": "text/x-python",
      "name": "python",
      "nbconvert_exporter": "python",
      "pygments_lexer": "ipython3",
      "version": "3.11.3"
    }
  },
  "nbformat": 4,
  "nbformat_minor": 0
}
