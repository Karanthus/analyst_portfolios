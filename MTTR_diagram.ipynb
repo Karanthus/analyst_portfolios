{
  "nbformat": 4,
  "nbformat_minor": 0,
  "metadata": {
    "colab": {
      "provenance": [],
      "authorship_tag": "ABX9TyOxWVOKV+aUqPbXAjNgOr6Z"
    },
    "kernelspec": {
      "name": "python3",
      "display_name": "Python 3"
    },
    "language_info": {
      "name": "python"
    }
  },
  "cells": [
    {
      "cell_type": "code",
      "execution_count": 90,
      "metadata": {
        "id": "tT6NTZMtCDCf"
      },
      "outputs": [],
      "source": [
        "import matplotlib.pyplot as plt\n",
        "import pandas as pd"
      ]
    },
    {
      "cell_type": "code",
      "source": [
        "data = pd.read_csv('September_MTTR.csv')"
      ],
      "metadata": {
        "id": "bUU7wohBCJvI"
      },
      "execution_count": 91,
      "outputs": []
    },
    {
      "cell_type": "code",
      "source": [
        "data['MTTR']"
      ],
      "metadata": {
        "id": "YM98pgkECMTe"
      },
      "execution_count": null,
      "outputs": []
    },
    {
      "cell_type": "code",
      "source": [
        "data_cleared = data[data['Number of stops'] > 2]\n",
        "data_cleared = data_cleared[['Machine name','Number of stops','MTTR']]\n",
        "data_cleared = data_cleared[data_cleared['MTTR'] != \"0:00:00\"]\n",
        "data_cleared = data_cleared.head() # Return the top 5 values\n",
        "data_cleared"
      ],
      "metadata": {
        "id": "44GwqMoiCU8x"
      },
      "execution_count": null,
      "outputs": []
    },
    {
      "cell_type": "code",
      "source": [
        "def to_sec():\n",
        "    time = [string.split(':') for string in list((data_cleared['MTTR']))]\n",
        "    second = []\n",
        "\n",
        "    for i in range(len(time)):\n",
        "        second.append(int(time[i][0]) * 3600 + int(time[i][1]) * 60 + int(time[i][2]))\n",
        "    return second\n",
        "\n",
        "print(to_sec())\n"
      ],
      "metadata": {
        "id": "5aU2vuBDK2EB"
      },
      "execution_count": null,
      "outputs": []
    },
    {
      "cell_type": "code",
      "source": [
        "machines = list(data_cleared['Machine name'])\n",
        "mttr = list(data_cleared['MTTR'])\n",
        "values = to_sec()"
      ],
      "metadata": {
        "id": "EzfaOUBUD6MF"
      },
      "execution_count": null,
      "outputs": []
    },
    {
      "cell_type": "code",
      "source": [
        "mttr = mttr[::-1]\n",
        "mttr"
      ],
      "metadata": {
        "id": "gBpstOd_Ge2j"
      },
      "execution_count": null,
      "outputs": []
    },
    {
      "cell_type": "code",
      "source": [
        "machines = machines[::-1]\n",
        "machines"
      ],
      "metadata": {
        "id": "T5SPvyFrHyCs"
      },
      "execution_count": null,
      "outputs": []
    },
    {
      "cell_type": "code",
      "source": [
        "values = values[::-1]\n",
        "values"
      ],
      "metadata": {
        "id": "v0BTeG6dOfUr"
      },
      "execution_count": null,
      "outputs": []
    },
    {
      "cell_type": "code",
      "source": [
        "# Increase the figure size\n",
        "plt.figure(figsize=(10, 8))\n",
        "\n",
        "# Create the vertical bar plot\n",
        "plt.bar(machines, values, width = 0.3)\n",
        "#plt.xlabel('Machine name', fontweight = 'bold')\n",
        "plt.ylabel('MTTR in seconds')\n",
        "plt.title('MTTR')\n",
        "\n",
        "# Rotate X-axis labels for readability\n",
        "plt.xticks()\n",
        "\n",
        "# Display the MTTR values on top of the bars\n",
        "for i in range(len(values)):\n",
        "    plt.text(i, values[i] + 100, mttr[i], ha='center', va='bottom')\n",
        "\n",
        "#plt.gca().invert_yaxis()  # Invert the Y-axis to display the first machine at the top\n",
        "plt.tight_layout()\n",
        "plt.show()"
      ],
      "metadata": {
        "id": "hi3z7P9yEBQE"
      },
      "execution_count": null,
      "outputs": []
    }
  ]
}
